{
 "cells": [
  {
   "cell_type": "code",
   "execution_count": 1,
   "id": "91ce683c-0655-4a98-8d17-affb457f6b98",
   "metadata": {
    "collapsed": true,
    "jupyter": {
     "outputs_hidden": true
    },
    "tags": []
   },
   "outputs": [
    {
     "name": "stdout",
     "output_type": "stream",
     "text": [
      "\u001b[31mERROR: Invalid requirement: 'scikit-learn=1.3.1' (from line 2 of requirements_ml.txt)\n",
      "Hint: = is not a valid operator. Did you mean == ?\u001b[0m\u001b[31m\n",
      "\u001b[0m"
     ]
    }
   ],
   "source": [
    "!python -m pip install -r requirements_ml.txt"
   ]
  },
  {
   "cell_type": "code",
   "execution_count": 19,
   "id": "aef91ea3-15d8-4a6c-94d5-252246e5dff0",
   "metadata": {
    "tags": []
   },
   "outputs": [],
   "source": [
    "from pathlib import Path\n",
    "\n",
    "import pandas as pd\n",
    "\n",
    "from sklearn.tree import DecisionTreeClassifier\n",
    "\n",
    "from epxpop import SynthPop\n",
    "from epxpop.pop import race_map as RACE_MAP, sex_map as SEX_MAP"
   ]
  },
  {
   "cell_type": "code",
   "execution_count": 3,
   "id": "8293d5a1-d235-4c95-be78-f0ad0ed79fd6",
   "metadata": {
    "tags": []
   },
   "outputs": [],
   "source": [
    "RESULTS_DIR = Path(\"results\")"
   ]
  },
  {
   "cell_type": "markdown",
   "id": "779de429-b5b6-4be2-9bfa-9abdc633fd0c",
   "metadata": {},
   "source": [
    "We focus specifically on results for Carson City county (FIPS code `32510`) for this example for speed and ease of processing. However, this could be straightforwardly scaled up to include all results for the State of Nevada."
   ]
  },
  {
   "cell_type": "code",
   "execution_count": 4,
   "id": "8d1ac709-f0f2-4924-ab05-bf1ce473fd95",
   "metadata": {
    "tags": []
   },
   "outputs": [],
   "source": [
    "selected_county = \"32510\""
   ]
  },
  {
   "cell_type": "markdown",
   "id": "388a7b34-2601-43ca-8365-e3d0441bcc5f",
   "metadata": {},
   "source": [
    "## Read simulation results data"
   ]
  },
  {
   "cell_type": "markdown",
   "id": "a96e2f4b-f8a8-406b-adf4-bd64989fafbf",
   "metadata": {},
   "source": [
    "Listing of agents who were diagnosed with diabetes by scenario, run number, and year"
   ]
  },
  {
   "cell_type": "code",
   "execution_count": 5,
   "id": "ed4e9936-ea3d-48e7-8de6-3a288d758866",
   "metadata": {
    "tags": []
   },
   "outputs": [
    {
     "data": {
      "text/html": [
       "<div>\n",
       "<style scoped>\n",
       "    .dataframe tbody tr th:only-of-type {\n",
       "        vertical-align: middle;\n",
       "    }\n",
       "\n",
       "    .dataframe tbody tr th {\n",
       "        vertical-align: top;\n",
       "    }\n",
       "\n",
       "    .dataframe thead th {\n",
       "        text-align: right;\n",
       "    }\n",
       "</style>\n",
       "<table border=\"1\" class=\"dataframe\">\n",
       "  <thead>\n",
       "    <tr style=\"text-align: right;\">\n",
       "      <th></th>\n",
       "      <th>scenario</th>\n",
       "      <th>run_id</th>\n",
       "      <th>sim_year</th>\n",
       "      <th>agent_id</th>\n",
       "      <th>insurance_status_id</th>\n",
       "    </tr>\n",
       "  </thead>\n",
       "  <tbody>\n",
       "    <tr>\n",
       "      <th>124509</th>\n",
       "      <td>no-program</td>\n",
       "      <td>1</td>\n",
       "      <td>2023</td>\n",
       "      <td>164129744</td>\n",
       "      <td>3</td>\n",
       "    </tr>\n",
       "    <tr>\n",
       "      <th>124510</th>\n",
       "      <td>no-program</td>\n",
       "      <td>1</td>\n",
       "      <td>2023</td>\n",
       "      <td>164129774</td>\n",
       "      <td>1</td>\n",
       "    </tr>\n",
       "    <tr>\n",
       "      <th>124511</th>\n",
       "      <td>no-program</td>\n",
       "      <td>1</td>\n",
       "      <td>2023</td>\n",
       "      <td>164129776</td>\n",
       "      <td>3</td>\n",
       "    </tr>\n",
       "    <tr>\n",
       "      <th>124512</th>\n",
       "      <td>no-program</td>\n",
       "      <td>1</td>\n",
       "      <td>2023</td>\n",
       "      <td>164129779</td>\n",
       "      <td>3</td>\n",
       "    </tr>\n",
       "    <tr>\n",
       "      <th>124513</th>\n",
       "      <td>no-program</td>\n",
       "      <td>1</td>\n",
       "      <td>2023</td>\n",
       "      <td>164234945</td>\n",
       "      <td>3</td>\n",
       "    </tr>\n",
       "  </tbody>\n",
       "</table>\n",
       "</div>"
      ],
      "text/plain": [
       "          scenario  run_id  sim_year   agent_id  insurance_status_id\n",
       "124509  no-program       1      2023  164129744                    3\n",
       "124510  no-program       1      2023  164129774                    1\n",
       "124511  no-program       1      2023  164129776                    3\n",
       "124512  no-program       1      2023  164129779                    3\n",
       "124513  no-program       1      2023  164234945                    3"
      ]
     },
     "execution_count": 5,
     "metadata": {},
     "output_type": "execute_result"
    }
   ],
   "source": [
    "def read_results_file(file: Path, scenario_name: str) -> pd.DataFrame:\n",
    "    run_id = int(file.name.split(\"_\")[0])\n",
    "    insur_id_df = (\n",
    "        pd.Series(\n",
    "            {\n",
    "                0: \"no_insurance\",\n",
    "                1: \"medicaid\",\n",
    "                2: \"medicare\",\n",
    "                3: \"private\",\n",
    "            }\n",
    "        )\n",
    "        .rename_axis(\"insurance_status_id\")\n",
    "        .rename(\"insurance_status\")\n",
    "        .reset_index()\n",
    "    )\n",
    "    return (\n",
    "        pd.read_csv(\n",
    "            file,\n",
    "            dtype={\n",
    "                \"agent_id\": str,\n",
    "                \"sim_day\": int,\n",
    "                \"is_participating\": int,\n",
    "                \"insurance_status_id\": int,\n",
    "                \"census_tract\": str,\n",
    "                \"block_group\": str,\n",
    "            },\n",
    "        )\n",
    "        .assign(run_id=run_id)\n",
    "        .assign(scenario=scenario_name)\n",
    "        .merge(insur_id_df, on=\"insurance_status_id\", how=\"left\")\n",
    "    )\n",
    "\n",
    "\n",
    "def list_results_files(individual_results_dir) -> dict[str, list[Path]]:\n",
    "    scenarios = [\"no-program\", \"eq-participation\"]\n",
    "    return {s: list((individual_results_dir / s).glob(\"*.csv\")) for s in scenarios}\n",
    "\n",
    "\n",
    "scenarios = [\"no-program\", \"eq-participation\"]\n",
    "results_files = list_results_files(RESULTS_DIR / \"individual\")\n",
    "results_df = (\n",
    "    pd.concat(\n",
    "        [\n",
    "            pd.concat([read_results_file(f, s) for f in results_files[s]])\n",
    "            for s in scenarios\n",
    "        ]\n",
    "    )\n",
    "    .assign(sim_year=lambda df: (df[\"sim_day\"] / 380).astype(int) + 2023)\n",
    "    .pipe(lambda df: df[df[\"block_group\"].str[:5] == selected_county])\n",
    "    .loc[:, [\"scenario\", \"run_id\", \"sim_year\", \"agent_id\", \"insurance_status_id\"]]\n",
    ")\n",
    "results_df.head()"
   ]
  },
  {
   "cell_type": "markdown",
   "id": "70bfba05-3746-44e0-97a1-0940d4715b51",
   "metadata": {},
   "source": [
    "## Associate simulation results with demographic data from Synthetic Population"
   ]
  },
  {
   "cell_type": "markdown",
   "id": "ff20b1ef-e18e-4f6d-9cb6-b272e66347ef",
   "metadata": {},
   "source": [
    "Listing of all agents in Nevada in the synthetic population"
   ]
  },
  {
   "cell_type": "code",
   "execution_count": 6,
   "id": "c3d47494-b5da-4044-8d95-9feca4969fc6",
   "metadata": {
    "tags": []
   },
   "outputs": [],
   "source": [
    "pop = SynthPop(country=\"usa\", version=\"US_2010.v5\")"
   ]
  },
  {
   "cell_type": "code",
   "execution_count": 7,
   "id": "13c7c1e8-a067-4d36-b26c-c3d8b79c89ad",
   "metadata": {
    "tags": []
   },
   "outputs": [
    {
     "data": {
      "text/html": [
       "<div>\n",
       "<style scoped>\n",
       "    .dataframe tbody tr th:only-of-type {\n",
       "        vertical-align: middle;\n",
       "    }\n",
       "\n",
       "    .dataframe tbody tr th {\n",
       "        vertical-align: top;\n",
       "    }\n",
       "\n",
       "    .dataframe thead th {\n",
       "        text-align: right;\n",
       "    }\n",
       "</style>\n",
       "<table border=\"1\" class=\"dataframe\">\n",
       "  <thead>\n",
       "    <tr style=\"text-align: right;\">\n",
       "      <th></th>\n",
       "      <th>ID</th>\n",
       "      <th>AGE</th>\n",
       "      <th>sex</th>\n",
       "      <th>race</th>\n",
       "      <th>block_group</th>\n",
       "    </tr>\n",
       "  </thead>\n",
       "  <tbody>\n",
       "    <tr>\n",
       "      <th>0</th>\n",
       "      <td>164129744</td>\n",
       "      <td>51</td>\n",
       "      <td>0</td>\n",
       "      <td>1</td>\n",
       "      <td>325100001003</td>\n",
       "    </tr>\n",
       "    <tr>\n",
       "      <th>1</th>\n",
       "      <td>164129751</td>\n",
       "      <td>53</td>\n",
       "      <td>1</td>\n",
       "      <td>1</td>\n",
       "      <td>325100004001</td>\n",
       "    </tr>\n",
       "    <tr>\n",
       "      <th>2</th>\n",
       "      <td>164129754</td>\n",
       "      <td>51</td>\n",
       "      <td>0</td>\n",
       "      <td>1</td>\n",
       "      <td>325100008002</td>\n",
       "    </tr>\n",
       "    <tr>\n",
       "      <th>3</th>\n",
       "      <td>164129755</td>\n",
       "      <td>53</td>\n",
       "      <td>1</td>\n",
       "      <td>1</td>\n",
       "      <td>325100008002</td>\n",
       "    </tr>\n",
       "    <tr>\n",
       "      <th>4</th>\n",
       "      <td>164129766</td>\n",
       "      <td>51</td>\n",
       "      <td>0</td>\n",
       "      <td>1</td>\n",
       "      <td>325100009004</td>\n",
       "    </tr>\n",
       "  </tbody>\n",
       "</table>\n",
       "</div>"
      ],
      "text/plain": [
       "          ID  AGE  sex  race   block_group\n",
       "0  164129744   51    0     1  325100001003\n",
       "1  164129751   53    1     1  325100004001\n",
       "2  164129754   51    0     1  325100008002\n",
       "3  164129755   53    1     1  325100008002\n",
       "4  164129766   51    0     1  325100009004"
      ]
     },
     "execution_count": 7,
     "metadata": {},
     "output_type": "execute_result"
    }
   ],
   "source": [
    "regular_people_df = (\n",
    "    pop.load_people(locations=[\"NV\"], include_gq_people=False)\n",
    "    .merge(pop.load_people_household_xref(locations=[\"NV\"]), how=\"left\", on=\"ID\")\n",
    "    .merge(\n",
    "        pop.load_households(locations=[\"NV\"]),\n",
    "        how=\"left\",\n",
    "        left_on=\"PLACE\",\n",
    "        right_on=\"ID\",\n",
    "    )\n",
    "    .rename(columns={\"ID_x\": \"ID\"})\n",
    "    .loc[:, [\"ID\", \"AGE\", \"sex\", \"race\", \"Block_Group\"]]\n",
    ")\n",
    "\n",
    "gq_people_df = (\n",
    "    pop.load_gq_people([\"NV\"])\n",
    "    .loc[:, [\"ID\", \"AGE\", \"sex\", \"race\", \"Block_Group\"]]\n",
    "    .pipe(lambda df: df[~df[\"Block_Group\"].isna()])\n",
    ")\n",
    "\n",
    "people_df = (\n",
    "    pd.concat([regular_people_df, gq_people_df])\n",
    "    .assign(block_group=lambda df: df[\"Block_Group\"].astype(str))\n",
    "    .drop(columns=\"Block_Group\")\n",
    ")\n",
    "people_df.head(5)"
   ]
  },
  {
   "cell_type": "markdown",
   "id": "acdef028-e9c2-48b3-a348-001783421e63",
   "metadata": {},
   "source": [
    "Create a person table with a row per scenario and simulated year for individuals in Carson City county."
   ]
  },
  {
   "cell_type": "code",
   "execution_count": 8,
   "id": "f0531916-ad97-4373-a3f7-938b709a3c80",
   "metadata": {
    "tags": []
   },
   "outputs": [],
   "source": [
    "all_people_df = (\n",
    "    pd.concat(\n",
    "        [\n",
    "            people_df.pipe(lambda df: df[df[\"block_group\"].str[:5] == selected_county])\n",
    "            .assign(scenario=s)\n",
    "            .assign(sim_year=y)\n",
    "            .assign(run_id=r)\n",
    "            for s in scenarios\n",
    "            for y in list(range(2023, 2033))\n",
    "            for r in range(1, 4)\n",
    "        ]\n",
    "    )\n",
    "    .rename(columns={\"ID\": \"agent_id\", \"AGE\": \"age\"})\n",
    "    .assign(agent_id=lambda df: df[\"agent_id\"].astype(str))\n",
    "    .assign(census_tract=lambda df: df[\"block_group\"].str[:11])\n",
    "    .loc[\n",
    "        :,\n",
    "        [\n",
    "            \"scenario\",\n",
    "            \"run_id\",\n",
    "            \"agent_id\",\n",
    "            \"sim_year\",\n",
    "            \"age\",\n",
    "            \"sex\",\n",
    "            \"race\",\n",
    "            \"census_tract\",\n",
    "        ],\n",
    "    ]\n",
    ")"
   ]
  },
  {
   "cell_type": "markdown",
   "id": "d9ae98eb-8bbf-4ca9-9af8-74559db3109a",
   "metadata": {},
   "source": [
    "Encode census tracts with numerical IDs"
   ]
  },
  {
   "cell_type": "code",
   "execution_count": 10,
   "id": "b48c1873-dcc6-41d9-ab8f-c926661ef432",
   "metadata": {
    "tags": []
   },
   "outputs": [],
   "source": [
    "census_tract_map = (\n",
    "    all_people_df[\"census_tract\"]\n",
    "    .drop_duplicates()\n",
    "    .reset_index(drop=True)\n",
    "    .rename_axis(\"census_tract_id\")\n",
    "    .to_frame()\n",
    "    .reset_index()\n",
    ")"
   ]
  },
  {
   "cell_type": "markdown",
   "id": "dc5f0755-7f03-4e43-9d45-757b82e9bc3e",
   "metadata": {},
   "source": [
    "Construct final dataset"
   ]
  },
  {
   "cell_type": "code",
   "execution_count": 11,
   "id": "99330931-617e-41fb-9e9d-3f0087e367e5",
   "metadata": {
    "tags": []
   },
   "outputs": [
    {
     "data": {
      "text/html": [
       "<div>\n",
       "<style scoped>\n",
       "    .dataframe tbody tr th:only-of-type {\n",
       "        vertical-align: middle;\n",
       "    }\n",
       "\n",
       "    .dataframe tbody tr th {\n",
       "        vertical-align: top;\n",
       "    }\n",
       "\n",
       "    .dataframe thead th {\n",
       "        text-align: right;\n",
       "    }\n",
       "</style>\n",
       "<table border=\"1\" class=\"dataframe\">\n",
       "  <thead>\n",
       "    <tr style=\"text-align: right;\">\n",
       "      <th></th>\n",
       "      <th>scenario</th>\n",
       "      <th>run_id</th>\n",
       "      <th>agent_id</th>\n",
       "      <th>sim_year</th>\n",
       "      <th>age</th>\n",
       "      <th>sex</th>\n",
       "      <th>race</th>\n",
       "      <th>insurance_status_id</th>\n",
       "      <th>diagnosed</th>\n",
       "      <th>census_tract_id</th>\n",
       "    </tr>\n",
       "  </thead>\n",
       "  <tbody>\n",
       "    <tr>\n",
       "      <th>0</th>\n",
       "      <td>no-program</td>\n",
       "      <td>1</td>\n",
       "      <td>164129744</td>\n",
       "      <td>2023</td>\n",
       "      <td>51</td>\n",
       "      <td>0</td>\n",
       "      <td>1</td>\n",
       "      <td>3</td>\n",
       "      <td>1</td>\n",
       "      <td>0</td>\n",
       "    </tr>\n",
       "    <tr>\n",
       "      <th>1</th>\n",
       "      <td>no-program</td>\n",
       "      <td>1</td>\n",
       "      <td>164129751</td>\n",
       "      <td>2023</td>\n",
       "      <td>53</td>\n",
       "      <td>1</td>\n",
       "      <td>1</td>\n",
       "      <td>3</td>\n",
       "      <td>0</td>\n",
       "      <td>1</td>\n",
       "    </tr>\n",
       "    <tr>\n",
       "      <th>2</th>\n",
       "      <td>no-program</td>\n",
       "      <td>1</td>\n",
       "      <td>164129754</td>\n",
       "      <td>2023</td>\n",
       "      <td>51</td>\n",
       "      <td>0</td>\n",
       "      <td>1</td>\n",
       "      <td>3</td>\n",
       "      <td>0</td>\n",
       "      <td>2</td>\n",
       "    </tr>\n",
       "    <tr>\n",
       "      <th>3</th>\n",
       "      <td>no-program</td>\n",
       "      <td>1</td>\n",
       "      <td>164129755</td>\n",
       "      <td>2023</td>\n",
       "      <td>53</td>\n",
       "      <td>1</td>\n",
       "      <td>1</td>\n",
       "      <td>3</td>\n",
       "      <td>0</td>\n",
       "      <td>2</td>\n",
       "    </tr>\n",
       "    <tr>\n",
       "      <th>4</th>\n",
       "      <td>no-program</td>\n",
       "      <td>1</td>\n",
       "      <td>164129766</td>\n",
       "      <td>2023</td>\n",
       "      <td>51</td>\n",
       "      <td>0</td>\n",
       "      <td>1</td>\n",
       "      <td>3</td>\n",
       "      <td>0</td>\n",
       "      <td>3</td>\n",
       "    </tr>\n",
       "  </tbody>\n",
       "</table>\n",
       "</div>"
      ],
      "text/plain": [
       "     scenario  run_id   agent_id  sim_year  age  sex  race  \\\n",
       "0  no-program       1  164129744      2023   51    0     1   \n",
       "1  no-program       1  164129751      2023   53    1     1   \n",
       "2  no-program       1  164129754      2023   51    0     1   \n",
       "3  no-program       1  164129755      2023   53    1     1   \n",
       "4  no-program       1  164129766      2023   51    0     1   \n",
       "\n",
       "   insurance_status_id  diagnosed  census_tract_id  \n",
       "0                    3          1                0  \n",
       "1                    3          0                1  \n",
       "2                    3          0                2  \n",
       "3                    3          0                2  \n",
       "4                    3          0                3  "
      ]
     },
     "execution_count": 11,
     "metadata": {},
     "output_type": "execute_result"
    }
   ],
   "source": [
    "data_df = (\n",
    "    all_people_df.merge(\n",
    "        results_df.assign(diagnosed=True),\n",
    "        on=[\"agent_id\", \"scenario\", \"sim_year\", \"run_id\"],\n",
    "        how=\"left\",\n",
    "    )\n",
    "    .assign(diagnosed=lambda df: df[\"diagnosed\"].fillna(False).astype(int))\n",
    "    .assign(\n",
    "        insurance_status_id=lambda df: df[\"insurance_status_id\"].fillna(3).astype(int)\n",
    "    )\n",
    "    .merge(census_tract_map, on=\"census_tract\", how=\"left\")\n",
    "    .drop(columns=\"census_tract\")\n",
    ")\n",
    "data_df.head()"
   ]
  },
  {
   "cell_type": "markdown",
   "id": "b6336a29-fbca-460e-b3c3-171676b022d7",
   "metadata": {},
   "source": [
    "Note that the numerical age and sex IDs can be looked up using data from our `epxpop` package"
   ]
  },
  {
   "cell_type": "code",
   "execution_count": 20,
   "id": "15b86cd5-df5b-4af6-af4f-95b8370b10f9",
   "metadata": {
    "tags": []
   },
   "outputs": [
    {
     "data": {
      "text/plain": [
       "{0: 'Female', 1: 'Male'}"
      ]
     },
     "execution_count": 20,
     "metadata": {},
     "output_type": "execute_result"
    }
   ],
   "source": [
    "SEX_MAP"
   ]
  },
  {
   "cell_type": "code",
   "execution_count": 21,
   "id": "527a319d-4978-4a69-9dc7-3b972942db0c",
   "metadata": {
    "tags": []
   },
   "outputs": [
    {
     "data": {
      "text/plain": [
       "{-1: 'Unspecified',\n",
       " 0: 'Unknown',\n",
       " 1: 'White',\n",
       " 2: 'African American',\n",
       " 3: 'American Indian',\n",
       " 4: 'Alaska Native',\n",
       " 5: 'Tribal',\n",
       " 6: 'Asian',\n",
       " 7: 'Hawaiian Native',\n",
       " 8: 'Other Race',\n",
       " 9: 'Multiple Races'}"
      ]
     },
     "execution_count": 21,
     "metadata": {},
     "output_type": "execute_result"
    }
   ],
   "source": [
    "RACE_MAP"
   ]
  },
  {
   "cell_type": "markdown",
   "id": "54fbe646-cd22-48b1-8904-031d3ccbadd6",
   "metadata": {},
   "source": [
    "## Query individual-level diabetes dataset"
   ]
  },
  {
   "cell_type": "markdown",
   "id": "e1187401-bd35-48db-bcb2-87d84efcc546",
   "metadata": {},
   "source": [
    "Show all people under 30 diagnosed across all simulation runs and scenarios"
   ]
  },
  {
   "cell_type": "code",
   "execution_count": 12,
   "id": "a7098cd1-a890-4332-b365-a89feccb7d68",
   "metadata": {
    "tags": []
   },
   "outputs": [
    {
     "data": {
      "text/html": [
       "<div>\n",
       "<style scoped>\n",
       "    .dataframe tbody tr th:only-of-type {\n",
       "        vertical-align: middle;\n",
       "    }\n",
       "\n",
       "    .dataframe tbody tr th {\n",
       "        vertical-align: top;\n",
       "    }\n",
       "\n",
       "    .dataframe thead th {\n",
       "        text-align: right;\n",
       "    }\n",
       "</style>\n",
       "<table border=\"1\" class=\"dataframe\">\n",
       "  <thead>\n",
       "    <tr style=\"text-align: right;\">\n",
       "      <th></th>\n",
       "      <th>scenario</th>\n",
       "      <th>run_id</th>\n",
       "      <th>agent_id</th>\n",
       "      <th>sim_year</th>\n",
       "      <th>age</th>\n",
       "      <th>sex</th>\n",
       "      <th>race</th>\n",
       "      <th>insurance_status_id</th>\n",
       "      <th>diagnosed</th>\n",
       "      <th>census_tract_id</th>\n",
       "    </tr>\n",
       "  </thead>\n",
       "  <tbody>\n",
       "    <tr>\n",
       "      <th>226</th>\n",
       "      <td>no-program</td>\n",
       "      <td>1</td>\n",
       "      <td>166793909</td>\n",
       "      <td>2023</td>\n",
       "      <td>27</td>\n",
       "      <td>1</td>\n",
       "      <td>1</td>\n",
       "      <td>3</td>\n",
       "      <td>1</td>\n",
       "      <td>4</td>\n",
       "    </tr>\n",
       "    <tr>\n",
       "      <th>339</th>\n",
       "      <td>no-program</td>\n",
       "      <td>1</td>\n",
       "      <td>167757987</td>\n",
       "      <td>2023</td>\n",
       "      <td>23</td>\n",
       "      <td>0</td>\n",
       "      <td>1</td>\n",
       "      <td>3</td>\n",
       "      <td>1</td>\n",
       "      <td>6</td>\n",
       "    </tr>\n",
       "    <tr>\n",
       "      <th>413</th>\n",
       "      <td>no-program</td>\n",
       "      <td>1</td>\n",
       "      <td>168217348</td>\n",
       "      <td>2023</td>\n",
       "      <td>21</td>\n",
       "      <td>1</td>\n",
       "      <td>1</td>\n",
       "      <td>2</td>\n",
       "      <td>1</td>\n",
       "      <td>7</td>\n",
       "    </tr>\n",
       "    <tr>\n",
       "      <th>939</th>\n",
       "      <td>no-program</td>\n",
       "      <td>1</td>\n",
       "      <td>174316086</td>\n",
       "      <td>2023</td>\n",
       "      <td>20</td>\n",
       "      <td>1</td>\n",
       "      <td>2</td>\n",
       "      <td>0</td>\n",
       "      <td>1</td>\n",
       "      <td>11</td>\n",
       "    </tr>\n",
       "    <tr>\n",
       "      <th>941</th>\n",
       "      <td>no-program</td>\n",
       "      <td>1</td>\n",
       "      <td>174316091</td>\n",
       "      <td>2023</td>\n",
       "      <td>20</td>\n",
       "      <td>1</td>\n",
       "      <td>2</td>\n",
       "      <td>1</td>\n",
       "      <td>1</td>\n",
       "      <td>9</td>\n",
       "    </tr>\n",
       "    <tr>\n",
       "      <th>...</th>\n",
       "      <td>...</td>\n",
       "      <td>...</td>\n",
       "      <td>...</td>\n",
       "      <td>...</td>\n",
       "      <td>...</td>\n",
       "      <td>...</td>\n",
       "      <td>...</td>\n",
       "      <td>...</td>\n",
       "      <td>...</td>\n",
       "      <td>...</td>\n",
       "    </tr>\n",
       "    <tr>\n",
       "      <th>3316704</th>\n",
       "      <td>eq-participation</td>\n",
       "      <td>3</td>\n",
       "      <td>399793143</td>\n",
       "      <td>2032</td>\n",
       "      <td>29</td>\n",
       "      <td>1</td>\n",
       "      <td>1</td>\n",
       "      <td>3</td>\n",
       "      <td>1</td>\n",
       "      <td>2</td>\n",
       "    </tr>\n",
       "    <tr>\n",
       "      <th>3319367</th>\n",
       "      <td>eq-participation</td>\n",
       "      <td>3</td>\n",
       "      <td>135298548</td>\n",
       "      <td>2032</td>\n",
       "      <td>27</td>\n",
       "      <td>1</td>\n",
       "      <td>9</td>\n",
       "      <td>3</td>\n",
       "      <td>1</td>\n",
       "      <td>2</td>\n",
       "    </tr>\n",
       "    <tr>\n",
       "      <th>3320520</th>\n",
       "      <td>eq-participation</td>\n",
       "      <td>3</td>\n",
       "      <td>147088684</td>\n",
       "      <td>2032</td>\n",
       "      <td>21</td>\n",
       "      <td>1</td>\n",
       "      <td>8</td>\n",
       "      <td>3</td>\n",
       "      <td>1</td>\n",
       "      <td>4</td>\n",
       "    </tr>\n",
       "    <tr>\n",
       "      <th>3320645</th>\n",
       "      <td>eq-participation</td>\n",
       "      <td>3</td>\n",
       "      <td>148212799</td>\n",
       "      <td>2032</td>\n",
       "      <td>29</td>\n",
       "      <td>0</td>\n",
       "      <td>1</td>\n",
       "      <td>3</td>\n",
       "      <td>1</td>\n",
       "      <td>4</td>\n",
       "    </tr>\n",
       "    <tr>\n",
       "      <th>3320895</th>\n",
       "      <td>eq-participation</td>\n",
       "      <td>3</td>\n",
       "      <td>152519559</td>\n",
       "      <td>2032</td>\n",
       "      <td>21</td>\n",
       "      <td>0</td>\n",
       "      <td>8</td>\n",
       "      <td>3</td>\n",
       "      <td>1</td>\n",
       "      <td>12</td>\n",
       "    </tr>\n",
       "  </tbody>\n",
       "</table>\n",
       "<p>11325 rows × 10 columns</p>\n",
       "</div>"
      ],
      "text/plain": [
       "                 scenario  run_id   agent_id  sim_year  age  sex  race  \\\n",
       "226            no-program       1  166793909      2023   27    1     1   \n",
       "339            no-program       1  167757987      2023   23    0     1   \n",
       "413            no-program       1  168217348      2023   21    1     1   \n",
       "939            no-program       1  174316086      2023   20    1     2   \n",
       "941            no-program       1  174316091      2023   20    1     2   \n",
       "...                   ...     ...        ...       ...  ...  ...   ...   \n",
       "3316704  eq-participation       3  399793143      2032   29    1     1   \n",
       "3319367  eq-participation       3  135298548      2032   27    1     9   \n",
       "3320520  eq-participation       3  147088684      2032   21    1     8   \n",
       "3320645  eq-participation       3  148212799      2032   29    0     1   \n",
       "3320895  eq-participation       3  152519559      2032   21    0     8   \n",
       "\n",
       "         insurance_status_id  diagnosed  census_tract_id  \n",
       "226                        3          1                4  \n",
       "339                        3          1                6  \n",
       "413                        2          1                7  \n",
       "939                        0          1               11  \n",
       "941                        1          1                9  \n",
       "...                      ...        ...              ...  \n",
       "3316704                    3          1                2  \n",
       "3319367                    3          1                2  \n",
       "3320520                    3          1                4  \n",
       "3320645                    3          1                4  \n",
       "3320895                    3          1               12  \n",
       "\n",
       "[11325 rows x 10 columns]"
      ]
     },
     "execution_count": 12,
     "metadata": {},
     "output_type": "execute_result"
    }
   ],
   "source": [
    "data_df.pipe(lambda df: df[(df[\"diagnosed\"] == 1) & (df[\"age\"] < 30)])"
   ]
  },
  {
   "cell_type": "markdown",
   "id": "eb9346fc-b8c0-4d6a-9725-0691515d0928",
   "metadata": {
    "tags": []
   },
   "source": [
    "## Fit models"
   ]
  },
  {
   "cell_type": "code",
   "execution_count": 13,
   "id": "f8abd5f0-31ee-47c9-b97e-c05761732a55",
   "metadata": {
    "tags": []
   },
   "outputs": [],
   "source": [
    "feature_cols = [\"age\", \"sex\", \"race\", \"insurance_status_id\", \"census_tract_id\"]\n",
    "target_col = \"diagnosed\""
   ]
  },
  {
   "cell_type": "code",
   "execution_count": 14,
   "id": "c65e1358-5616-4b22-ae04-086672004bba",
   "metadata": {
    "tags": []
   },
   "outputs": [],
   "source": [
    "no_program_df = data_df.pipe(lambda df: df[df[\"scenario\"] == \"no-program\"])\n",
    "eq_participation_df = data_df.pipe(lambda df: df[df[\"scenario\"] == \"eq-participation\"])"
   ]
  },
  {
   "cell_type": "code",
   "execution_count": 15,
   "id": "d8604a7e-3605-40e3-93e5-41edc3da89f1",
   "metadata": {
    "tags": []
   },
   "outputs": [
    {
     "data": {
      "text/html": [
       "<style>#sk-container-id-1 {color: black;}#sk-container-id-1 pre{padding: 0;}#sk-container-id-1 div.sk-toggleable {background-color: white;}#sk-container-id-1 label.sk-toggleable__label {cursor: pointer;display: block;width: 100%;margin-bottom: 0;padding: 0.3em;box-sizing: border-box;text-align: center;}#sk-container-id-1 label.sk-toggleable__label-arrow:before {content: \"▸\";float: left;margin-right: 0.25em;color: #696969;}#sk-container-id-1 label.sk-toggleable__label-arrow:hover:before {color: black;}#sk-container-id-1 div.sk-estimator:hover label.sk-toggleable__label-arrow:before {color: black;}#sk-container-id-1 div.sk-toggleable__content {max-height: 0;max-width: 0;overflow: hidden;text-align: left;background-color: #f0f8ff;}#sk-container-id-1 div.sk-toggleable__content pre {margin: 0.2em;color: black;border-radius: 0.25em;background-color: #f0f8ff;}#sk-container-id-1 input.sk-toggleable__control:checked~div.sk-toggleable__content {max-height: 200px;max-width: 100%;overflow: auto;}#sk-container-id-1 input.sk-toggleable__control:checked~label.sk-toggleable__label-arrow:before {content: \"▾\";}#sk-container-id-1 div.sk-estimator input.sk-toggleable__control:checked~label.sk-toggleable__label {background-color: #d4ebff;}#sk-container-id-1 div.sk-label input.sk-toggleable__control:checked~label.sk-toggleable__label {background-color: #d4ebff;}#sk-container-id-1 input.sk-hidden--visually {border: 0;clip: rect(1px 1px 1px 1px);clip: rect(1px, 1px, 1px, 1px);height: 1px;margin: -1px;overflow: hidden;padding: 0;position: absolute;width: 1px;}#sk-container-id-1 div.sk-estimator {font-family: monospace;background-color: #f0f8ff;border: 1px dotted black;border-radius: 0.25em;box-sizing: border-box;margin-bottom: 0.5em;}#sk-container-id-1 div.sk-estimator:hover {background-color: #d4ebff;}#sk-container-id-1 div.sk-parallel-item::after {content: \"\";width: 100%;border-bottom: 1px solid gray;flex-grow: 1;}#sk-container-id-1 div.sk-label:hover label.sk-toggleable__label {background-color: #d4ebff;}#sk-container-id-1 div.sk-serial::before {content: \"\";position: absolute;border-left: 1px solid gray;box-sizing: border-box;top: 0;bottom: 0;left: 50%;z-index: 0;}#sk-container-id-1 div.sk-serial {display: flex;flex-direction: column;align-items: center;background-color: white;padding-right: 0.2em;padding-left: 0.2em;position: relative;}#sk-container-id-1 div.sk-item {position: relative;z-index: 1;}#sk-container-id-1 div.sk-parallel {display: flex;align-items: stretch;justify-content: center;background-color: white;position: relative;}#sk-container-id-1 div.sk-item::before, #sk-container-id-1 div.sk-parallel-item::before {content: \"\";position: absolute;border-left: 1px solid gray;box-sizing: border-box;top: 0;bottom: 0;left: 50%;z-index: -1;}#sk-container-id-1 div.sk-parallel-item {display: flex;flex-direction: column;z-index: 1;position: relative;background-color: white;}#sk-container-id-1 div.sk-parallel-item:first-child::after {align-self: flex-end;width: 50%;}#sk-container-id-1 div.sk-parallel-item:last-child::after {align-self: flex-start;width: 50%;}#sk-container-id-1 div.sk-parallel-item:only-child::after {width: 0;}#sk-container-id-1 div.sk-dashed-wrapped {border: 1px dashed gray;margin: 0 0.4em 0.5em 0.4em;box-sizing: border-box;padding-bottom: 0.4em;background-color: white;}#sk-container-id-1 div.sk-label label {font-family: monospace;font-weight: bold;display: inline-block;line-height: 1.2em;}#sk-container-id-1 div.sk-label-container {text-align: center;}#sk-container-id-1 div.sk-container {/* jupyter's `normalize.less` sets `[hidden] { display: none; }` but bootstrap.min.css set `[hidden] { display: none !important; }` so we also need the `!important` here to be able to override the default hidden behavior on the sphinx rendered scikit-learn.org. See: https://github.com/scikit-learn/scikit-learn/issues/21755 */display: inline-block !important;position: relative;}#sk-container-id-1 div.sk-text-repr-fallback {display: none;}</style><div id=\"sk-container-id-1\" class=\"sk-top-container\"><div class=\"sk-text-repr-fallback\"><pre>DecisionTreeClassifier()</pre><b>In a Jupyter environment, please rerun this cell to show the HTML representation or trust the notebook. <br />On GitHub, the HTML representation is unable to render, please try loading this page with nbviewer.org.</b></div><div class=\"sk-container\" hidden><div class=\"sk-item\"><div class=\"sk-estimator sk-toggleable\"><input class=\"sk-toggleable__control sk-hidden--visually\" id=\"sk-estimator-id-1\" type=\"checkbox\" checked><label for=\"sk-estimator-id-1\" class=\"sk-toggleable__label sk-toggleable__label-arrow\">DecisionTreeClassifier</label><div class=\"sk-toggleable__content\"><pre>DecisionTreeClassifier()</pre></div></div></div></div></div>"
      ],
      "text/plain": [
       "DecisionTreeClassifier()"
      ]
     },
     "execution_count": 15,
     "metadata": {},
     "output_type": "execute_result"
    }
   ],
   "source": [
    "no_program_model = DecisionTreeClassifier()\n",
    "no_program_model.fit(\n",
    "    no_program_df.loc[:, feature_cols].values, no_program_df[target_col].values\n",
    ")"
   ]
  },
  {
   "cell_type": "code",
   "execution_count": 16,
   "id": "2f45b864-062f-4ace-a8fa-95bdaf8cec13",
   "metadata": {
    "tags": []
   },
   "outputs": [
    {
     "data": {
      "text/plain": [
       "array([1, 0])"
      ]
     },
     "execution_count": 16,
     "metadata": {},
     "output_type": "execute_result"
    }
   ],
   "source": [
    "no_program_model.predict(\n",
    "    [\n",
    "        [52, 0, 1, 0, 4],\n",
    "        [20, 0, 1, 4, 4],\n",
    "    ]\n",
    ")"
   ]
  },
  {
   "cell_type": "code",
   "execution_count": 17,
   "id": "8fbd2b85-c7ca-41a1-b727-660cbfd3224b",
   "metadata": {
    "tags": []
   },
   "outputs": [
    {
     "data": {
      "text/html": [
       "<style>#sk-container-id-2 {color: black;}#sk-container-id-2 pre{padding: 0;}#sk-container-id-2 div.sk-toggleable {background-color: white;}#sk-container-id-2 label.sk-toggleable__label {cursor: pointer;display: block;width: 100%;margin-bottom: 0;padding: 0.3em;box-sizing: border-box;text-align: center;}#sk-container-id-2 label.sk-toggleable__label-arrow:before {content: \"▸\";float: left;margin-right: 0.25em;color: #696969;}#sk-container-id-2 label.sk-toggleable__label-arrow:hover:before {color: black;}#sk-container-id-2 div.sk-estimator:hover label.sk-toggleable__label-arrow:before {color: black;}#sk-container-id-2 div.sk-toggleable__content {max-height: 0;max-width: 0;overflow: hidden;text-align: left;background-color: #f0f8ff;}#sk-container-id-2 div.sk-toggleable__content pre {margin: 0.2em;color: black;border-radius: 0.25em;background-color: #f0f8ff;}#sk-container-id-2 input.sk-toggleable__control:checked~div.sk-toggleable__content {max-height: 200px;max-width: 100%;overflow: auto;}#sk-container-id-2 input.sk-toggleable__control:checked~label.sk-toggleable__label-arrow:before {content: \"▾\";}#sk-container-id-2 div.sk-estimator input.sk-toggleable__control:checked~label.sk-toggleable__label {background-color: #d4ebff;}#sk-container-id-2 div.sk-label input.sk-toggleable__control:checked~label.sk-toggleable__label {background-color: #d4ebff;}#sk-container-id-2 input.sk-hidden--visually {border: 0;clip: rect(1px 1px 1px 1px);clip: rect(1px, 1px, 1px, 1px);height: 1px;margin: -1px;overflow: hidden;padding: 0;position: absolute;width: 1px;}#sk-container-id-2 div.sk-estimator {font-family: monospace;background-color: #f0f8ff;border: 1px dotted black;border-radius: 0.25em;box-sizing: border-box;margin-bottom: 0.5em;}#sk-container-id-2 div.sk-estimator:hover {background-color: #d4ebff;}#sk-container-id-2 div.sk-parallel-item::after {content: \"\";width: 100%;border-bottom: 1px solid gray;flex-grow: 1;}#sk-container-id-2 div.sk-label:hover label.sk-toggleable__label {background-color: #d4ebff;}#sk-container-id-2 div.sk-serial::before {content: \"\";position: absolute;border-left: 1px solid gray;box-sizing: border-box;top: 0;bottom: 0;left: 50%;z-index: 0;}#sk-container-id-2 div.sk-serial {display: flex;flex-direction: column;align-items: center;background-color: white;padding-right: 0.2em;padding-left: 0.2em;position: relative;}#sk-container-id-2 div.sk-item {position: relative;z-index: 1;}#sk-container-id-2 div.sk-parallel {display: flex;align-items: stretch;justify-content: center;background-color: white;position: relative;}#sk-container-id-2 div.sk-item::before, #sk-container-id-2 div.sk-parallel-item::before {content: \"\";position: absolute;border-left: 1px solid gray;box-sizing: border-box;top: 0;bottom: 0;left: 50%;z-index: -1;}#sk-container-id-2 div.sk-parallel-item {display: flex;flex-direction: column;z-index: 1;position: relative;background-color: white;}#sk-container-id-2 div.sk-parallel-item:first-child::after {align-self: flex-end;width: 50%;}#sk-container-id-2 div.sk-parallel-item:last-child::after {align-self: flex-start;width: 50%;}#sk-container-id-2 div.sk-parallel-item:only-child::after {width: 0;}#sk-container-id-2 div.sk-dashed-wrapped {border: 1px dashed gray;margin: 0 0.4em 0.5em 0.4em;box-sizing: border-box;padding-bottom: 0.4em;background-color: white;}#sk-container-id-2 div.sk-label label {font-family: monospace;font-weight: bold;display: inline-block;line-height: 1.2em;}#sk-container-id-2 div.sk-label-container {text-align: center;}#sk-container-id-2 div.sk-container {/* jupyter's `normalize.less` sets `[hidden] { display: none; }` but bootstrap.min.css set `[hidden] { display: none !important; }` so we also need the `!important` here to be able to override the default hidden behavior on the sphinx rendered scikit-learn.org. See: https://github.com/scikit-learn/scikit-learn/issues/21755 */display: inline-block !important;position: relative;}#sk-container-id-2 div.sk-text-repr-fallback {display: none;}</style><div id=\"sk-container-id-2\" class=\"sk-top-container\"><div class=\"sk-text-repr-fallback\"><pre>DecisionTreeClassifier()</pre><b>In a Jupyter environment, please rerun this cell to show the HTML representation or trust the notebook. <br />On GitHub, the HTML representation is unable to render, please try loading this page with nbviewer.org.</b></div><div class=\"sk-container\" hidden><div class=\"sk-item\"><div class=\"sk-estimator sk-toggleable\"><input class=\"sk-toggleable__control sk-hidden--visually\" id=\"sk-estimator-id-2\" type=\"checkbox\" checked><label for=\"sk-estimator-id-2\" class=\"sk-toggleable__label sk-toggleable__label-arrow\">DecisionTreeClassifier</label><div class=\"sk-toggleable__content\"><pre>DecisionTreeClassifier()</pre></div></div></div></div></div>"
      ],
      "text/plain": [
       "DecisionTreeClassifier()"
      ]
     },
     "execution_count": 17,
     "metadata": {},
     "output_type": "execute_result"
    }
   ],
   "source": [
    "with_program_model = DecisionTreeClassifier()\n",
    "with_program_model.fit(\n",
    "    eq_participation_df.loc[:, feature_cols].values,\n",
    "    eq_participation_df[target_col].values,\n",
    ")"
   ]
  },
  {
   "cell_type": "code",
   "execution_count": 18,
   "id": "d4568893-01ae-489d-b2bb-042b79b9a7f4",
   "metadata": {
    "tags": []
   },
   "outputs": [
    {
     "data": {
      "text/plain": [
       "array([1, 0])"
      ]
     },
     "execution_count": 18,
     "metadata": {},
     "output_type": "execute_result"
    }
   ],
   "source": [
    "no_program_model.predict(\n",
    "    [\n",
    "        [52, 0, 1, 0, 4],\n",
    "        [20, 0, 1, 4, 4],\n",
    "    ]\n",
    ")"
   ]
  }
 ],
 "metadata": {
  "kernelspec": {
   "display_name": "Python 3 (ipykernel)",
   "language": "python",
   "name": "python3"
  },
  "language_info": {
   "codemirror_mode": {
    "name": "ipython",
    "version": 3
   },
   "file_extension": ".py",
   "mimetype": "text/x-python",
   "name": "python",
   "nbconvert_exporter": "python",
   "pygments_lexer": "ipython3",
   "version": "3.10.10"
  }
 },
 "nbformat": 4,
 "nbformat_minor": 5
}
