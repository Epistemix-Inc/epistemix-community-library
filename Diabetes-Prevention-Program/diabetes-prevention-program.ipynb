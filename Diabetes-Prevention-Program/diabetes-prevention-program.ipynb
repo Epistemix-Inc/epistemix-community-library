{
 "cells": [
  {
   "cell_type": "markdown",
   "id": "6404f1a8-a11e-4501-90c1-42454cc08294",
   "metadata": {},
   "source": [
    "# Diabetes prevention program model"
   ]
  },
  {
   "cell_type": "code",
   "execution_count": null,
   "id": "8d6b214f-6261-4191-96d9-c3a28eab2900",
   "metadata": {
    "tags": []
   },
   "outputs": [],
   "source": [
    "from pathlib import Path\n",
    "\n",
    "import numpy as np\n",
    "import pandas as pd\n",
    "import geopandas as gpd\n",
    "\n",
    "from epxexec import fred_job\n",
    "from epxexec.fred_job import FREDJob\n",
    "\n",
    "from diabetes_prevention import (\n",
    "    VariableMeta,\n",
    "    get_state_block_groups_gdf,\n",
    "    get_results_df,\n",
    "    plot_cume_diagnoses,\n",
    ")"
   ]
  },
  {
   "cell_type": "code",
   "execution_count": null,
   "id": "f9f58c6d-d8d8-4790-b62e-677f69387b39",
   "metadata": {
    "tags": []
   },
   "outputs": [],
   "source": [
    "DATA_DIR = Path(\"data\")"
   ]
  },
  {
   "cell_type": "markdown",
   "id": "c6659e7c-de01-401c-8d23-bcf5e6ca0c1c",
   "metadata": {},
   "source": [
    "## 0. Data required\n",
    "\n",
    "1. Insurance category probabilities by census tract, age, sex, and race provided by PolicyMap\n",
    "2. Program engagement by insurance category from Alva et al. 2022 \n",
    "3. Program eligibility from Flegal et al. 2012 dataset used for include_external_data.ipynb. Note that from https://www.cdc.gov/diabetes/prevention/pdf/dprp-standards.pdf, people over the age of 18 are eligible if they have a BMI >= 25 and don’t already have a type-2 diabetes diagnosis\n",
    "4. Probability of developing diabetes over time from https://www.ncbi.nlm.nih.gov/pmc/articles/PMC3135022/"
   ]
  },
  {
   "cell_type": "markdown",
   "id": "e3c0e2ec-c225-47f1-b940-50944b172f3f",
   "metadata": {},
   "source": [
    "## 1. Insurace category probabilities"
   ]
  },
  {
   "cell_type": "markdown",
   "id": "89aaedbf-657c-412e-8c3e-da226147726f",
   "metadata": {},
   "source": [
    "`insurance_status.csv`\n",
    "Formatted data structure:\n",
    "\n",
    "- census_tract, 0\n",
    "- prob_no_insurance, 1\n",
    "- prob_medicaid_insurance, 2\n",
    "- prob_medicare_insurance, 3\n",
    "- prob_private_insurance, 4\n"
   ]
  },
  {
   "cell_type": "markdown",
   "id": "50135e87-e463-403a-94f5-882e62490f61",
   "metadata": {},
   "source": [
    "Base data extracted from the census by Brian at PolicyMap. Represents total probabilities of being in each category for each census tract."
   ]
  },
  {
   "cell_type": "code",
   "execution_count": null,
   "id": "db06e271-60da-4dcc-9e61-91b6c793ed4e",
   "metadata": {
    "tags": []
   },
   "outputs": [],
   "source": [
    "col_types = {\n",
    "    \"tract_fips\": str,\n",
    "    \"time_frame\": str,\n",
    "    \"PPOPWOINS\": float,\n",
    "    \"PPOPWMEDICAID\": float,\n",
    "    \"PPOPWMEDICARE\": float,\n",
    "    \"PPOPWINSPRIV\": float,\n",
    "}\n",
    "raw_ins_prob_df = pd.read_csv(\n",
    "    DATA_DIR / \"raw/nevada_tracts_insurance_indicators.csv\",\n",
    "    dtype=col_types,\n",
    "    usecols=col_types.keys(),\n",
    ")\n",
    "raw_ins_prob_df.head()"
   ]
  },
  {
   "cell_type": "markdown",
   "id": "d164d242-9e8d-44b2-861f-2c152d6bcf03",
   "metadata": {
    "tags": []
   },
   "source": [
    "[US Census website](https://www.census.gov/geographies/mapping-files/time-series/geo/cartographic-boundary.html)"
   ]
  },
  {
   "cell_type": "code",
   "execution_count": null,
   "id": "b09d73d0-45d4-48d5-8863-b93ca0e308ac",
   "metadata": {
    "tags": []
   },
   "outputs": [],
   "source": [
    "nv_census_tracts_url = (\n",
    "    \"https://www2.census.gov/geo/tiger/GENZ2022/shp/cb_2022_32_tract_500k.zip\"\n",
    ")\n",
    "nv_census_tracts_gdf = gpd.read_file(nv_census_tracts_url)\n",
    "nv_census_tracts_gdf.head(2)"
   ]
  },
  {
   "cell_type": "markdown",
   "id": "ffae5062-24db-4382-9ef3-74e49fd6f69d",
   "metadata": {},
   "source": [
    "Check completeness of census tracts in `raw_ins_prob_df` compared to census geo data"
   ]
  },
  {
   "cell_type": "code",
   "execution_count": null,
   "id": "f61d0103-fab0-4f3e-a5cc-6f6f10402181",
   "metadata": {
    "tags": []
   },
   "outputs": [],
   "source": [
    "assert (\n",
    "    len(\n",
    "        (\n",
    "            nv_census_tracts_gdf[[\"NAMELSAD\", \"GEOID\"]]\n",
    "            .merge(raw_ins_prob_df, how=\"left\", left_on=\"GEOID\", right_on=\"tract_fips\")\n",
    "            .pipe(lambda df: df[df[\"tract_fips\"].isna()])\n",
    "        ).index\n",
    "    )\n",
    "    == 0\n",
    ")"
   ]
  },
  {
   "cell_type": "markdown",
   "id": "c335854e-7118-4ce7-a0c7-967eabbe39b5",
   "metadata": {},
   "source": [
    "List tracts with missing data in `raw_ins_prob_df`"
   ]
  },
  {
   "cell_type": "code",
   "execution_count": null,
   "id": "41094243-7053-420f-926b-13a15c611f6b",
   "metadata": {
    "tags": []
   },
   "outputs": [],
   "source": [
    "missing_data_tracts: pd.Series = raw_ins_prob_df.pipe(\n",
    "    lambda df: df[df[\"PPOPWOINS\"] == -9999]\n",
    ")[\"tract_fips\"]"
   ]
  },
  {
   "cell_type": "code",
   "execution_count": null,
   "id": "49a5820a-0375-4409-8db5-3c748615d109",
   "metadata": {
    "tags": []
   },
   "outputs": [],
   "source": [
    "def find_neighbors(tract_id: str, tracts_gdf: gpd.GeoDataFrame) -> pd.Series:\n",
    "    tgt_geom = tracts_gdf.pipe(lambda df: df[df[\"GEOID\"] == tract_id]).iloc[0][\n",
    "        \"geometry\"\n",
    "    ]\n",
    "    neighbor_ids = tracts_gdf.pipe(\n",
    "        lambda df: df[df[\"geometry\"].touches(tgt_geom)][\"GEOID\"]\n",
    "    )\n",
    "    return neighbor_ids"
   ]
  },
  {
   "cell_type": "code",
   "execution_count": null,
   "id": "b5a6c0c0-9858-4677-a810-dff6d77115a1",
   "metadata": {
    "tags": []
   },
   "outputs": [],
   "source": [
    "def neighbor_closest_to_mean_of_all_neighbors(df):\n",
    "    var_names = [\"PPOPWOINS\", \"PPOPWINSPRIV\", \"PPOPWMEDICARE\", \"PPOPWMEDICAID\"]\n",
    "    mean_point = df[var_names].mean()\n",
    "\n",
    "    def distance_to_mean(row: pd.Series, mean_point: pd.Series) -> float:\n",
    "        return np.sqrt(np.sum(np.power((row - mean_point).values, 2)))\n",
    "\n",
    "    return (\n",
    "        df.assign(\n",
    "            dist=lambda df: (\n",
    "                df[var_names].apply(distance_to_mean, mean_point=mean_point, axis=1)\n",
    "            )\n",
    "        )\n",
    "        .sort_values(by=\"dist\")\n",
    "        .iloc[0][\"neighbor_fips\"]\n",
    "    )"
   ]
  },
  {
   "cell_type": "code",
   "execution_count": null,
   "id": "80f8cb8b-8f98-4772-8685-811dc6e098d6",
   "metadata": {
    "tags": []
   },
   "outputs": [],
   "source": [
    "missing_tracts_replacement_data_df = (\n",
    "    missing_data_tracts.rename(\"missing_tract_fips\")\n",
    "    .to_frame()\n",
    "    .groupby(\"missing_tract_fips\")\n",
    "    .apply(\n",
    "        lambda df: (\n",
    "            find_neighbors(\n",
    "                df.iloc[0][\"missing_tract_fips\"], nv_census_tracts_gdf\n",
    "            ).rename(\"neighbor_fips\")\n",
    "        )\n",
    "    )\n",
    "    .droplevel(1)\n",
    "    .to_frame()\n",
    "    .reset_index()\n",
    "    .merge(raw_ins_prob_df, how=\"left\", left_on=\"neighbor_fips\", right_on=\"tract_fips\")\n",
    "    .drop(columns=[\"tract_fips\", \"time_frame\"])\n",
    "    # remove neighbors that also have missing data\n",
    "    .pipe(lambda df: df[df[\"PPOPWOINS\"] != -9999])\n",
    "    # find census tract ID of neighbor most similar to mean of all neighbors\n",
    "    .groupby(\"missing_tract_fips\")\n",
    "    .apply(neighbor_closest_to_mean_of_all_neighbors)\n",
    "    .rename(\"neighbor_fips\")\n",
    "    .to_frame()\n",
    "    .reset_index()\n",
    "    .merge(raw_ins_prob_df, how=\"left\", left_on=\"neighbor_fips\", right_on=\"tract_fips\")\n",
    "    .drop(columns=[\"neighbor_fips\", \"tract_fips\"])\n",
    "    .rename(columns={\"missing_tract_fips\": \"tract_fips\"})\n",
    ")"
   ]
  },
  {
   "cell_type": "code",
   "execution_count": null,
   "id": "704afb8c-e714-4ba6-b062-fbb260c0cbf5",
   "metadata": {
    "tags": []
   },
   "outputs": [],
   "source": [
    "missing_tracts_replacement_data_df"
   ]
  },
  {
   "cell_type": "code",
   "execution_count": null,
   "id": "201b6845-0ae3-4b53-98aa-a7adf05869a3",
   "metadata": {
    "tags": []
   },
   "outputs": [],
   "source": [
    "def renormalize(row):\n",
    "    for v in var_names:\n",
    "        row[v] = row[v] * row[\"scale_fac\"] / 100\n",
    "    return row"
   ]
  },
  {
   "cell_type": "code",
   "execution_count": null,
   "id": "a0a98431-3d50-4799-9f77-537af16d518d",
   "metadata": {
    "tags": []
   },
   "outputs": [],
   "source": [
    "var_names = [\"PPOPWOINS\", \"PPOPWINSPRIV\", \"PPOPWMEDICARE\", \"PPOPWMEDICAID\"]\n",
    "col_names = {\n",
    "    \"tract_fips\": \"census_tract\",\n",
    "    \"PPOPWOINS\": \"prob_no_insurance\",\n",
    "    \"PPOPWMEDICAID\": \"prob_medicaid_insurance\",\n",
    "    \"PPOPWMEDICARE\": \"prob_medicare_insurance\",\n",
    "    \"PPOPWINSPRIV\": \"prob_private_insurance\",\n",
    "}\n",
    "proc_ins_prob_df = (\n",
    "    pd.concat(\n",
    "        [\n",
    "            raw_ins_prob_df.pipe(lambda df: df[df[\"PPOPWOINS\"] != -9999]),\n",
    "            missing_tracts_replacement_data_df,\n",
    "        ]\n",
    "    )\n",
    "    # Renormalize\n",
    "    .assign(scale_fac=lambda df: 100 / df[var_names].sum(1))\n",
    "    .apply(renormalize, axis=1)\n",
    "    .drop(columns=\"scale_fac\")\n",
    "    .rename(columns=col_names)\n",
    "    .loc[:, col_names.values()]\n",
    ")"
   ]
  },
  {
   "cell_type": "code",
   "execution_count": null,
   "id": "4aeaf21e-6ae6-47dd-8869-3675d9c42c95",
   "metadata": {
    "tags": []
   },
   "outputs": [],
   "source": [
    "proc_ins_prob_df.to_csv(DATA_DIR / \"insurance_status.csv\", index=False)"
   ]
  },
  {
   "cell_type": "markdown",
   "id": "081e335f-b766-4e70-b127-08bc15b3e265",
   "metadata": {},
   "source": [
    "## 2. Prob participate by insurance status"
   ]
  },
  {
   "cell_type": "markdown",
   "id": "aee189fe-fe75-4e21-b897-996363b7c540",
   "metadata": {},
   "source": [
    "`prop_participate_by_insurance_status.csv`\n",
    "\n",
    "Structure:\n",
    "- insurance_status_id  # 0 = no insurance, 1 = medicaid, 2 = medicare, 3 = private\n",
    "- probability participate"
   ]
  },
  {
   "cell_type": "code",
   "execution_count": null,
   "id": "1b404cf1-2e4d-496b-ab70-b32159c677dd",
   "metadata": {
    "tags": []
   },
   "outputs": [],
   "source": [
    "prob_participate_df = (\n",
    "    pd.DataFrame.from_records(\n",
    "        [\n",
    "            {\"status\": \"private\", \"sex\": \"male\", \"pct\": 3.2},\n",
    "            {\"status\": \"medicare\", \"sex\": \"male\", \"pct\": 2.7},\n",
    "            {\"status\": \"medicaid\", \"sex\": \"male\", \"pct\": 1.9},\n",
    "            {\"status\": \"no_insurance\", \"sex\": \"male\", \"pct\": 1.5},\n",
    "            {\"status\": \"private\", \"sex\": \"female\", \"pct\": 3.3},\n",
    "            {\"status\": \"medicare\", \"sex\": \"female\", \"pct\": 3.4},\n",
    "            {\"status\": \"medicaid\", \"sex\": \"female\", \"pct\": 2.8},\n",
    "            {\"status\": \"no_insurance\", \"sex\": \"female\", \"pct\": 0.9},\n",
    "        ]\n",
    "    )\n",
    "    .assign(prob=lambda df: df[\"pct\"] / 100)\n",
    "    .groupby(\"status\")[\"prob\"]\n",
    "    .mean()\n",
    "    .to_frame()\n",
    "    .join(\n",
    "        pd.Series(\n",
    "            {\"private\": 3, \"medicare\": 2, \"medicaid\": 1, \"no_insurance\": 0}\n",
    "        ).rename(\"insurance_status_id\")\n",
    "    )\n",
    "    .sort_values(\"insurance_status_id\")\n",
    "    .loc[:, [\"insurance_status_id\", \"prob\"]]\n",
    ")"
   ]
  },
  {
   "cell_type": "code",
   "execution_count": null,
   "id": "5153613d-7c7f-4b8f-b29a-c8fa54e66cd2",
   "metadata": {
    "tags": []
   },
   "outputs": [],
   "source": [
    "prob_participate_df.to_csv(\n",
    "    DATA_DIR / \"prob_participate_by_insurance_status.csv\", index=False\n",
    ")"
   ]
  },
  {
   "cell_type": "markdown",
   "id": "a4774497-29d0-4322-b7b5-c747cf007708",
   "metadata": {},
   "source": [
    "## 3. Probability overweight"
   ]
  },
  {
   "cell_type": "markdown",
   "id": "36ddebf0-9fbd-4852-bd97-d664957bee6d",
   "metadata": {},
   "source": [
    "The probability of being overweight differentiated by sex, race, and age group can be obtained from Quickstart Guide Chapter 12. Run through the code in that tutorial, and copy the file `prob_overweight_obese.csv` to the `data` directory in this project."
   ]
  },
  {
   "cell_type": "markdown",
   "id": "0f5f2fa6-40f0-4a2b-8353-147c6e183c0a",
   "metadata": {},
   "source": [
    "## 4. Probability develop diabetes over time"
   ]
  },
  {
   "cell_type": "markdown",
   "id": "9ef3e4c3-b6c2-4952-b10b-a81435878cdf",
   "metadata": {},
   "source": [
    "Average annual rate obtained from [Diabetes Prevention Program Research Group 2009](https://www.ncbi.nlm.nih.gov/pmc/articles/PMC3135022) Figure 4"
   ]
  },
  {
   "cell_type": "code",
   "execution_count": null,
   "id": "ec409bec-e47f-44af-a47e-61931ca2e159",
   "metadata": {
    "tags": []
   },
   "outputs": [],
   "source": [
    "rates_df = (\n",
    "    pd.Series({\"placebo\": 10.9, \"lifestyle\": 5.0})\n",
    "    .rename(\"rate_per_hundred_person_years\")\n",
    "    .to_frame()\n",
    "    .assign(rate_per_year=lambda df: df[\"rate_per_hundred_person_years\"] / 100)\n",
    "    .assign(\n",
    "        prob_per_year=lambda df: (\n",
    "            df.apply(\n",
    "                lambda row: row[\"rate_per_year\"] * np.exp(-row[\"rate_per_year\"]), axis=1\n",
    "            )\n",
    "        )\n",
    "    )\n",
    "    .rename_axis(\"intervention\")\n",
    "    .reset_index()\n",
    "    .rename_axis(\"intervention_id\")\n",
    "    .reset_index()\n",
    ")\n",
    "rates_df"
   ]
  },
  {
   "cell_type": "code",
   "execution_count": null,
   "id": "10f70da2-a843-4b7f-83f3-0d5632e25595",
   "metadata": {
    "tags": []
   },
   "outputs": [],
   "source": [
    "rates_df.to_csv(DATA_DIR / \"incidence_per_person_per_year.csv\", index=False)"
   ]
  },
  {
   "cell_type": "markdown",
   "id": "9673d59a-1a3c-4101-9ba7-c8d6eb3d3670",
   "metadata": {},
   "source": [
    "## Geographical data"
   ]
  },
  {
   "cell_type": "markdown",
   "id": "0d653a69-0305-4dec-b6aa-59b3d04a8f4d",
   "metadata": {
    "tags": []
   },
   "source": [
    "Download US County geographic boundary data in shapefile format from the [US Census website](https://www.census.gov/geographies/mapping-files/time-series/geo/cartographic-boundary.html) and read into a GeoDataFrame."
   ]
  },
  {
   "cell_type": "code",
   "execution_count": null,
   "id": "3fa30958-0e21-49e7-989d-55e72989fe24",
   "metadata": {
    "tags": []
   },
   "outputs": [],
   "source": [
    "nv_block_groups_gdf = get_state_block_groups_gdf(\"32\")"
   ]
  },
  {
   "cell_type": "markdown",
   "id": "7387bab3-1a1b-4320-ac4e-41bf2a51a8a5",
   "metadata": {},
   "source": [
    "## Model runs"
   ]
  },
  {
   "cell_type": "markdown",
   "id": "9f4a5594-b07e-46e0-8550-1e6ed365db88",
   "metadata": {},
   "source": [
    "Set `program_available = 1` in `model/main.fred`"
   ]
  },
  {
   "cell_type": "code",
   "execution_count": null,
   "id": "b2c1265c-d3dc-47fb-8c21-916d01479cd7",
   "metadata": {
    "tags": []
   },
   "outputs": [],
   "source": [
    "from epxexec.fred_job import FREDJob"
   ]
  },
  {
   "cell_type": "code",
   "execution_count": null,
   "id": "90f436ad-4405-47d9-9d83-6e5a1ddf0145",
   "metadata": {
    "tags": []
   },
   "outputs": [],
   "source": [
    "with_program_job = FREDJob(job_id=226)"
   ]
  },
  {
   "cell_type": "code",
   "execution_count": null,
   "id": "70e4babb-507c-40bb-a105-50785bfeaf8a",
   "metadata": {
    "tags": []
   },
   "outputs": [],
   "source": [
    "with_program_job = fred_job(\"model/main.fred\")"
   ]
  },
  {
   "cell_type": "markdown",
   "id": "b60d72b1-95ef-4cdc-8d3a-3f8c38312c14",
   "metadata": {},
   "source": [
    "Set `program_available = 0` in `model/main.fred`"
   ]
  },
  {
   "cell_type": "code",
   "execution_count": null,
   "id": "b5a9c5bc-190f-41b8-a842-88248ed84019",
   "metadata": {
    "tags": []
   },
   "outputs": [],
   "source": [
    "without_program_job = fred_job(\"model/main.fred\")"
   ]
  },
  {
   "cell_type": "code",
   "execution_count": null,
   "id": "a49c284b-20f3-4461-a1a7-0e45e715a5d1",
   "metadata": {
    "tags": []
   },
   "outputs": [],
   "source": [
    "without_program_job = FREDJob(job_id=227)"
   ]
  },
  {
   "cell_type": "code",
   "execution_count": null,
   "id": "e28aff7e-8ab8-4a6e-80b5-53e676934714",
   "metadata": {
    "tags": []
   },
   "outputs": [],
   "source": [
    "variables = (\n",
    "    VariableMeta(\"n_diagnosed\", \"diabetes_incidence.csv\"),\n",
    "    VariableMeta(\"n_participating\", \"program_participation.csv\"),\n",
    ")"
   ]
  },
  {
   "cell_type": "code",
   "execution_count": null,
   "id": "127b7f71-39ed-4b96-92c2-21ff8241e68c",
   "metadata": {
    "tags": []
   },
   "outputs": [],
   "source": [
    "def average_over_runs(df: pd.DataFrame) -> pd.DataFrame:\n",
    "    index_cols = [\"block_group\", \"calendar_year\", \"variable\"]\n",
    "    var_cols = [\"value\"]\n",
    "    return df.groupby(index_cols)[var_cols].mean().reset_index()"
   ]
  },
  {
   "cell_type": "code",
   "execution_count": null,
   "id": "5b341a25-9f3c-42c6-a4db-6e6a5e7f25b8",
   "metadata": {
    "tags": []
   },
   "outputs": [],
   "source": [
    "with_program_df = get_results_df(\n",
    "    with_program_job, variables, nv_block_groups_gdf[\"block_group\"], (2023, 2028)\n",
    ").pipe(average_over_runs)\n",
    "\n",
    "without_program_df = get_results_df(\n",
    "    without_program_job, variables, nv_block_groups_gdf[\"block_group\"], (2023, 2028)\n",
    ").pipe(average_over_runs)"
   ]
  },
  {
   "cell_type": "code",
   "execution_count": null,
   "id": "83e77d61-a28c-4e90-b3f6-987a038a4f73",
   "metadata": {
    "tags": []
   },
   "outputs": [],
   "source": [
    "with_program_df.set_index(['block_group', 'calendar_year', 'variable'])['value'].unstack().reset_index()"
   ]
  },
  {
   "cell_type": "code",
   "execution_count": null,
   "id": "b51ecab8-e774-4feb-88cf-ba8d73ff987e",
   "metadata": {
    "tags": []
   },
   "outputs": [],
   "source": [
    "inc_df = (\n",
    "    pd.concat(\n",
    "        [\n",
    "            with_program_df.assign(scenario=\"with_program\"),\n",
    "            without_program_df.assign(scenario=\"without_program\"),\n",
    "        ]\n",
    "    )\n",
    "    .set_index([\"block_group\", \"calendar_year\", \"scenario\"])\n",
    "    .unstack(\"scenario\")\n",
    ")\n",
    "inc_df.columns = [\"_\".join(col).strip() for col in inc_df.columns.values]\n",
    "inc_df = inc_df.assign(\n",
    "    diff=lambda df: df[\"n_diagnosed_without_program\"] - df[\"n_diagnosed_with_program\"]\n",
    ")"
   ]
  },
  {
   "cell_type": "code",
   "execution_count": null,
   "id": "fca0eee3-3da4-4480-8101-f642e73d78ac",
   "metadata": {
    "tags": []
   },
   "outputs": [],
   "source": [
    "with_program_df.pipe(\n",
    "    lambda df: df[(df[\"calendar_year\"] == 2028) & (df[\"cume_n_diagnosed\"] > 0)]\n",
    ")[\"cume_n_diagnosed\"].max()"
   ]
  },
  {
   "cell_type": "code",
   "execution_count": null,
   "id": "b887dc50-420c-4897-82c6-47b04a90d1c7",
   "metadata": {
    "tags": []
   },
   "outputs": [],
   "source": [
    "without_program_df.pipe(\n",
    "    lambda df: df[(df[\"calendar_year\"] == 2028) & (df[\"cume_n_diagnosed\"] > 0)]\n",
    ")[\"cume_n_diagnosed\"].max()"
   ]
  },
  {
   "cell_type": "markdown",
   "id": "2a5533ac-0fe3-4c38-925a-a4eb84bb6325",
   "metadata": {},
   "source": [
    "## Plot outputs"
   ]
  },
  {
   "cell_type": "code",
   "execution_count": null,
   "id": "11a07f68-9484-4acf-a368-7cb2d6aa9ca5",
   "metadata": {
    "tags": []
   },
   "outputs": [],
   "source": [
    "results_df = pd.read_csv(\"results/nv_results.csv\")\n",
    "results_df.head()"
   ]
  },
  {
   "cell_type": "code",
   "execution_count": null,
   "id": "f22ccd35-0370-45f3-8895-762b62d3e8c5",
   "metadata": {
    "tags": []
   },
   "outputs": [],
   "source": [
    "nv_center = {\"lat\": 38.9, \"lon\": -116.4}"
   ]
  },
  {
   "cell_type": "code",
   "execution_count": null,
   "id": "8f0e6dfc-9611-4dfe-95c3-dd4589e6c37a",
   "metadata": {
    "tags": []
   },
   "outputs": [],
   "source": [
    "plot_cume_diagnoses(\n",
    "    results_df.pipe(lambda df: df[df[\"scenario\"] == \"without_program\"]),\n",
    "    nv_block_groups_gdf,\n",
    "    \"Nevada\",\n",
    "    nv_center,\n",
    ")"
   ]
  },
  {
   "cell_type": "code",
   "execution_count": null,
   "id": "40661cf2-8bbf-411b-8a88-ec4047b269a2",
   "metadata": {
    "tags": []
   },
   "outputs": [],
   "source": [
    "plot_cume_diagnoses(\n",
    "    results_df.pipe(lambda df: df[df[\"scenario\"] == \"with_program\"]),\n",
    "    nv_block_groups_gdf,\n",
    "    \"Nevada\",\n",
    "    nv_center,\n",
    ")"
   ]
  }
 ],
 "metadata": {
  "kernelspec": {
   "display_name": "Python 3 (ipykernel)",
   "language": "python",
   "name": "python3"
  },
  "language_info": {
   "codemirror_mode": {
    "name": "ipython",
    "version": 3
   },
   "file_extension": ".py",
   "mimetype": "text/x-python",
   "name": "python",
   "nbconvert_exporter": "python",
   "pygments_lexer": "ipython3",
   "version": "3.10.10"
  }
 },
 "nbformat": 4,
 "nbformat_minor": 5
}
