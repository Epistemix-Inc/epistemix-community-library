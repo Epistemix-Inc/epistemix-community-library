{
 "cells": [
  {
   "cell_type": "markdown",
   "id": "6404f1a8-a11e-4501-90c1-42454cc08294",
   "metadata": {},
   "source": [
    "# Diabetes prevention program model"
   ]
  },
  {
   "cell_type": "code",
   "execution_count": null,
   "id": "8d6b214f-6261-4191-96d9-c3a28eab2900",
   "metadata": {
    "tags": []
   },
   "outputs": [],
   "source": [
    "from pathlib import Path\n",
    "\n",
    "import numpy as np\n",
    "import pandas as pd\n",
    "import geopandas as gpd"
   ]
  },
  {
   "cell_type": "code",
   "execution_count": null,
   "id": "f9f58c6d-d8d8-4790-b62e-677f69387b39",
   "metadata": {
    "tags": []
   },
   "outputs": [],
   "source": [
    "DATA_DIR = Path(\"data\")"
   ]
  },
  {
   "cell_type": "markdown",
   "id": "c6659e7c-de01-401c-8d23-bcf5e6ca0c1c",
   "metadata": {},
   "source": [
    "## 0. Data required\n",
    "\n",
    "1. Insurance category probabilities by census tract, age, sex, and race provided by PolicyMap\n",
    "2. Program engagement by insurance category from Alva et al. 2022 \n",
    "3. Program eligibility from Flegal et al. 2012 dataset used for include_external_data.ipynb. Note that from https://www.cdc.gov/diabetes/prevention/pdf/dprp-standards.pdf, people over the age of 18 are eligible if they have a BMI >= 25 and don’t already have a type-2 diabetes diagnosis\n",
    "4. Probability of developing diabetes over time from https://www.ncbi.nlm.nih.gov/pmc/articles/PMC3135022/"
   ]
  },
  {
   "cell_type": "markdown",
   "id": "e3c0e2ec-c225-47f1-b940-50944b172f3f",
   "metadata": {},
   "source": [
    "## 1. Insurace category probabilities"
   ]
  },
  {
   "cell_type": "markdown",
   "id": "89aaedbf-657c-412e-8c3e-da226147726f",
   "metadata": {},
   "source": [
    "`insurance_status.csv`\n",
    "Formatted data structure:\n",
    "\n",
    "- census_tract, 0\n",
    "- prob_no_insurance, 1\n",
    "- prob_medicaid_insurance, 2\n",
    "- prob_medicare_insurance, 3\n",
    "- prob_private_insurance, 4\n"
   ]
  },
  {
   "cell_type": "markdown",
   "id": "50135e87-e463-403a-94f5-882e62490f61",
   "metadata": {},
   "source": [
    "Base data extracted from the census by Brian at PolicyMap. Represents total probabilities of being in each category for each census tract."
   ]
  },
  {
   "cell_type": "code",
   "execution_count": null,
   "id": "db06e271-60da-4dcc-9e61-91b6c793ed4e",
   "metadata": {
    "tags": []
   },
   "outputs": [],
   "source": [
    "col_types = {\n",
    "    \"tract_fips\": str,\n",
    "    \"time_frame\": str,\n",
    "    \"PPOPWOINS\": float,\n",
    "    \"PPOPWMEDICAID\": float,\n",
    "    \"PPOPWMEDICARE\": float,\n",
    "    \"PPOPWINSPRIV\": float,\n",
    "}\n",
    "raw_ins_prob_df = pd.read_csv(\n",
    "    DATA_DIR / \"raw/nevada_tracts_insurance_indicators.csv\",\n",
    "    dtype=col_types,\n",
    "    usecols=col_types.keys(),\n",
    ")\n",
    "raw_ins_prob_df.head()"
   ]
  },
  {
   "cell_type": "markdown",
   "id": "d164d242-9e8d-44b2-861f-2c152d6bcf03",
   "metadata": {
    "tags": []
   },
   "source": [
    "[US Census website](https://www.census.gov/geographies/mapping-files/time-series/geo/cartographic-boundary.html)"
   ]
  },
  {
   "cell_type": "code",
   "execution_count": null,
   "id": "b09d73d0-45d4-48d5-8863-b93ca0e308ac",
   "metadata": {
    "tags": []
   },
   "outputs": [],
   "source": [
    "nv_census_tracts_url = (\n",
    "    \"https://www2.census.gov/geo/tiger/GENZ2022/shp/cb_2022_32_tract_500k.zip\"\n",
    ")\n",
    "nv_census_tracts_gdf = gpd.read_file(nv_census_tracts_url)\n",
    "nv_census_tracts_gdf.head(2)"
   ]
  },
  {
   "cell_type": "markdown",
   "id": "ffae5062-24db-4382-9ef3-74e49fd6f69d",
   "metadata": {},
   "source": [
    "Check completeness of census tracts in `raw_ins_prob_df` compared to census geo data"
   ]
  },
  {
   "cell_type": "code",
   "execution_count": null,
   "id": "f61d0103-fab0-4f3e-a5cc-6f6f10402181",
   "metadata": {
    "tags": []
   },
   "outputs": [],
   "source": [
    "assert (\n",
    "    len(\n",
    "        (\n",
    "            nv_census_tracts_gdf[[\"NAMELSAD\", \"GEOID\"]]\n",
    "            .merge(raw_ins_prob_df, how=\"left\", left_on=\"GEOID\", right_on=\"tract_fips\")\n",
    "            .pipe(lambda df: df[df[\"tract_fips\"].isna()])\n",
    "        ).index\n",
    "    )\n",
    "    == 0\n",
    ")"
   ]
  },
  {
   "cell_type": "markdown",
   "id": "c335854e-7118-4ce7-a0c7-967eabbe39b5",
   "metadata": {},
   "source": [
    "List tracts with missing data in `raw_ins_prob_df`"
   ]
  },
  {
   "cell_type": "code",
   "execution_count": null,
   "id": "41094243-7053-420f-926b-13a15c611f6b",
   "metadata": {
    "tags": []
   },
   "outputs": [],
   "source": [
    "missing_data_tracts: pd.Series = raw_ins_prob_df.pipe(\n",
    "    lambda df: df[df[\"PPOPWOINS\"] == -9999]\n",
    ")[\"tract_fips\"]"
   ]
  },
  {
   "cell_type": "code",
   "execution_count": null,
   "id": "49a5820a-0375-4409-8db5-3c748615d109",
   "metadata": {
    "tags": []
   },
   "outputs": [],
   "source": [
    "def find_neighbors(tract_id: str, tracts_gdf: gpd.GeoDataFrame) -> pd.Series:\n",
    "    tgt_geom = tracts_gdf.pipe(lambda df: df[df[\"GEOID\"] == tract_id]).iloc[0][\n",
    "        \"geometry\"\n",
    "    ]\n",
    "    neighbor_ids = tracts_gdf.pipe(\n",
    "        lambda df: df[df[\"geometry\"].touches(tgt_geom)][\"GEOID\"]\n",
    "    )\n",
    "    return neighbor_ids"
   ]
  },
  {
   "cell_type": "code",
   "execution_count": null,
   "id": "b5a6c0c0-9858-4677-a810-dff6d77115a1",
   "metadata": {
    "tags": []
   },
   "outputs": [],
   "source": [
    "def neighbor_closest_to_mean_of_all_neighbors(df):\n",
    "    var_names = [\"PPOPWOINS\", \"PPOPWINSPRIV\", \"PPOPWMEDICARE\", \"PPOPWMEDICAID\"]\n",
    "    mean_point = df[var_names].mean()\n",
    "\n",
    "    def distance_to_mean(row: pd.Series, mean_point: pd.Series) -> float:\n",
    "        return np.sqrt(np.sum(np.power((row - mean_point).values, 2)))\n",
    "\n",
    "    return (\n",
    "        df.assign(\n",
    "            dist=lambda df: (\n",
    "                df[var_names].apply(distance_to_mean, mean_point=mean_point, axis=1)\n",
    "            )\n",
    "        )\n",
    "        .sort_values(by=\"dist\")\n",
    "        .iloc[0][\"neighbor_fips\"]\n",
    "    )"
   ]
  },
  {
   "cell_type": "code",
   "execution_count": null,
   "id": "80f8cb8b-8f98-4772-8685-811dc6e098d6",
   "metadata": {
    "tags": []
   },
   "outputs": [],
   "source": [
    "missing_tracts_replacement_data_df = (\n",
    "    missing_data_tracts.rename(\"missing_tract_fips\")\n",
    "    .to_frame()\n",
    "    .groupby(\"missing_tract_fips\")\n",
    "    .apply(\n",
    "        lambda df: (\n",
    "            find_neighbors(\n",
    "                df.iloc[0][\"missing_tract_fips\"], nv_census_tracts_gdf\n",
    "            ).rename(\"neighbor_fips\")\n",
    "        )\n",
    "    )\n",
    "    .droplevel(1)\n",
    "    .to_frame()\n",
    "    .reset_index()\n",
    "    .merge(raw_ins_prob_df, how=\"left\", left_on=\"neighbor_fips\", right_on=\"tract_fips\")\n",
    "    .drop(columns=[\"tract_fips\", \"time_frame\"])\n",
    "    # remove neighbors that also have missing data\n",
    "    .pipe(lambda df: df[df[\"PPOPWOINS\"] != -9999])\n",
    "    # find census tract ID of neighbor most similar to mean of all neighbors\n",
    "    .groupby(\"missing_tract_fips\")\n",
    "    .apply(neighbor_closest_to_mean_of_all_neighbors)\n",
    "    .rename(\"neighbor_fips\")\n",
    "    .to_frame()\n",
    "    .reset_index()\n",
    "    .merge(raw_ins_prob_df, how=\"left\", left_on=\"neighbor_fips\", right_on=\"tract_fips\")\n",
    "    .drop(columns=[\"neighbor_fips\", \"tract_fips\"])\n",
    "    .rename(columns={\"missing_tract_fips\": \"tract_fips\"})\n",
    ")"
   ]
  },
  {
   "cell_type": "code",
   "execution_count": null,
   "id": "704afb8c-e714-4ba6-b062-fbb260c0cbf5",
   "metadata": {
    "tags": []
   },
   "outputs": [],
   "source": [
    "missing_tracts_replacement_data_df"
   ]
  },
  {
   "cell_type": "code",
   "execution_count": null,
   "id": "201b6845-0ae3-4b53-98aa-a7adf05869a3",
   "metadata": {
    "tags": []
   },
   "outputs": [],
   "source": [
    "def renormalize(row):\n",
    "    for v in var_names:\n",
    "        row[v] = row[v] * row[\"scale_fac\"] / 100\n",
    "    return row"
   ]
  },
  {
   "cell_type": "code",
   "execution_count": null,
   "id": "a0a98431-3d50-4799-9f77-537af16d518d",
   "metadata": {
    "tags": []
   },
   "outputs": [],
   "source": [
    "var_names = [\"PPOPWOINS\", \"PPOPWINSPRIV\", \"PPOPWMEDICARE\", \"PPOPWMEDICAID\"]\n",
    "col_names = {\n",
    "    \"tract_fips\": \"census_tract\",\n",
    "    \"PPOPWOINS\": \"prob_no_insurance\",\n",
    "    \"PPOPWMEDICAID\": \"prob_medicaid_insurance\",\n",
    "    \"PPOPWMEDICARE\": \"prob_medicare_insurance\",\n",
    "    \"PPOPWINSPRIV\": \"prob_private_insurance\",\n",
    "}\n",
    "proc_ins_prob_df = (\n",
    "    pd.concat(\n",
    "        [\n",
    "            raw_ins_prob_df.pipe(lambda df: df[df[\"PPOPWOINS\"] != -9999]),\n",
    "            missing_tracts_replacement_data_df,\n",
    "        ]\n",
    "    )\n",
    "    # Renormalize\n",
    "    .assign(scale_fac=lambda df: 100 / df[var_names].sum(1))\n",
    "    .apply(renormalize, axis=1)\n",
    "    .drop(columns=\"scale_fac\")\n",
    "    .rename(columns=col_names)\n",
    "    .loc[:, col_names.values()]\n",
    ")"
   ]
  },
  {
   "cell_type": "code",
   "execution_count": null,
   "id": "4aeaf21e-6ae6-47dd-8869-3675d9c42c95",
   "metadata": {
    "tags": []
   },
   "outputs": [],
   "source": [
    "proc_ins_prob_df.to_csv(DATA_DIR / \"insurance_status.csv\", index=False)"
   ]
  },
  {
   "cell_type": "markdown",
   "id": "081e335f-b766-4e70-b127-08bc15b3e265",
   "metadata": {},
   "source": [
    "## 2. Prob participate by insurance status"
   ]
  },
  {
   "cell_type": "markdown",
   "id": "aee189fe-fe75-4e21-b897-996363b7c540",
   "metadata": {},
   "source": [
    "`prop_participate_by_insurance_status.csv`\n",
    "\n",
    "Structure:\n",
    "- insurance_status_id  # 0 = no insurance, 1 = medicaid, 2 = medicare, 3 = private\n",
    "- probability participate"
   ]
  },
  {
   "cell_type": "code",
   "execution_count": null,
   "id": "1b404cf1-2e4d-496b-ab70-b32159c677dd",
   "metadata": {
    "tags": []
   },
   "outputs": [],
   "source": [
    "prob_participate_df = (\n",
    "    pd.DataFrame.from_records(\n",
    "        [\n",
    "            {\"status\": \"private\", \"sex\": \"male\", \"pct\": 3.2},\n",
    "            {\"status\": \"medicare\", \"sex\": \"male\", \"pct\": 2.7},\n",
    "            {\"status\": \"medicaid\", \"sex\": \"male\", \"pct\": 1.9},\n",
    "            {\"status\": \"no_insurance\", \"sex\": \"male\", \"pct\": 1.5},\n",
    "            {\"status\": \"private\", \"sex\": \"female\", \"pct\": 3.3},\n",
    "            {\"status\": \"medicare\", \"sex\": \"female\", \"pct\": 3.4},\n",
    "            {\"status\": \"medicaid\", \"sex\": \"female\", \"pct\": 2.8},\n",
    "            {\"status\": \"no_insurance\", \"sex\": \"female\", \"pct\": 0.9},\n",
    "        ]\n",
    "    )\n",
    "    .assign(prob=lambda df: df[\"pct\"] / 100)\n",
    "    .groupby(\"status\")[\"prob\"]\n",
    "    .mean()\n",
    "    .to_frame()\n",
    "    .join(\n",
    "        pd.Series(\n",
    "            {\"private\": 3, \"medicare\": 2, \"medicaid\": 1, \"no_insurance\": 0}\n",
    "        ).rename(\"insurance_status_id\")\n",
    "    )\n",
    "    .sort_values(\"insurance_status_id\")\n",
    "    .loc[:, [\"insurance_status_id\", \"prob\"]]\n",
    ")"
   ]
  },
  {
   "cell_type": "code",
   "execution_count": null,
   "id": "5153613d-7c7f-4b8f-b29a-c8fa54e66cd2",
   "metadata": {
    "tags": []
   },
   "outputs": [],
   "source": [
    "prob_participate_df.to_csv(\n",
    "    DATA_DIR / \"prob_participate_by_insurance_status.csv\", index=False\n",
    ")"
   ]
  },
  {
   "cell_type": "markdown",
   "id": "a4774497-29d0-4322-b7b5-c747cf007708",
   "metadata": {},
   "source": [
    "## 3. Probability overweight"
   ]
  },
  {
   "cell_type": "markdown",
   "id": "36ddebf0-9fbd-4852-bd97-d664957bee6d",
   "metadata": {},
   "source": [
    "The probability of being overweight differentiated by sex, race, and age group can be obtained from Quickstart Guide Chapter 12. Run through the code in that tutorial, and copy the file `prob_overweight_obese.csv` to the `data` directory in this project."
   ]
  },
  {
   "cell_type": "markdown",
   "id": "0f5f2fa6-40f0-4a2b-8353-147c6e183c0a",
   "metadata": {},
   "source": [
    "## 4. Probability develop diabetes over time"
   ]
  },
  {
   "cell_type": "markdown",
   "id": "9ef3e4c3-b6c2-4952-b10b-a81435878cdf",
   "metadata": {},
   "source": [
    "Average annual rate obtained from [Diabetes Prevention Program Research Group 2009](https://www.ncbi.nlm.nih.gov/pmc/articles/PMC3135022) Figure 4"
   ]
  },
  {
   "cell_type": "code",
   "execution_count": null,
   "id": "ec409bec-e47f-44af-a47e-61931ca2e159",
   "metadata": {
    "tags": []
   },
   "outputs": [],
   "source": [
    "rates_df = (\n",
    "    pd.Series({\"placebo\": 10.9, \"lifestyle\": 5.0})\n",
    "    .rename(\"rate_per_hundred_person_years\")\n",
    "    .to_frame()\n",
    "    .assign(rate_per_year=lambda df: df[\"rate_per_hundred_person_years\"] / 100)\n",
    "    .assign(\n",
    "        prob_per_year=lambda df: (\n",
    "            df.apply(\n",
    "                lambda row: row[\"rate_per_year\"] * np.exp(-row[\"rate_per_year\"]), axis=1\n",
    "            )\n",
    "        )\n",
    "    )\n",
    "    .rename_axis(\"intervention\")\n",
    "    .reset_index()\n",
    "    .rename_axis(\"intervention_id\")\n",
    "    .reset_index()\n",
    ")\n",
    "rates_df"
   ]
  },
  {
   "cell_type": "code",
   "execution_count": null,
   "id": "10f70da2-a843-4b7f-83f3-0d5632e25595",
   "metadata": {
    "tags": []
   },
   "outputs": [],
   "source": [
    "rates_df.to_csv(DATA_DIR / \"incidence_per_person_per_year.csv\", index=False)"
   ]
  },
  {
   "cell_type": "markdown",
   "id": "7387bab3-1a1b-4320-ac4e-41bf2a51a8a5",
   "metadata": {},
   "source": [
    "## Model runs"
   ]
  },
  {
   "cell_type": "code",
   "execution_count": null,
   "id": "e7e36060-b99b-400f-8307-0143b9f4f2a1",
   "metadata": {
    "tags": []
   },
   "outputs": [],
   "source": [
    "from epxexec import fred_job"
   ]
  },
  {
   "cell_type": "code",
   "execution_count": null,
   "id": "205c076f-0f68-4579-ab3e-dbe3b15593dc",
   "metadata": {
    "tags": []
   },
   "outputs": [],
   "source": [
    "?fred_job"
   ]
  },
  {
   "cell_type": "code",
   "execution_count": null,
   "id": "70e4babb-507c-40bb-a105-50785bfeaf8a",
   "metadata": {
    "tags": []
   },
   "outputs": [],
   "source": [
    "ec_test = fred_job(\"model/main.fred\")"
   ]
  },
  {
   "cell_type": "code",
   "execution_count": null,
   "id": "4b535737-079c-42b2-9909-a9afa1e08f78",
   "metadata": {
    "tags": []
   },
   "outputs": [],
   "source": [
    "di_inc_df = (\n",
    "    ec_test.runs[1]\n",
    "    .get_csv_output(\"diabetes_incidence.csv\")\n",
    "    .pipe(\n",
    "        lambda df: (\n",
    "            df.merge(\n",
    "                df[\"sim_day\"]\n",
    "                .value_counts()\n",
    "                .sort_index()\n",
    "                .to_frame()\n",
    "                .reset_index()\n",
    "                .rename_axis(\"sim_year\")\n",
    "                .reset_index()\n",
    "                .loc[:, [\"sim_year\", \"sim_day\"]],\n",
    "                on=\"sim_day\",\n",
    "            )\n",
    "        )\n",
    "    )\n",
    "    .pipe(lambda df: df[df[\"Census_Tract\"] != 0])\n",
    "    .groupby([\"sim_year\", \"Census_Tract\"])\n",
    "    .size()\n",
    "    .rename(\"n_diagnosed\")\n",
    "    .reset_index()\n",
    ")"
   ]
  },
  {
   "cell_type": "code",
   "execution_count": null,
   "id": "ba4026cc-8cf7-4fa8-8adc-6fc85a813d0c",
   "metadata": {
    "tags": []
   },
   "outputs": [],
   "source": [
    "di_inc_df"
   ]
  },
  {
   "cell_type": "code",
   "execution_count": null,
   "id": "1ef6b383-918a-4c08-8ba6-84fda379085e",
   "metadata": {
    "tags": []
   },
   "outputs": [],
   "source": [
    "import plotly.express as px\n",
    "\n",
    "mapstyle = \"mapbox://styles/pnowell/cl4n9fic8001i15mnfmozrt8j\"\n",
    "token = \"pk.eyJ1IjoicG5vd2VsbCIsImEiOiJja201bHptMXkwZnQyMnZxcnFveTVhM2tyIn0.Pyarp9gHCON4reKvM2fZZg\""
   ]
  },
  {
   "cell_type": "markdown",
   "id": "092b1091-e340-407e-8d02-20ab821143fb",
   "metadata": {},
   "source": [
    "GeoJSON layers https://plotly.com/python/filled-area-on-mapbox/?_gl=1*189jf29*_ga*Njk4MTQ1MTMzLjE2OTQ3MDI1NzM.*_ga_6G7EE0JNSC*MTY5NDcwMjU3Mi4xLjEuMTY5NDcwMjYxMC4yMi4wLjA.#geojson-layers"
   ]
  },
  {
   "cell_type": "code",
   "execution_count": null,
   "id": "2a3fe30e-0666-4e0d-9838-3b9759a89604",
   "metadata": {},
   "outputs": [],
   "source": [
    "# fig = px.scatter_mapbox(anim_places,\n",
    "#                         lon=\"lon\", lat=\"lat\",\n",
    "#                         color=\"agent_status\",\n",
    "#                         color_discrete_sequence=[\n",
    "#                             \"white\", # empty\n",
    "#                             \"gray\", # jailed\n",
    "#                             px.colors.qualitative.Plotly[2], # passive\n",
    "#                             px.colors.qualitative.Plotly[1], # rebel\n",
    "#                             px.colors.qualitative.Plotly[0]], # cop\n",
    "#                         opacity=0.95,\n",
    "#                         zoom=9.6,\n",
    "#                         size=\"size_val\", size_max=5,\n",
    "#                         animation_frame=\"simday\",\n",
    "#                         animation_group=\"place_id\"\n",
    "#                 )\n",
    "\n",
    "\n",
    "# fig.update_layout(mapbox_style=mapstyle, mapbox_accesstoken=token)\n",
    "\n",
    "# fig.update_layout(height=800,)\n",
    "# fig.update_yaxes(\n",
    "#     scaleanchor=\"x\",\n",
    "#     scaleratio=1,\n",
    "#   )\n",
    "\n",
    "# fig.layout.updatemenus[0].buttons[0].args[1][\"frame\"][\"duration\"] = 200\n",
    "# fig.layout.updatemenus[0].buttons[0].args[1][\"transition\"][\"duration\"] = 0\n",
    "\n",
    "# fig.update_layout(\n",
    "#     font_family=\"Epistemix Label\",\n",
    "#     title=\"Rebellion model; Grand Isle County, VT\",\n",
    "#     title_font_size=24,\n",
    "# )\n",
    "\n",
    "# fig.show()"
   ]
  }
 ],
 "metadata": {
  "kernelspec": {
   "display_name": "Python 3 (ipykernel)",
   "language": "python",
   "name": "python3"
  },
  "language_info": {
   "codemirror_mode": {
    "name": "ipython",
    "version": 3
   },
   "file_extension": ".py",
   "mimetype": "text/x-python",
   "name": "python",
   "nbconvert_exporter": "python",
   "pygments_lexer": "ipython3",
   "version": "3.10.10"
  }
 },
 "nbformat": 4,
 "nbformat_minor": 5
}
