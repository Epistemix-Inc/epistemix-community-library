{
 "cells": [
  {
   "cell_type": "markdown",
   "id": "6404f1a8-a11e-4501-90c1-42454cc08294",
   "metadata": {},
   "source": [
    "# Diabetes Prevention Program model"
   ]
  },
  {
   "cell_type": "markdown",
   "id": "bcb46dc9-7b4c-45fa-a1a2-e23326d9574d",
   "metadata": {},
   "source": [
    "This notebook demonstrates how to run and analyze the results of the Diabetes Prevention Program (DPP) model described in the model `README.md` file.\n",
    "\n",
    "First, install model-specific Python requirements and import dependencies."
   ]
  },
  {
   "cell_type": "code",
   "execution_count": null,
   "id": "46f3b791-5ddc-46f4-9502-efe914e14463",
   "metadata": {
    "tags": []
   },
   "outputs": [],
   "source": [
    "!python -m pip install -r requirements.txt"
   ]
  },
  {
   "cell_type": "code",
   "execution_count": null,
   "id": "8d6b214f-6261-4191-96d9-c3a28eab2900",
   "metadata": {
    "tags": []
   },
   "outputs": [],
   "source": [
    "from pathlib import Path\n",
    "\n",
    "import numpy as np\n",
    "import pandas as pd\n",
    "import geopandas as gpd\n",
    "\n",
    "from epxexec import fred_job\n",
    "from epxexec.fred_job import FREDJob\n",
    "\n",
    "import matplotlib.pyplot as plt\n",
    "import seaborn as sns\n",
    "\n",
    "from diabetes_prevention import (\n",
    "    VariableMeta,\n",
    "    get_state_block_groups_gdf,\n",
    "    get_results_df,\n",
    "    plot_cume_diagnoses,\n",
    ")\n",
    "\n",
    "from epxpop import SynthPop"
   ]
  },
  {
   "cell_type": "markdown",
   "id": "cf821922-73a6-40e0-99dd-9aecb65a6ac2",
   "metadata": {},
   "source": [
    "## 1. Generate data files required by the model"
   ]
  },
  {
   "cell_type": "markdown",
   "id": "3ee69742-9e90-4ed9-b534-31580e39ea63",
   "metadata": {},
   "source": [
    "The FRED model requires the following set of data files as input to configure the model to have realistic diabetes incidence dynamics:\n",
    "\n",
    "1. `prob_overweight_obese.csv`, probability that an individual is overweight or obese by age group, sex, and race.\n",
    "2. `insurance_status.csv`, proportion of people in each census block group in the simulated geography with no insurance, Medicare insurance, Medicaid insurance, and private insurance.\n",
    "3. `prob_participate_by_insurance_status.csv`, probabilities that overweight individuals with no insurance, Medicare insurance, Medicaid insurance, and private insurance will choose to participate in a DPP.\n",
    "4. `incidence_per_person_per_year.csv`, probability that an overweight individual will develop diabetes in a given year subject to whether or not they are participating in a DPP.\n",
    "\n",
    "In the following subsections, we run functions needed to generate these files in the format required by the FRED model from upstream data sources.\n",
    "\n",
    "First, define a `DATA_DIR` variable specifying the directory that will contain our model input data. This corresponds to the directory referenced in the model files in the `model` directory."
   ]
  },
  {
   "cell_type": "code",
   "execution_count": null,
   "id": "f9f58c6d-d8d8-4790-b62e-677f69387b39",
   "metadata": {
    "tags": []
   },
   "outputs": [],
   "source": [
    "DATA_DIR = Path(\"data\")"
   ]
  },
  {
   "cell_type": "markdown",
   "id": "c50c3beb-816a-42da-a241-1a0f933607b9",
   "metadata": {
    "tags": []
   },
   "source": [
    "### 1.1. `prob_overweight_obese.csv`\n",
    "\n",
    "Input: Program eligibility from [Flegal et al. 2012](https://jamanetwork.com/journals/jama/fullarticle/1104933) dataset used for include_external_data.ipynb. Note that from https://www.cdc.gov/diabetes/prevention/pdf/dprp-standards.pdf, people over the age of 18 are eligible if they have a BMI >= 25 and don’t already have a type-2 diabetes diagnosis"
   ]
  },
  {
   "cell_type": "markdown",
   "id": "af89d7f2-3cf0-4f19-a412-5c745fa8453b",
   "metadata": {},
   "source": [
    "The probability of being overweight differentiated by sex, race, and age group can be obtained from Quickstart Guide Chapter 12. Run through the code in that tutorial, and copy the file `prob_overweight_obese.csv` to the `data` directory in this project."
   ]
  },
  {
   "cell_type": "markdown",
   "id": "2c5878d0-cced-4701-8a00-e317d50c6468",
   "metadata": {
    "jp-MarkdownHeadingCollapsed": true,
    "tags": []
   },
   "source": [
    "### 1.2. `insurance_status.csv`\n",
    "\n",
    "Input: Insurance category probabilities by census tract, age, sex, and race provided by PolicyMap"
   ]
  },
  {
   "cell_type": "markdown",
   "id": "0f6b8c4c-558e-4cd8-9dde-5e3e6ac41a66",
   "metadata": {},
   "source": [
    "`insurance_status.csv`\n",
    "Formatted data structure:\n",
    "\n",
    "- census_tract, 0\n",
    "- prob_no_insurance, 1\n",
    "- prob_medicaid_insurance, 2\n",
    "- prob_medicare_insurance, 3\n",
    "- prob_private_insurance, 4\n"
   ]
  },
  {
   "cell_type": "markdown",
   "id": "f71d2dd5-9721-4f07-a652-f33cdc42567f",
   "metadata": {},
   "source": [
    "Base data extracted from the census by Brian at PolicyMap. Represents total probabilities of being in each category for each census tract."
   ]
  },
  {
   "cell_type": "code",
   "execution_count": null,
   "id": "db06e271-60da-4dcc-9e61-91b6c793ed4e",
   "metadata": {
    "tags": []
   },
   "outputs": [],
   "source": [
    "col_types = {\n",
    "    \"tract_fips\": str,\n",
    "    \"time_frame\": str,\n",
    "    \"PPOPWOINS\": float,\n",
    "    \"PPOPWMEDICAID\": float,\n",
    "    \"PPOPWMEDICARE\": float,\n",
    "    \"PPOPWINSPRIV\": float,\n",
    "}\n",
    "raw_ins_prob_df = pd.read_csv(\n",
    "    DATA_DIR / \"raw/nevada_tracts_insurance_indicators.csv\",\n",
    "    dtype=col_types,\n",
    "    usecols=col_types.keys(),\n",
    ")\n",
    "raw_ins_prob_df.head()"
   ]
  },
  {
   "cell_type": "markdown",
   "id": "69a0b369-c341-4643-9aac-730d3ac3ccd3",
   "metadata": {
    "tags": []
   },
   "source": [
    "[US Census website](https://www.census.gov/geographies/mapping-files/time-series/geo/cartographic-boundary.html)"
   ]
  },
  {
   "cell_type": "code",
   "execution_count": null,
   "id": "b09d73d0-45d4-48d5-8863-b93ca0e308ac",
   "metadata": {
    "tags": []
   },
   "outputs": [],
   "source": [
    "nv_census_tracts_url = (\n",
    "    \"https://www2.census.gov/geo/tiger/GENZ2022/shp/cb_2022_32_tract_500k.zip\"\n",
    ")\n",
    "nv_census_tracts_gdf = gpd.read_file(nv_census_tracts_url)\n",
    "nv_census_tracts_gdf.head(2)"
   ]
  },
  {
   "cell_type": "markdown",
   "id": "9e0ada25-89b0-415b-9649-155f8590255b",
   "metadata": {},
   "source": [
    "Check completeness of census tracts in `raw_ins_prob_df` compared to census geo data"
   ]
  },
  {
   "cell_type": "code",
   "execution_count": null,
   "id": "f61d0103-fab0-4f3e-a5cc-6f6f10402181",
   "metadata": {
    "tags": []
   },
   "outputs": [],
   "source": [
    "assert (\n",
    "    len(\n",
    "        (\n",
    "            nv_census_tracts_gdf[[\"NAMELSAD\", \"GEOID\"]]\n",
    "            .merge(raw_ins_prob_df, how=\"left\", left_on=\"GEOID\", right_on=\"tract_fips\")\n",
    "            .pipe(lambda df: df[df[\"tract_fips\"].isna()])\n",
    "        ).index\n",
    "    )\n",
    "    == 0\n",
    ")"
   ]
  },
  {
   "cell_type": "markdown",
   "id": "d0adac7a-d3ac-4ee6-ad17-50ef87c2a02d",
   "metadata": {},
   "source": [
    "List tracts with missing data in `raw_ins_prob_df`"
   ]
  },
  {
   "cell_type": "code",
   "execution_count": null,
   "id": "41094243-7053-420f-926b-13a15c611f6b",
   "metadata": {
    "tags": []
   },
   "outputs": [],
   "source": [
    "missing_data_tracts: pd.Series = raw_ins_prob_df.pipe(\n",
    "    lambda df: df[df[\"PPOPWOINS\"] == -9999]\n",
    ")[\"tract_fips\"]"
   ]
  },
  {
   "cell_type": "code",
   "execution_count": null,
   "id": "49a5820a-0375-4409-8db5-3c748615d109",
   "metadata": {
    "tags": []
   },
   "outputs": [],
   "source": [
    "def find_neighbors(tract_id: str, tracts_gdf: gpd.GeoDataFrame) -> pd.Series:\n",
    "    tgt_geom = tracts_gdf.pipe(lambda df: df[df[\"GEOID\"] == tract_id]).iloc[0][\n",
    "        \"geometry\"\n",
    "    ]\n",
    "    neighbor_ids = tracts_gdf.pipe(\n",
    "        lambda df: df[df[\"geometry\"].touches(tgt_geom)][\"GEOID\"]\n",
    "    )\n",
    "    return neighbor_ids"
   ]
  },
  {
   "cell_type": "code",
   "execution_count": null,
   "id": "b5a6c0c0-9858-4677-a810-dff6d77115a1",
   "metadata": {
    "tags": []
   },
   "outputs": [],
   "source": [
    "def neighbor_closest_to_mean_of_all_neighbors(df):\n",
    "    var_names = [\"PPOPWOINS\", \"PPOPWINSPRIV\", \"PPOPWMEDICARE\", \"PPOPWMEDICAID\"]\n",
    "    mean_point = df[var_names].mean()\n",
    "\n",
    "    def distance_to_mean(row: pd.Series, mean_point: pd.Series) -> float:\n",
    "        return np.sqrt(np.sum(np.power((row - mean_point).values, 2)))\n",
    "\n",
    "    return (\n",
    "        df.assign(\n",
    "            dist=lambda df: (\n",
    "                df[var_names].apply(distance_to_mean, mean_point=mean_point, axis=1)\n",
    "            )\n",
    "        )\n",
    "        .sort_values(by=\"dist\")\n",
    "        .iloc[0][\"neighbor_fips\"]\n",
    "    )"
   ]
  },
  {
   "cell_type": "code",
   "execution_count": null,
   "id": "80f8cb8b-8f98-4772-8685-811dc6e098d6",
   "metadata": {
    "tags": []
   },
   "outputs": [],
   "source": [
    "missing_tracts_replacement_data_df = (\n",
    "    missing_data_tracts.rename(\"missing_tract_fips\")\n",
    "    .to_frame()\n",
    "    .groupby(\"missing_tract_fips\")\n",
    "    .apply(\n",
    "        lambda df: (\n",
    "            find_neighbors(\n",
    "                df.iloc[0][\"missing_tract_fips\"], nv_census_tracts_gdf\n",
    "            ).rename(\"neighbor_fips\")\n",
    "        )\n",
    "    )\n",
    "    .droplevel(1)\n",
    "    .to_frame()\n",
    "    .reset_index()\n",
    "    .merge(raw_ins_prob_df, how=\"left\", left_on=\"neighbor_fips\", right_on=\"tract_fips\")\n",
    "    .drop(columns=[\"tract_fips\", \"time_frame\"])\n",
    "    # remove neighbors that also have missing data\n",
    "    .pipe(lambda df: df[df[\"PPOPWOINS\"] != -9999])\n",
    "    # find census tract ID of neighbor most similar to mean of all neighbors\n",
    "    .groupby(\"missing_tract_fips\")\n",
    "    .apply(neighbor_closest_to_mean_of_all_neighbors)\n",
    "    .rename(\"neighbor_fips\")\n",
    "    .to_frame()\n",
    "    .reset_index()\n",
    "    .merge(raw_ins_prob_df, how=\"left\", left_on=\"neighbor_fips\", right_on=\"tract_fips\")\n",
    "    .drop(columns=[\"neighbor_fips\", \"tract_fips\"])\n",
    "    .rename(columns={\"missing_tract_fips\": \"tract_fips\"})\n",
    ")"
   ]
  },
  {
   "cell_type": "code",
   "execution_count": null,
   "id": "704afb8c-e714-4ba6-b062-fbb260c0cbf5",
   "metadata": {
    "tags": []
   },
   "outputs": [],
   "source": [
    "missing_tracts_replacement_data_df"
   ]
  },
  {
   "cell_type": "code",
   "execution_count": null,
   "id": "201b6845-0ae3-4b53-98aa-a7adf05869a3",
   "metadata": {
    "tags": []
   },
   "outputs": [],
   "source": [
    "def renormalize(row):\n",
    "    for v in var_names:\n",
    "        row[v] = row[v] * row[\"scale_fac\"] / 100\n",
    "    return row"
   ]
  },
  {
   "cell_type": "code",
   "execution_count": null,
   "id": "a0a98431-3d50-4799-9f77-537af16d518d",
   "metadata": {
    "tags": []
   },
   "outputs": [],
   "source": [
    "var_names = [\"PPOPWOINS\", \"PPOPWINSPRIV\", \"PPOPWMEDICARE\", \"PPOPWMEDICAID\"]\n",
    "col_names = {\n",
    "    \"tract_fips\": \"census_tract\",\n",
    "    \"PPOPWOINS\": \"prob_no_insurance\",\n",
    "    \"PPOPWMEDICAID\": \"prob_medicaid_insurance\",\n",
    "    \"PPOPWMEDICARE\": \"prob_medicare_insurance\",\n",
    "    \"PPOPWINSPRIV\": \"prob_private_insurance\",\n",
    "}\n",
    "proc_ins_prob_df = (\n",
    "    pd.concat(\n",
    "        [\n",
    "            raw_ins_prob_df.pipe(lambda df: df[df[\"PPOPWOINS\"] != -9999]),\n",
    "            missing_tracts_replacement_data_df,\n",
    "        ]\n",
    "    )\n",
    "    # Renormalize\n",
    "    .assign(scale_fac=lambda df: 100 / df[var_names].sum(1))\n",
    "    .apply(renormalize, axis=1)\n",
    "    .drop(columns=\"scale_fac\")\n",
    "    .rename(columns=col_names)\n",
    "    .loc[:, col_names.values()]\n",
    ")"
   ]
  },
  {
   "cell_type": "code",
   "execution_count": null,
   "id": "4aeaf21e-6ae6-47dd-8869-3675d9c42c95",
   "metadata": {
    "tags": []
   },
   "outputs": [],
   "source": [
    "proc_ins_prob_df.to_csv(DATA_DIR / \"insurance_status.csv\", index=False)"
   ]
  },
  {
   "cell_type": "markdown",
   "id": "fa3ace2f-37c0-46be-bb58-fc64c9692a7f",
   "metadata": {},
   "source": [
    "Summarize insurance prob_df"
   ]
  },
  {
   "cell_type": "code",
   "execution_count": null,
   "id": "e7122bae-e5db-4f61-8ae6-3a24265e53fc",
   "metadata": {
    "tags": []
   },
   "outputs": [],
   "source": [
    "proc_ins_prob_df.set_index('census_tract').mean()"
   ]
  },
  {
   "cell_type": "markdown",
   "id": "1dd35e8e-6608-4d8b-953b-ca8d22de28ac",
   "metadata": {
    "jp-MarkdownHeadingCollapsed": true,
    "tags": []
   },
   "source": [
    "### 1.3. `prob_participate_by_insurance_status.csv`\n",
    "\n",
    "Input: Program engagement by insurance category from [Alva et al. 2022](https://www.ncbi.nlm.nih.gov/pmc/articles/PMC10112939/)"
   ]
  },
  {
   "cell_type": "markdown",
   "id": "db44d838-c49d-4bc4-8eb4-4b0d0a34e2f1",
   "metadata": {},
   "source": [
    "`prop_participate_by_insurance_status.csv`\n",
    "\n",
    "Structure:\n",
    "- insurance_status_id  # 0 = no insurance, 1 = medicaid, 2 = medicare, 3 = private\n",
    "- probability participate"
   ]
  },
  {
   "cell_type": "code",
   "execution_count": null,
   "id": "1b404cf1-2e4d-496b-ab70-b32159c677dd",
   "metadata": {
    "tags": []
   },
   "outputs": [],
   "source": [
    "prob_participate_df = (\n",
    "    pd.DataFrame.from_records(\n",
    "        [\n",
    "            {\"status\": \"private\", \"sex\": \"male\", \"pct\": 3.2},\n",
    "            {\"status\": \"medicare\", \"sex\": \"male\", \"pct\": 2.7},\n",
    "            {\"status\": \"medicaid\", \"sex\": \"male\", \"pct\": 1.9},\n",
    "            {\"status\": \"no_insurance\", \"sex\": \"male\", \"pct\": 1.5},\n",
    "            {\"status\": \"private\", \"sex\": \"female\", \"pct\": 3.3},\n",
    "            {\"status\": \"medicare\", \"sex\": \"female\", \"pct\": 3.4},\n",
    "            {\"status\": \"medicaid\", \"sex\": \"female\", \"pct\": 2.8},\n",
    "            {\"status\": \"no_insurance\", \"sex\": \"female\", \"pct\": 0.9},\n",
    "        ]\n",
    "    )\n",
    "    .assign(prob=lambda df: df[\"pct\"] / 100)\n",
    "    .groupby(\"status\")[\"prob\"]\n",
    "    .mean()\n",
    "    .to_frame()\n",
    "    .join(\n",
    "        pd.Series(\n",
    "            {\"private\": 3, \"medicare\": 2, \"medicaid\": 1, \"no_insurance\": 0}\n",
    "        ).rename(\"insurance_status_id\")\n",
    "    )\n",
    "    .sort_values(\"insurance_status_id\")\n",
    "    .loc[:, [\"insurance_status_id\", \"prob\"]]\n",
    ")"
   ]
  },
  {
   "cell_type": "code",
   "execution_count": null,
   "id": "5153613d-7c7f-4b8f-b29a-c8fa54e66cd2",
   "metadata": {
    "tags": []
   },
   "outputs": [],
   "source": [
    "prob_participate_df.to_csv(\n",
    "    DATA_DIR / \"prob_participate_by_insurance_status.csv\", index=False\n",
    ")"
   ]
  },
  {
   "cell_type": "code",
   "execution_count": null,
   "id": "b808a4b5-1a52-4a81-bc02-d483a962d0d4",
   "metadata": {
    "tags": []
   },
   "outputs": [],
   "source": [
    "prob_participate_df"
   ]
  },
  {
   "cell_type": "markdown",
   "id": "bbb29dff-9df6-46d5-8ee9-ea74e6de68a8",
   "metadata": {
    "tags": []
   },
   "source": [
    "### 1.4. `incidence_per_person_per_year.csv`\n",
    "\n",
    "Input: Probability of developing diabetes over time from https://www.ncbi.nlm.nih.gov/pmc/articles/PMC3135022/"
   ]
  },
  {
   "cell_type": "markdown",
   "id": "92eefcfc-b11b-4dad-914c-1c72602904a1",
   "metadata": {},
   "source": [
    "Average annual rate obtained from [Diabetes Prevention Program Research Group 2009](https://www.ncbi.nlm.nih.gov/pmc/articles/PMC3135022) Figure 4"
   ]
  },
  {
   "cell_type": "code",
   "execution_count": null,
   "id": "ec409bec-e47f-44af-a47e-61931ca2e159",
   "metadata": {
    "tags": []
   },
   "outputs": [],
   "source": [
    "rates_df = (\n",
    "    pd.Series({\"placebo\": 10.9, \"lifestyle\": 5.0})\n",
    "    .rename(\"rate_per_hundred_person_years\")\n",
    "    .to_frame()\n",
    "    .assign(rate_per_year=lambda df: df[\"rate_per_hundred_person_years\"] / 100)\n",
    "    .assign(\n",
    "        prob_per_year=lambda df: (\n",
    "            df.apply(\n",
    "                lambda row: row[\"rate_per_year\"] * np.exp(-row[\"rate_per_year\"]), axis=1\n",
    "            )\n",
    "        )\n",
    "    )\n",
    "    .rename_axis(\"intervention\")\n",
    "    .reset_index()\n",
    "    .rename_axis(\"intervention_id\")\n",
    "    .reset_index()\n",
    ")\n",
    "rates_df"
   ]
  },
  {
   "cell_type": "code",
   "execution_count": null,
   "id": "10f70da2-a843-4b7f-83f3-0d5632e25595",
   "metadata": {
    "tags": []
   },
   "outputs": [],
   "source": [
    "rates_df.to_csv(DATA_DIR / \"incidence_per_person_per_year.csv\", index=False)"
   ]
  },
  {
   "cell_type": "markdown",
   "id": "7387bab3-1a1b-4320-ac4e-41bf2a51a8a5",
   "metadata": {
    "jp-MarkdownHeadingCollapsed": true,
    "tags": []
   },
   "source": [
    "## 2. Run modeled scenarios"
   ]
  },
  {
   "cell_type": "markdown",
   "id": "9f4a5594-b07e-46e0-8550-1e6ed365db88",
   "metadata": {},
   "source": [
    "Set `program_available = 1` in `model/main.fred`"
   ]
  },
  {
   "cell_type": "code",
   "execution_count": null,
   "id": "b2c1265c-d3dc-47fb-8c21-916d01479cd7",
   "metadata": {
    "tags": []
   },
   "outputs": [],
   "source": [
    "from epxexec.fred_job import FREDJob"
   ]
  },
  {
   "cell_type": "code",
   "execution_count": null,
   "id": "90f436ad-4405-47d9-9d83-6e5a1ddf0145",
   "metadata": {
    "tags": []
   },
   "outputs": [],
   "source": [
    "with_program_job = FREDJob(job_id=226)"
   ]
  },
  {
   "cell_type": "code",
   "execution_count": null,
   "id": "70e4babb-507c-40bb-a105-50785bfeaf8a",
   "metadata": {
    "tags": []
   },
   "outputs": [],
   "source": [
    "with_program_job = fred_job(\"model/main.fred\")"
   ]
  },
  {
   "cell_type": "markdown",
   "id": "b60d72b1-95ef-4cdc-8d3a-3f8c38312c14",
   "metadata": {},
   "source": [
    "Set `program_available = 0` in `model/main.fred`"
   ]
  },
  {
   "cell_type": "code",
   "execution_count": null,
   "id": "b5a9c5bc-190f-41b8-a842-88248ed84019",
   "metadata": {
    "tags": []
   },
   "outputs": [],
   "source": [
    "without_program_job = fred_job(\"model/main.fred\")"
   ]
  },
  {
   "cell_type": "code",
   "execution_count": null,
   "id": "a49c284b-20f3-4461-a1a7-0e45e715a5d1",
   "metadata": {
    "tags": []
   },
   "outputs": [],
   "source": [
    "without_program_job = FREDJob(job_id=227)"
   ]
  },
  {
   "cell_type": "code",
   "execution_count": null,
   "id": "e28aff7e-8ab8-4a6e-80b5-53e676934714",
   "metadata": {
    "tags": []
   },
   "outputs": [],
   "source": [
    "variables = (\n",
    "    VariableMeta(\"n_diagnosed\", \"diabetes_incidence.csv\"),\n",
    "    VariableMeta(\"n_participating\", \"program_participation.csv\"),\n",
    ")"
   ]
  },
  {
   "cell_type": "code",
   "execution_count": null,
   "id": "127b7f71-39ed-4b96-92c2-21ff8241e68c",
   "metadata": {
    "tags": []
   },
   "outputs": [],
   "source": [
    "def average_over_runs(df: pd.DataFrame) -> pd.DataFrame:\n",
    "    index_cols = [\"block_group\", \"calendar_year\", \"variable\"]\n",
    "    var_cols = [\"value\"]\n",
    "    return df.groupby(index_cols)[var_cols].mean().reset_index()"
   ]
  },
  {
   "cell_type": "code",
   "execution_count": null,
   "id": "5b341a25-9f3c-42c6-a4db-6e6a5e7f25b8",
   "metadata": {
    "tags": []
   },
   "outputs": [],
   "source": [
    "with_program_df = get_results_df(\n",
    "    with_program_job, variables, nv_block_groups_gdf[\"block_group\"], (2023, 2028)\n",
    ").pipe(average_over_runs)\n",
    "\n",
    "without_program_df = get_results_df(\n",
    "    without_program_job, variables, nv_block_groups_gdf[\"block_group\"], (2023, 2028)\n",
    ").pipe(average_over_runs)"
   ]
  },
  {
   "cell_type": "code",
   "execution_count": null,
   "id": "83e77d61-a28c-4e90-b3f6-987a038a4f73",
   "metadata": {
    "tags": []
   },
   "outputs": [],
   "source": [
    "with_program_df.set_index(['block_group', 'calendar_year', 'variable'])['value'].unstack().reset_index()"
   ]
  },
  {
   "cell_type": "code",
   "execution_count": null,
   "id": "b51ecab8-e774-4feb-88cf-ba8d73ff987e",
   "metadata": {
    "tags": []
   },
   "outputs": [],
   "source": [
    "inc_df = (\n",
    "    pd.concat(\n",
    "        [\n",
    "            with_program_df.assign(scenario=\"with_program\"),\n",
    "            without_program_df.assign(scenario=\"without_program\"),\n",
    "        ]\n",
    "    )\n",
    "    .set_index([\"block_group\", \"calendar_year\", \"scenario\"])\n",
    "    .unstack(\"scenario\")\n",
    ")\n",
    "inc_df.columns = [\"_\".join(col).strip() for col in inc_df.columns.values]\n",
    "inc_df = inc_df.assign(\n",
    "    diff=lambda df: df[\"n_diagnosed_without_program\"] - df[\"n_diagnosed_with_program\"]\n",
    ")"
   ]
  },
  {
   "cell_type": "code",
   "execution_count": null,
   "id": "fca0eee3-3da4-4480-8101-f642e73d78ac",
   "metadata": {
    "tags": []
   },
   "outputs": [],
   "source": [
    "with_program_df.pipe(\n",
    "    lambda df: df[(df[\"calendar_year\"] == 2028) & (df[\"cume_n_diagnosed\"] > 0)]\n",
    ")[\"cume_n_diagnosed\"].max()"
   ]
  },
  {
   "cell_type": "code",
   "execution_count": null,
   "id": "b887dc50-420c-4897-82c6-47b04a90d1c7",
   "metadata": {
    "tags": []
   },
   "outputs": [],
   "source": [
    "without_program_df.pipe(\n",
    "    lambda df: df[(df[\"calendar_year\"] == 2028) & (df[\"cume_n_diagnosed\"] > 0)]\n",
    ")[\"cume_n_diagnosed\"].max()"
   ]
  },
  {
   "cell_type": "markdown",
   "id": "55035eca-3b8a-4f23-94ba-7ddb3e1bdf2d",
   "metadata": {
    "jp-MarkdownHeadingCollapsed": true,
    "tags": []
   },
   "source": [
    "## 3. Analysis"
   ]
  },
  {
   "cell_type": "markdown",
   "id": "da52c7a3-cb1e-4593-b4bc-5f86ba11d098",
   "metadata": {},
   "source": [
    "### 3.1 Download block group boundary data"
   ]
  },
  {
   "cell_type": "markdown",
   "id": "405bc063-16c9-413c-84a6-d8b17a2a1f41",
   "metadata": {
    "tags": []
   },
   "source": [
    "Download US County geographic boundary data in shapefile format from the [US Census website](https://www.census.gov/geographies/mapping-files/time-series/geo/cartographic-boundary.html) and read into a GeoDataFrame."
   ]
  },
  {
   "cell_type": "code",
   "execution_count": null,
   "id": "3fa30958-0e21-49e7-989d-55e72989fe24",
   "metadata": {
    "tags": []
   },
   "outputs": [],
   "source": [
    "nv_block_groups_gdf = get_state_block_groups_gdf(\"32\")"
   ]
  },
  {
   "cell_type": "code",
   "execution_count": null,
   "id": "02eb3d36-83c0-4b72-a0da-db694ec1a15e",
   "metadata": {
    "tags": []
   },
   "outputs": [],
   "source": [
    "nv_block_groups_gdf"
   ]
  },
  {
   "cell_type": "markdown",
   "id": "2a5533ac-0fe3-4c38-925a-a4eb84bb6325",
   "metadata": {},
   "source": [
    "### 3.2 Plot outputs"
   ]
  },
  {
   "cell_type": "code",
   "execution_count": null,
   "id": "57564e06-6c47-49a6-bbc3-ecec492c27a8",
   "metadata": {
    "tags": []
   },
   "outputs": [],
   "source": [
    "from epxpop.pop import (\n",
    "    race_map as RACE_MAP,\n",
    "    sex_map as SEX_MAP\n",
    ")"
   ]
  },
  {
   "cell_type": "code",
   "execution_count": null,
   "id": "11a07f68-9484-4acf-a368-7cb2d6aa9ca5",
   "metadata": {
    "tags": []
   },
   "outputs": [],
   "source": [
    "results_df = pd.read_csv(\"results/nevada_diabetes_prevention.csv\")\n",
    "results_df.head()"
   ]
  },
  {
   "cell_type": "code",
   "execution_count": null,
   "id": "f22ccd35-0370-45f3-8895-762b62d3e8c5",
   "metadata": {
    "tags": []
   },
   "outputs": [],
   "source": [
    "nv_center = {\"lat\": 38.9, \"lon\": -116.4}"
   ]
  },
  {
   "cell_type": "code",
   "execution_count": null,
   "id": "8f0e6dfc-9611-4dfe-95c3-dd4589e6c37a",
   "metadata": {
    "tags": []
   },
   "outputs": [],
   "source": [
    "plot_cume_diagnoses(\n",
    "    results_df.pipe(lambda df: df[df[\"scenario\"] == \"without_program\"]),\n",
    "    nv_block_groups_gdf,\n",
    "    \"Nevada\",\n",
    "    nv_center,\n",
    ")"
   ]
  },
  {
   "cell_type": "code",
   "execution_count": null,
   "id": "40661cf2-8bbf-411b-8a88-ec4047b269a2",
   "metadata": {
    "tags": []
   },
   "outputs": [],
   "source": [
    "plot_cume_diagnoses(\n",
    "    results_df.pipe(lambda df: df[df[\"scenario\"] == \"with_program\"]),\n",
    "    nv_block_groups_gdf,\n",
    "    \"Nevada\",\n",
    "    nv_center,\n",
    ")"
   ]
  },
  {
   "cell_type": "code",
   "execution_count": null,
   "id": "17240baf-0d91-4db1-81e5-0b98560f0e03",
   "metadata": {
    "tags": []
   },
   "outputs": [],
   "source": [
    "impact_df = (\n",
    "    results_df\n",
    "    .pipe(lambda df: df[df['calendar_year'] == 2032])\n",
    "    .set_index(['block_group', 'scenario'])['cume_n_diagnosed']\n",
    "    .unstack()\n",
    "    .pipe(lambda df: df[df['without_program'] != 0])\n",
    "    .assign(abs_decrease_base=lambda df: df['without_program'] - df['with_program'])\n",
    "    .assign(pct_decrease_base=lambda df: df['abs_decrease_base'] / df['without_program'] * 100)\n",
    "    .assign(abs_decrease_eq=lambda df: df['without_program'] - df['with_program_eq_participation'])\n",
    "    .assign(pct_decrease_eq=lambda df: df['abs_decrease_eq'] / df['with_program_eq_participation'] * 100)\n",
    "    .pipe(lambda df: df[df['pct_decrease_base'].abs() != 100])\n",
    ")"
   ]
  },
  {
   "cell_type": "code",
   "execution_count": null,
   "id": "e93c53d7-9a76-4c28-aa12-a142eb87e61f",
   "metadata": {
    "tags": []
   },
   "outputs": [],
   "source": [
    "(impact_df['with_program'] - impact_df['with_program_eq_participation']).sum()"
   ]
  },
  {
   "cell_type": "code",
   "execution_count": null,
   "id": "4dd8ce88-cfa6-4ecd-808a-4a3e403b5f45",
   "metadata": {
    "tags": []
   },
   "outputs": [],
   "source": [
    "(impact_df['without_program'] - impact_df['with_program']).sum()"
   ]
  },
  {
   "cell_type": "code",
   "execution_count": null,
   "id": "ee94f580-52dc-4ac5-bb5f-75a91fced348",
   "metadata": {
    "tags": []
   },
   "outputs": [],
   "source": [
    "(impact_df['without_program'] - impact_df['with_program_eq_participation']).sum()"
   ]
  },
  {
   "cell_type": "code",
   "execution_count": null,
   "id": "9bf07287-3479-47b2-920e-dd0c25b8072c",
   "metadata": {
    "tags": []
   },
   "outputs": [],
   "source": [
    "impact_df['pct_decrease_base'].mean()"
   ]
  },
  {
   "cell_type": "code",
   "execution_count": null,
   "id": "3cb8dcb1-b733-40d9-8d7b-1c4013ae5f0f",
   "metadata": {
    "tags": []
   },
   "outputs": [],
   "source": [
    "impact_df['pct_decrease_eq'].mean()"
   ]
  },
  {
   "cell_type": "code",
   "execution_count": null,
   "id": "d79798bc-cd35-4de5-8198-ff297e7809d3",
   "metadata": {
    "tags": []
   },
   "outputs": [],
   "source": [
    "_, ax = plt.subplots(figsize=(7, 4))\n",
    "ax.set_xlabel('Percentage decrease in diabetes cases')\n",
    "ax.set_ylabel('Number of block groups')\n",
    "ax.set_title('Impact of DPP in Nevada block groups 2023-2032')\n",
    "impact_df['pct_decrease_base'].hist(bins=[x / 10 for x in range(-80, 81)], ax=ax)\n",
    "plt.savefig('dpp_impact.png')"
   ]
  },
  {
   "cell_type": "code",
   "execution_count": null,
   "id": "0589c27f-f5db-41af-a0c3-197634344fb6",
   "metadata": {
    "tags": []
   },
   "outputs": [],
   "source": [
    "_, ax = plt.subplots(figsize=(7, 4))\n",
    "ax.set_xlabel('Percentage decrease in diabetes cases')\n",
    "ax.set_ylabel('Number of block groups')\n",
    "ax.set_title('Impact of DPP in Nevada block groups 2023-2032')\n",
    "impact_df['pct_decrease_eq'].hist(bins=[x / 10 for x in range(-80, 81)], ax=ax)\n",
    "plt.savefig('dpp_impact.png')"
   ]
  },
  {
   "cell_type": "code",
   "execution_count": null,
   "id": "981cb98a-cf9b-42f6-b12b-5b6f13e57bc2",
   "metadata": {},
   "outputs": [],
   "source": [
    "1. Update dataset + description and send to Brian\n",
    "2. look at locations of block groups with negative improvement"
   ]
  },
  {
   "cell_type": "markdown",
   "id": "c361e883-7060-47fe-9bf3-fdab9f34b6aa",
   "metadata": {},
   "source": [
    "Proportion of block groups with an increase in diabetes incidence under the DPP scenario"
   ]
  },
  {
   "cell_type": "code",
   "execution_count": null,
   "id": "3682cefe-3ee1-4bfb-8c38-47501cf4cc89",
   "metadata": {
    "tags": []
   },
   "outputs": [],
   "source": [
    "len(impact_df.pipe(lambda df: df[df['pct_decrease'] < 0]).index) / len(impact_df.index)"
   ]
  },
  {
   "cell_type": "markdown",
   "id": "d735c5e8-e865-45fa-9451-1d7dcb4c0d51",
   "metadata": {},
   "source": [
    "### 3.3 Investigate explanations for low impact block groups"
   ]
  },
  {
   "cell_type": "code",
   "execution_count": null,
   "id": "724022ac-fbbd-4d34-8a84-592c2da636db",
   "metadata": {
    "tags": []
   },
   "outputs": [],
   "source": [
    "comp_df = (\n",
    "    impact_df\n",
    "    .reset_index()\n",
    "    .assign(census_tract=lambda df: df['block_group'].astype(str).str[:11])\n",
    "    .merge(proc_ins_prob_df, how='left', on='census_tract')\n",
    ")"
   ]
  },
  {
   "cell_type": "code",
   "execution_count": null,
   "id": "e0dd161e-9ade-4bbd-9889-c6415d54e1e2",
   "metadata": {
    "tags": []
   },
   "outputs": [],
   "source": [
    "comp_df.pipe(lambda df: df[df['pct_decrease'] > 10])"
   ]
  },
  {
   "cell_type": "code",
   "execution_count": null,
   "id": "ab764e02-a02b-457b-9541-3b260c949d7d",
   "metadata": {
    "tags": []
   },
   "outputs": [],
   "source": [
    "y_vars = ['pct_decrease']\n",
    "x_vars = [x for x in proc_ins_prob_df.drop(columns='census_tract').columns]\n",
    "sns.pairplot(\n",
    "    comp_df\n",
    "    .loc[:, x_vars + y_vars],\n",
    "    x_vars=x_vars,\n",
    "    y_vars=y_vars,\n",
    ")"
   ]
  },
  {
   "cell_type": "code",
   "execution_count": null,
   "id": "6a3c39c6-81c7-4f4d-b7ff-ee2a28a46892",
   "metadata": {
    "tags": []
   },
   "outputs": [],
   "source": [
    "prob_participate_df"
   ]
  },
  {
   "cell_type": "code",
   "execution_count": null,
   "id": "fedbb6e8-a74b-4324-b470-2650542f0b59",
   "metadata": {
    "tags": []
   },
   "outputs": [],
   "source": [
    "proc_ins_prob_df"
   ]
  },
  {
   "cell_type": "code",
   "execution_count": null,
   "id": "47500f03-6987-4157-9849-08248cc6aab6",
   "metadata": {
    "tags": []
   },
   "outputs": [],
   "source": [
    "pop = SynthPop(country='usa', version='US_2010.v5')"
   ]
  },
  {
   "cell_type": "code",
   "execution_count": null,
   "id": "75ec6b14-51f8-4b36-b8d5-03bf7855be22",
   "metadata": {
    "tags": []
   },
   "outputs": [],
   "source": [
    "regular_people_df = (\n",
    "    pop.load_people(locations=['NV'], include_gq_people=False)\n",
    "    .merge(\n",
    "        pop.load_people_household_xref(locations=['NV']),\n",
    "        how='left',\n",
    "        on='ID'\n",
    "    )\n",
    "    .merge(\n",
    "        pop.load_households(locations=['NV']),\n",
    "        how='left',\n",
    "        left_on='PLACE', right_on='ID',\n",
    "    )\n",
    "    .rename(columns={'ID_x': 'ID'})\n",
    "    .loc[:, ['ID', 'AGE', 'sex', 'race', 'Block_Group']]\n",
    ")\n",
    "\n",
    "gq_people_df = (\n",
    "    pop.load_gq_people(['NV'])\n",
    "    .loc[:, ['ID', 'AGE', 'sex', 'race', 'Block_Group']]\n",
    "    .pipe(lambda df: df[~df['Block_Group'].isna()])\n",
    ")\n",
    "\n",
    "people_df = pd.concat([regular_people_df, gq_people_df])"
   ]
  },
  {
   "cell_type": "code",
   "execution_count": null,
   "id": "2661c35a-380a-4320-994b-f6fcf10969e3",
   "metadata": {
    "tags": []
   },
   "outputs": [],
   "source": [
    "regular_people_df['Block_Group'].drop_duplicates()"
   ]
  },
  {
   "cell_type": "code",
   "execution_count": null,
   "id": "aeb4e0c3-50a4-4889-9f59-73225463116d",
   "metadata": {
    "tags": []
   },
   "outputs": [],
   "source": [
    "prob_overweight_df = pd.read_csv('data/prob_overweight_obese.csv')"
   ]
  },
  {
   "cell_type": "code",
   "execution_count": null,
   "id": "9621cd4f-5679-4e7c-9631-755163aa745b",
   "metadata": {
    "tags": []
   },
   "outputs": [],
   "source": [
    "age_groups_df = (\n",
    "    prob_overweight_df[['age_lower_bound', 'age_upper_bound']]\n",
    "    .drop_duplicates()\n",
    "    .assign(age_group=lambda df: (\n",
    "        df.apply(lambda row: f\"{row['age_lower_bound']}-{row['age_upper_bound']}\", axis=1)\n",
    "    ))\n",
    ")\n",
    "\n",
    "people_df = (\n",
    "    people_df\n",
    "    .assign(age_group=lambda df: pd.cut(df['AGE'], [-1, 20, 40, 60, 200], labels=['0-19', '20-39', '40-59', '>=60'], right=True))\n",
    ")"
   ]
  },
  {
   "cell_type": "code",
   "execution_count": null,
   "id": "f29ad285-ccb6-40da-9e4a-8e8b3a95615c",
   "metadata": {
    "tags": []
   },
   "outputs": [],
   "source": [
    "age_group_pct_df = (\n",
    "    people_df\n",
    "    .groupby('Block_Group')\n",
    "    .apply(lambda df :df['age_group'].value_counts().rename('value') / len(df.index) * 100)\n",
    "    .to_frame().reset_index()\n",
    "    .assign(variable=lambda df: df['age_group'].str.lower().apply(lambda x: f\"{x}_pct\"))\n",
    "    .loc[:, ['Block_Group', 'value', 'variable']]\n",
    "\n",
    ")"
   ]
  },
  {
   "cell_type": "code",
   "execution_count": null,
   "id": "7934888e-b2be-4115-9af6-74764a7b9a1f",
   "metadata": {
    "tags": []
   },
   "outputs": [],
   "source": [
    "race_pct_df = (\n",
    "    people_df\n",
    "    .groupby('Block_Group')\n",
    "    .apply(lambda df :df['race'].value_counts().rename('value') / len(df.index) * 100)\n",
    "    .to_frame().reset_index()\n",
    "    .rename(columns={'race': 'race_id'})\n",
    "    .merge(\n",
    "        pd.Series(RACE_MAP).rename_axis('race_id').rename('race').reset_index(),\n",
    "        on='race_id',\n",
    "        how='left',\n",
    "    )\n",
    "    .assign(variable=lambda df: df['race'].str.lower().str.replace(' ', '_').apply(lambda x: f\"{x}_pct\"))\n",
    "    .loc[:, ['Block_Group', 'value', 'variable']]\n",
    ")"
   ]
  },
  {
   "cell_type": "code",
   "execution_count": null,
   "id": "e827d3a6-85b0-4120-99fa-153c94da58b7",
   "metadata": {
    "tags": []
   },
   "outputs": [],
   "source": [
    "sex_pct_df = (\n",
    "    people_df\n",
    "    .groupby('Block_Group')\n",
    "    .apply(lambda df :df['sex'].value_counts().rename('value') / len(df.index) * 100)\n",
    "    .to_frame().reset_index()\n",
    "    .rename(columns={'sex': 'sex_id'})\n",
    "    .merge(\n",
    "        pd.Series(SEX_MAP).rename_axis('sex_id').rename('sex').reset_index(),\n",
    "        on='sex_id',\n",
    "        how='left',\n",
    "    )\n",
    "    .assign(variable=lambda df: df['sex'].str.lower().apply(lambda x: f\"{x}_pct\"))\n",
    "    .loc[:, ['Block_Group', 'value', 'variable']]\n",
    ")"
   ]
  },
  {
   "cell_type": "code",
   "execution_count": null,
   "id": "a0697766-2c24-43cb-88de-b6743e7bc203",
   "metadata": {
    "tags": []
   },
   "outputs": [],
   "source": [
    "people_df.groupby('Block_Group').size()"
   ]
  },
  {
   "cell_type": "code",
   "execution_count": null,
   "id": "167ad4ab-470d-430b-a82c-efd0b19825f2",
   "metadata": {
    "tags": []
   },
   "outputs": [],
   "source": [
    "bg_pop_df = (\n",
    "    people_df\n",
    "    .groupby('Block_Group').size()\n",
    "    .rename('value').to_frame().reset_index()\n",
    "    .assign(variable='population')\n",
    ")"
   ]
  },
  {
   "cell_type": "code",
   "execution_count": null,
   "id": "623d0480-518b-4d65-a6e7-16a415108c29",
   "metadata": {
    "tags": []
   },
   "outputs": [],
   "source": [
    "bg_pct_df = (\n",
    "    pd.concat([age_group_pct_df, race_pct_df, sex_pct_df])\n",
    "    .set_index(['Block_Group', 'variable']).unstack().fillna(0)['value']\n",
    ")"
   ]
  },
  {
   "cell_type": "code",
   "execution_count": null,
   "id": "e575f36b-b013-4d59-bffc-799234469f93",
   "metadata": {
    "tags": []
   },
   "outputs": [],
   "source": [
    "y_vars = ['pct_decrease']\n",
    "x_vars = [x for x in bg_pct_df.columns]"
   ]
  },
  {
   "cell_type": "code",
   "execution_count": null,
   "id": "aae6ece9-18ce-4b80-a32e-ab898a70c3b9",
   "metadata": {
    "tags": []
   },
   "outputs": [],
   "source": [
    "corr_df = (\n",
    "    impact_df.reset_index().loc[:, ['block_group', 'pct_decrease']]\n",
    "    .pipe(lambda df: df[df['pct_decrease'] <= 10])\n",
    "    .merge(\n",
    "        bg_pct_df.reset_index().rename(columns={'Block_Group': 'block_group'}),\n",
    "        how='inner',\n",
    "        on='block_group'\n",
    "    )\n",
    ")"
   ]
  },
  {
   "cell_type": "code",
   "execution_count": null,
   "id": "d7ff6288-bcc6-4c8e-ada3-9bedce8733fa",
   "metadata": {},
   "outputs": [],
   "source": [
    "sns.pairplot(\n",
    "    corr_df\n",
    "    .loc[:, x_vars + y_vars],\n",
    "    x_vars=x_vars,\n",
    "    y_vars=y_vars,\n",
    ")"
   ]
  },
  {
   "cell_type": "code",
   "execution_count": null,
   "id": "5bcddc3a-f7ef-4593-b11b-81740ad89f48",
   "metadata": {
    "tags": []
   },
   "outputs": [],
   "source": [
    "pop_corr_df = (\n",
    "    impact_df.reset_index().loc[:, ['block_group', 'pct_decrease']]\n",
    "    .merge(\n",
    "        bg_pop_df.set_index(['Block_Group', 'variable'])\n",
    "        .unstack()['value'].reset_index()\n",
    "        .rename(columns={'Block_Group': 'block_group'}),\n",
    "        how='inner',\n",
    "        on='block_group'\n",
    "    )\n",
    ")"
   ]
  },
  {
   "cell_type": "code",
   "execution_count": null,
   "id": "d3ad56dc-61ec-41ef-8ed9-2bad8fefaf57",
   "metadata": {
    "tags": []
   },
   "outputs": [],
   "source": [
    "sns.pairplot(\n",
    "    pop_corr_df,\n",
    "    x_vars=['population'],\n",
    "    y_vars=['pct_decrease'],\n",
    ")"
   ]
  }
 ],
 "metadata": {
  "kernelspec": {
   "display_name": "Python 3 (ipykernel)",
   "language": "python",
   "name": "python3"
  },
  "language_info": {
   "codemirror_mode": {
    "name": "ipython",
    "version": 3
   },
   "file_extension": ".py",
   "mimetype": "text/x-python",
   "name": "python",
   "nbconvert_exporter": "python",
   "pygments_lexer": "ipython3",
   "version": "3.10.10"
  }
 },
 "nbformat": 4,
 "nbformat_minor": 5
}
