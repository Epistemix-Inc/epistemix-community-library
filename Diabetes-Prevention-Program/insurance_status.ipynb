{
 "cells": [
  {
   "cell_type": "code",
   "execution_count": null,
   "id": "dce9bc52-e523-4d5b-92de-ff7e08d68c8c",
   "metadata": {
    "tags": []
   },
   "outputs": [],
   "source": [
    "!python -m pip install -r requirements.txt"
   ]
  },
  {
   "cell_type": "code",
   "execution_count": null,
   "id": "46d3cf3a-e43a-4f70-8723-17c9b2a030f8",
   "metadata": {
    "tags": []
   },
   "outputs": [],
   "source": [
    "from typing import NamedTuple\n",
    "\n",
    "from census import Census\n",
    "from us import states\n",
    "\n",
    "import pandas as pd\n",
    "\n",
    "from diabetes_prevention.data.insurance_status import (\n",
    "    get_state_county_data,\n",
    "    get_variable_groups,\n",
    ")"
   ]
  },
  {
   "cell_type": "code",
   "execution_count": null,
   "id": "9cff9344-a6d2-4121-843f-208fcf3f3053",
   "metadata": {
    "tags": []
   },
   "outputs": [],
   "source": [
    "CENSUS_API_KEY = \"XXX\""
   ]
  },
  {
   "cell_type": "markdown",
   "id": "54091b98-3fa0-4e16-bcca-3c2cb6e1b5d3",
   "metadata": {},
   "source": [
    "Get API key from the [US Census website](https://api.census.gov/data/key_signup.html)"
   ]
  },
  {
   "cell_type": "code",
   "execution_count": null,
   "id": "d41361ae-516e-498a-a9f6-02a04a6c347c",
   "metadata": {
    "tags": []
   },
   "outputs": [],
   "source": [
    "c = Census(CENSUS_API_KEY)"
   ]
  },
  {
   "cell_type": "code",
   "execution_count": null,
   "id": "97835e2b-cf6e-4dbf-bc00-e39f463312ac",
   "metadata": {
    "tags": []
   },
   "outputs": [],
   "source": [
    "from itertools import chain\n",
    "from time import sleep\n",
    "import numpy as np"
   ]
  },
  {
   "cell_type": "code",
   "execution_count": null,
   "id": "bc1156b9-aef6-4e8d-a9d0-2abb56cd14b2",
   "metadata": {
    "tags": []
   },
   "outputs": [],
   "source": [
    "var_groups = get_variable_groups()"
   ]
  },
  {
   "cell_type": "code",
   "execution_count": null,
   "id": "9d0693bd-0432-4706-b37a-98391c8c5bc6",
   "metadata": {
    "tags": []
   },
   "outputs": [],
   "source": [
    "def download_census_var_data(\n",
    "    var_names: tuple[str], state_fips: str, county_fips: str, delay: bool = True\n",
    "):\n",
    "    def delay_time():\n",
    "        return 2.0 + np.random.uniform(-0.5, 0.5)\n",
    "\n",
    "    if delay:\n",
    "        sleep(delay_time())\n",
    "    return c.acs5.get(\n",
    "        var_names,\n",
    "        geo={\"for\": \"tract:*\", \"in\": f\"state: {state_fips} county: {county_fips}\"},\n",
    "    )"
   ]
  },
  {
   "cell_type": "code",
   "execution_count": null,
   "id": "31bcd016-f6a5-4446-b074-e38cb9f67973",
   "metadata": {
    "tags": []
   },
   "outputs": [],
   "source": [
    "state_fips = \"50\"\n",
    "census_variable_names = tuple(\n",
    "    f\"{v.name}{'E'}\" for v in chain(*(vg.variables for vg in var_groups))\n",
    ")\n",
    "dat_df = pd.concat(\n",
    "    [\n",
    "        (\n",
    "            pd.DataFrame.from_records(\n",
    "                download_census_var_data(census_variable_names, state_fips, county_fips)\n",
    "            )\n",
    "            .assign(\n",
    "                census_tract=lambda df: df[\"state\"]\n",
    "                .str.cat(df[\"county\"])\n",
    "                .str.cat(df[\"tract\"])\n",
    "            )\n",
    "            .drop(columns=[\"state\", \"county\", \"tract\"])\n",
    "        )\n",
    "        for county_fips in get_state_county_data(state_fips).county_fips\n",
    "    ]\n",
    ")"
   ]
  },
  {
   "cell_type": "code",
   "execution_count": null,
   "id": "3366a7d1-9683-4f14-9a87-454402972908",
   "metadata": {
    "tags": []
   },
   "outputs": [],
   "source": [
    "raw_var_cols = [x for x in dat_df if x != \"census_tract\"]\n",
    "for vg in var_groups:\n",
    "    dat_df = dat_df.pipe(\n",
    "        lambda df: df.assign(\n",
    "            **{vg.name: df[[f\"{v.name}{'E'}\" for v in vg.variables]].sum(1)}\n",
    "        )\n",
    "    )"
   ]
  },
  {
   "cell_type": "code",
   "execution_count": null,
   "id": "71a0ada8-c81e-40e4-8376-bbf0a565510a",
   "metadata": {
    "tags": []
   },
   "outputs": [],
   "source": [
    "dat_df"
   ]
  }
 ],
 "metadata": {
  "kernelspec": {
   "display_name": "Python 3 (ipykernel)",
   "language": "python",
   "name": "python3"
  },
  "language_info": {
   "codemirror_mode": {
    "name": "ipython",
    "version": 3
   },
   "file_extension": ".py",
   "mimetype": "text/x-python",
   "name": "python",
   "nbconvert_exporter": "python",
   "pygments_lexer": "ipython3",
   "version": "3.10.10"
  }
 },
 "nbformat": 4,
 "nbformat_minor": 5
}
