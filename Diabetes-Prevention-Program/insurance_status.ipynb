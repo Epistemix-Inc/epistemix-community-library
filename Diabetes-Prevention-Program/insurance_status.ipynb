{
 "cells": [
  {
   "cell_type": "code",
   "execution_count": null,
   "id": "dce9bc52-e523-4d5b-92de-ff7e08d68c8c",
   "metadata": {
    "tags": []
   },
   "outputs": [],
   "source": [
    "!python -m pip install -r requirements.txt"
   ]
  },
  {
   "cell_type": "code",
   "execution_count": null,
   "id": "46d3cf3a-e43a-4f70-8723-17c9b2a030f8",
   "metadata": {
    "tags": []
   },
   "outputs": [],
   "source": [
    "from typing import NamedTuple\n",
    "\n",
    "from census import Census\n",
    "#from us import states\n",
    "\n",
    "import pandas as pd\n",
    "\n",
    "from diabetes_prevention.data.insurance_status import get_insurance_status_prob"
   ]
  },
  {
   "cell_type": "code",
   "execution_count": null,
   "id": "9cff9344-a6d2-4121-843f-208fcf3f3053",
   "metadata": {
    "tags": []
   },
   "outputs": [],
   "source": [
    "CENSUS_API_KEY = \"f286a9da096e259ea2710755630c60bc46fabba0\""
   ]
  },
  {
   "cell_type": "markdown",
   "id": "54091b98-3fa0-4e16-bcca-3c2cb6e1b5d3",
   "metadata": {},
   "source": [
    "Get API key from the [US Census website](https://api.census.gov/data/key_signup.html)"
   ]
  },
  {
   "cell_type": "code",
   "execution_count": null,
   "id": "d41361ae-516e-498a-a9f6-02a04a6c347c",
   "metadata": {
    "tags": []
   },
   "outputs": [],
   "source": [
    "c = Census(CENSUS_API_KEY)"
   ]
  },
  {
   "cell_type": "code",
   "execution_count": null,
   "id": "b6196dca-a2db-4511-a22a-a69ab58e2aba",
   "metadata": {
    "tags": []
   },
   "outputs": [],
   "source": [
    "nv_dat = get_insurance_status_prob(c, '32')"
   ]
  },
  {
   "cell_type": "markdown",
   "id": "b1c854b9-2fed-407c-a904-c375be98c98f",
   "metadata": {},
   "source": [
    "TODO: Compare to values from PolicyMap"
   ]
  },
  {
   "cell_type": "code",
   "execution_count": null,
   "id": "214d1515-42fd-4603-9110-d5978f37a0bb",
   "metadata": {
    "tags": []
   },
   "outputs": [],
   "source": [
    "dat.head(1)"
   ]
  },
  {
   "cell_type": "code",
   "execution_count": null,
   "id": "ebfd353d-2a04-4d6e-a8ed-1a474fbe8177",
   "metadata": {
    "tags": []
   },
   "outputs": [],
   "source": [
    "pm_dat = (\n",
    "    pd.read_csv(\n",
    "        'data/insurance_status.csv',\n",
    "        dtype={\n",
    "            'census_tract': str,\n",
    "            'prob_no_insurance': float,\n",
    "            'prob_medicaid_insurance': float,\n",
    "            'prob_medicare_insurance': float,\n",
    "            'prob_private_insurance': float,\n",
    "        }\n",
    "    )\n",
    "    .rename(columns={\n",
    "        'prob_no_insurance': 'no_insurance_pm',\n",
    "        'prob_medicaid_insurance': 'medicaid_pm',\n",
    "        'prob_medicare_insurance': 'medicare_pm',\n",
    "        'prob_private_insurance': 'private_pm',\n",
    "    })\n",
    ")"
   ]
  },
  {
   "cell_type": "code",
   "execution_count": null,
   "id": "8e5d302e-c8ea-48f9-8412-51ff49a640cd",
   "metadata": {
    "tags": []
   },
   "outputs": [],
   "source": [
    "dat.dtypes"
   ]
  },
  {
   "cell_type": "code",
   "execution_count": null,
   "id": "d7163674-50eb-4ccc-aad2-93e864d77341",
   "metadata": {
    "tags": []
   },
   "outputs": [],
   "source": [
    "(\n",
    "    pm_dat\n",
    "    .merge(nv_dat, on='census_tract', how='outer')\n",
    "    .assign(no_insurance_diff=lambda df: df['no_insurance_pm'] - df['no_insurance'])\n",
    "    .assign(medicare_diff=lambda df: df['medicare_pm'] - df['medicare'])\n",
    "    .assign(medicaid_diff=lambda df: df['medicaid_pm'] - df['medicaid'])\n",
    "    .assign(private_diff=lambda df: df['private_pm'] - df['private'])\n",
    "    .filter(regex='.*_diff')\n",
    "    .to_csv('tmp.csv')\n",
    ")"
   ]
  },
  {
   "cell_type": "code",
   "execution_count": null,
   "id": "850333a0-cd7b-4e42-b261-df9c217858c9",
   "metadata": {
    "tags": []
   },
   "outputs": [],
   "source": [
    "[x.name for x in var_groups]"
   ]
  },
  {
   "cell_type": "code",
   "execution_count": null,
   "id": "f9862ca9-c937-4c5f-9d8b-c7a79de81aef",
   "metadata": {
    "tags": []
   },
   "outputs": [],
   "source": [
    "target_cols = [x.name for x in var_groups if x.name != 'population']\n",
    "(\n",
    "    dat\n",
    "    .assign(tot=lambda df: df[target_cols].sum(1))\n",
    "    .pipe(lambda df: (\n",
    "        df.assign(**{\n",
    "            c: df[c] / df['tot'] \n",
    "            for c in target_cols\n",
    "        })\n",
    "    ))\n",
    "    .loc[:, ['census_tract'] + target_cols]\n",
    ")"
   ]
  },
  {
   "cell_type": "code",
   "execution_count": null,
   "id": "6be702f0-3706-42fb-a984-90e990d9d4bc",
   "metadata": {
    "tags": []
   },
   "outputs": [],
   "source": [
    "dat['population']"
   ]
  },
  {
   "cell_type": "code",
   "execution_count": null,
   "id": "9d0693bd-0432-4706-b37a-98391c8c5bc6",
   "metadata": {
    "tags": []
   },
   "outputs": [],
   "source": [
    "def  _download_census_tract_var_data(\n",
    "    var_names: tuple[str], state_fips: str, county_fips: str, delay: bool = True\n",
    "):\n",
    "    def delay_time():\n",
    "        return 2.0 + np.random.uniform(-0.5, 0.5)\n",
    "\n",
    "    if delay:\n",
    "        sleep(delay_time())\n",
    "    return c.acs5.get(\n",
    "        var_names,\n",
    "        geo={\"for\": \"tract:*\", \"in\": f\"state: {state_fips} county: {county_fips}\"},\n",
    "    )"
   ]
  },
  {
   "cell_type": "code",
   "execution_count": null,
   "id": "31bcd016-f6a5-4446-b074-e38cb9f67973",
   "metadata": {
    "tags": []
   },
   "outputs": [],
   "source": [
    "state_fips = \"50\"\n",
    "census_variable_names = tuple(\n",
    "    f\"{v.name}{'E'}\" for v in chain(*(vg.variables for vg in var_groups))\n",
    ")\n",
    "dat_df = pd.concat(\n",
    "    [\n",
    "        (\n",
    "            pd.DataFrame.from_records(\n",
    "                download_census_tract_var_data(census_variable_names, state_fips, county_fips)\n",
    "            )\n",
    "            .assign(\n",
    "                census_tract=lambda df: df[\"state\"]\n",
    "                .str.cat(df[\"county\"])\n",
    "                .str.cat(df[\"tract\"])\n",
    "            )\n",
    "            .drop(columns=[\"state\", \"county\", \"tract\"])\n",
    "        )\n",
    "        for county_fips in get_state_county_data(state_fips).county_fips\n",
    "    ]\n",
    ")"
   ]
  },
  {
   "cell_type": "code",
   "execution_count": null,
   "id": "3366a7d1-9683-4f14-9a87-454402972908",
   "metadata": {
    "tags": []
   },
   "outputs": [],
   "source": [
    "raw_var_cols = [x for x in dat_df if x != \"census_tract\"]\n",
    "for vg in var_groups:\n",
    "    dat_df = dat_df.pipe(\n",
    "        lambda df: df.assign(\n",
    "            **{vg.name: df[[f\"{v.name}{'E'}\" for v in vg.variables]].sum(1)}\n",
    "        )\n",
    "    )"
   ]
  },
  {
   "cell_type": "code",
   "execution_count": null,
   "id": "a12fb4d2-198b-43f8-aad2-bd21caaaff77",
   "metadata": {
    "tags": []
   },
   "outputs": [],
   "source": []
  },
  {
   "cell_type": "code",
   "execution_count": null,
   "id": "71a0ada8-c81e-40e4-8376-bbf0a565510a",
   "metadata": {
    "tags": []
   },
   "outputs": [],
   "source": [
    "tmp_df = dat_df.pipe(lambda df: df.drop(columns=[x for x in df.columns if x not in [vg.name for vg in var_groups]]))"
   ]
  },
  {
   "cell_type": "code",
   "execution_count": null,
   "id": "a856af2f-5adc-429e-b92b-8207e3ada436",
   "metadata": {
    "tags": []
   },
   "outputs": [],
   "source": [
    "(\n",
    "    tmp_df\n",
    "    .assign(med_sum=lambda df: df.drop(columns='population').sum(1))\n",
    "    .assign(pct_inc=lambda df: df['med_sum'] / df['population']  * 100)\n",
    ")"
   ]
  },
  {
   "cell_type": "code",
   "execution_count": null,
   "id": "40ab8af6-9cd8-4d30-b1e6-ed946e1ceee4",
   "metadata": {},
   "outputs": [],
   "source": []
  }
 ],
 "metadata": {
  "kernelspec": {
   "display_name": "Python 3 (ipykernel)",
   "language": "python",
   "name": "python3"
  },
  "language_info": {
   "codemirror_mode": {
    "name": "ipython",
    "version": 3
   },
   "file_extension": ".py",
   "mimetype": "text/x-python",
   "name": "python",
   "nbconvert_exporter": "python",
   "pygments_lexer": "ipython3",
   "version": "3.10.10"
  }
 },
 "nbformat": 4,
 "nbformat_minor": 5
}
