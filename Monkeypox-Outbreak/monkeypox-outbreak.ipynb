{
 "cells": [
  {
   "cell_type": "code",
   "execution_count": 1,
   "id": "4539dfbc-175b-4516-8b13-7cb4a2292e6c",
   "metadata": {},
   "outputs": [
    {
     "name": "stdout",
     "output_type": "stream",
     "text": [
      "env: PLATFORM_API_URL=https://studio.dev.epistemix.cloud/v1\n"
     ]
    }
   ],
   "source": [
    "%env PLATFORM_API_URL=https://studio.dev.epistemix.cloud/v1"
   ]
  },
  {
   "cell_type": "code",
   "execution_count": 2,
   "id": "da7268f8-9900-4eb6-ac04-4b2674ebf46d",
   "metadata": {},
   "outputs": [],
   "source": [
    "from epx import Job, ModelConfig, SynthPop\n",
    "\n",
    "from pathlib import Path\n",
    "import os\n",
    "\n",
    "import pandas as pd\n",
    "import plotly.express as px\n",
    "import plotly.io as pio\n",
    "\n",
    "# Use the Epistemix default plotly template\n",
    "from epxexec.visual.utils import default_plotly_template\n",
    "pio.templates[\"epistemix\"] = default_plotly_template()\n",
    "pio.templates.default = \"epistemix\"\n",
    "\n",
    "os.environ[\"FRED_PROJECT\"] = str(Path.cwd())\n",
    "path_to_fred_project = os.environ[\"FRED_PROJECT\"]"
   ]
  },
  {
   "cell_type": "code",
   "execution_count": null,
   "id": "d17b32d2-6a5d-4b2b-96e2-8e5cb8944eb9",
   "metadata": {},
   "outputs": [
    {
     "name": "stdout",
     "output_type": "stream",
     "text": [
      "NOT STARTED at 0.0005114078521728516\n",
      "NOT STARTED at 3.0040698051452637\n",
      "NOT STARTED at 6.006180286407471\n",
      "NOT STARTED at 9.009763956069946\n",
      "NOT STARTED at 12.011634111404419\n",
      "NOT STARTED at 15.015439510345459\n",
      "NOT STARTED at 18.01799750328064\n",
      "NOT STARTED at 21.021632432937622\n",
      "NOT STARTED at 24.023305892944336\n",
      "RUNNING at 27.03738808631897\n",
      "RUNNING at 30.040996551513672\n",
      "RUNNING at 33.04472255706787\n",
      "RUNNING at 36.048287868499756\n",
      "RUNNING at 39.051368713378906\n",
      "RUNNING at 42.05386161804199\n",
      "RUNNING at 45.05685520172119\n",
      "RUNNING at 48.060423612594604\n",
      "RUNNING at 51.06397533416748\n",
      "RUNNING at 54.06732773780823\n",
      "RUNNING at 57.07732677459717\n",
      "RUNNING at 60.0804808139801\n",
      "RUNNING at 63.08525490760803\n",
      "RUNNING at 66.08733749389648\n",
      "RUNNING at 69.09116268157959\n",
      "RUNNING at 72.09475469589233\n",
      "RUNNING at 75.09837317466736\n",
      "RUNNING at 78.10196375846863\n",
      "RUNNING at 81.10563516616821\n",
      "RUNNING at 84.10740160942078\n",
      "RUNNING at 87.11033082008362\n",
      "RUNNING at 90.11403274536133\n",
      "RUNNING at 93.11534190177917\n",
      "RUNNING at 96.11904120445251\n",
      "RUNNING at 99.12268376350403\n",
      "RUNNING at 102.12495875358582\n",
      "RUNNING at 105.12864208221436\n",
      "RUNNING at 108.13216495513916\n",
      "RUNNING at 111.13579225540161\n",
      "RUNNING at 114.13969421386719\n",
      "RUNNING at 117.14678740501404\n",
      "RUNNING at 120.15043950080872\n",
      "RUNNING at 123.15152311325073\n",
      "RUNNING at 126.15528607368469\n",
      "RUNNING at 129.15596675872803\n",
      "RUNNING at 132.15948224067688\n",
      "RUNNING at 135.1630711555481\n",
      "RUNNING at 138.1666350364685\n",
      "RUNNING at 141.17022943496704\n",
      "RUNNING at 144.17417430877686\n",
      "RUNNING at 147.17537331581116\n",
      "RUNNING at 150.17904424667358\n",
      "RUNNING at 153.1821141242981\n",
      "RUNNING at 156.18441128730774\n",
      "RUNNING at 159.18735575675964\n",
      "RUNNING at 162.1921579837799\n",
      "RUNNING at 165.195707321167\n",
      "RUNNING at 168.19925951957703\n",
      "RUNNING at 171.20217180252075\n",
      "RUNNING at 174.20586776733398\n",
      "RUNNING at 177.21718668937683\n",
      "RUNNING at 180.2193500995636\n",
      "RUNNING at 183.2224838733673\n",
      "RUNNING at 186.2260525226593\n",
      "RUNNING at 189.22961497306824\n",
      "RUNNING at 192.23313999176025\n",
      "RUNNING at 195.2366840839386\n",
      "RUNNING at 198.2397482395172\n",
      "RUNNING at 201.24336791038513\n",
      "RUNNING at 204.24894070625305\n",
      "RUNNING at 207.2514374256134\n",
      "RUNNING at 210.25595450401306\n",
      "RUNNING at 213.25955295562744\n",
      "RUNNING at 216.26206970214844\n",
      "RUNNING at 219.26532864570618\n",
      "RUNNING at 222.26990294456482\n",
      "RUNNING at 225.27338480949402\n",
      "RUNNING at 228.27551674842834\n",
      "RUNNING at 231.279061794281\n",
      "RUNNING at 234.28037905693054\n",
      "RUNNING at 237.28671598434448\n",
      "RUNNING at 240.28846263885498\n",
      "RUNNING at 243.29131603240967\n",
      "RUNNING at 246.29496097564697\n",
      "RUNNING at 249.29850220680237\n",
      "RUNNING at 252.29936122894287\n",
      "RUNNING at 255.3031198978424\n",
      "RUNNING at 258.30660605430603\n",
      "RUNNING at 261.31019043922424\n",
      "RUNNING at 264.31133484840393\n",
      "RUNNING at 267.313019990921\n",
      "RUNNING at 270.3165771961212\n",
      "RUNNING at 273.3200454711914\n",
      "RUNNING at 276.3233025074005\n",
      "RUNNING at 279.32713508605957\n",
      "RUNNING at 282.33162784576416\n"
     ]
    }
   ],
   "source": [
    "mpox_config = ModelConfig(synth_pop=SynthPop(\"US_2010.v5\", [\"Dane_County_WI\"]),\n",
    "    start_date = \"2022-06-01\",\n",
    "    end_date = \"2024-06-01\")\n",
    "\n",
    "results_dir = \"/home/epx/cl-results\"\n",
    "\n",
    "# Configure FRED job\n",
    "mpox_job = Job(\n",
    "    \"model/main_monkeypox.fred\",\n",
    "    config=[mpox_config],\n",
    "    key=\"mpox_job\",\n",
    "    results_dir=results_dir,\n",
    "    size=\"hot\",\n",
    "    # Select FRED version compatible with selected model\n",
    "    fred_version=\"10.1.1\"\n",
    ")\n",
    "\n",
    "# Execute job\n",
    "mpox_job.execute()\n",
    "\n",
    "import time\n",
    "# the following loop idles while we wait for the simulation job to finish\n",
    "start = time.time()\n",
    "timeout   = 3000 # timeout in seconds\n",
    "idle_time = 3   # time to wait (in seconds) before checking status again\n",
    "while str(mpox_job.status) != 'DONE':\n",
    "    print(f\"{mpox_job.status} at {time.time()-start}\")\n",
    "    if time.time() > start + timeout:\n",
    "        msg = f\"Job did not finish within {timeout / 60} minutes.\"\n",
    "        raise RuntimeError(msg)\n",
    "    time.sleep(idle_time)\n",
    "\n",
    "str(mpox_job.status)"
   ]
  },
  {
   "cell_type": "code",
   "execution_count": null,
   "id": "2618b69c-eaf2-43cf-afda-6150019a87d8",
   "metadata": {},
   "outputs": [],
   "source": [
    "mpox_job.results.state(condition=\"BATHHOUSE\", state=\"Visit\", count_type=\"new\")"
   ]
  },
  {
   "cell_type": "code",
   "execution_count": null,
   "id": "95dc32f0-c029-4ec9-b8d2-ac0d02f189cc",
   "metadata": {},
   "outputs": [],
   "source": [
    "susceptible = mpox_job.results.state(\n",
    "    condition=\"MPOX\",\n",
    "    state=\"Susceptible\",\n",
    "    count_type=\"new\"\n",
    ")\n",
    "\n",
    "exposed = mpox_job.results.state(\n",
    "    condition=\"MPOX\",\n",
    "    state=\"Exposed\",\n",
    "    count_type=\"new\"\n",
    ")\n",
    "\n",
    "infectious = mpox_job.results.state(\n",
    "    condition=\"MPOX\",\n",
    "    state=\"Infectious\",\n",
    "    count_type=\"new\"\n",
    ")\n",
    "\n",
    "\n",
    "recovered = mpox_job.results.state(\n",
    "    condition=\"MPOX\",\n",
    "    state=\"Recovered\",\n",
    "    count_type=\"new\"\n",
    ")"
   ]
  },
  {
   "cell_type": "code",
   "execution_count": null,
   "id": "b070ab29-6c66-4aee-9b3a-af18b7ac3aa1",
   "metadata": {},
   "outputs": [],
   "source": [
    "susceptible"
   ]
  },
  {
   "cell_type": "code",
   "execution_count": null,
   "id": "8d36da27-7c3e-4c3b-9f96-d434f8e5364f",
   "metadata": {},
   "outputs": [],
   "source": [
    "susceptible.to_csv(\"sus_counts.csv\")"
   ]
  },
  {
   "cell_type": "code",
   "execution_count": null,
   "id": "52f95882-364f-4023-8c65-16fafff7139a",
   "metadata": {},
   "outputs": [],
   "source": [
    "# rename the 'new' counts column to the name of the state\n",
    "susceptible.rename(columns={'new':'Susceptible'},inplace=True)\n",
    "exposed.rename(columns={'new':'Exposed'},inplace=True)\n",
    "infectious.rename(columns={'new':'Infectious'},inplace=True)\n",
    "recovered.rename(columns={'new':'Recovered'},inplace=True)\n",
    "\n",
    "# build up the merged dataframe with counts for all states\n",
    "all_states = pd.merge(susceptible,exposed)\n",
    "all_states = pd.merge(all_states,infectious)\n",
    "all_states = pd.merge(all_states,recovered)\n",
    "\n",
    "#retrieve the sim_date from the column and add to the all_states frame.\n",
    "all_states['sim_date']=mpox_job.get_job_date_table().sim_date"
   ]
  },
  {
   "cell_type": "code",
   "execution_count": null,
   "id": "92f1120f-1255-4a06-b49d-41acdfb37b64",
   "metadata": {},
   "outputs": [],
   "source": [
    "all_states.to_csv(\"all_mpox_data_vals1.csv\")"
   ]
  },
  {
   "cell_type": "code",
   "execution_count": null,
   "id": "5567d89d-7d51-4fd7-9846-c43b2f44e6ad",
   "metadata": {},
   "outputs": [],
   "source": [
    "all_states['Exposed_7day_avg'] = all_states.Exposed.rolling(7).mean()\n",
    "all_states['Recovered_7day_avg'] = all_states.Recovered.rolling(7).mean()\n",
    "all_states['Infectious_7day_avg'] = all_states.Infectious.rolling(7).mean()\n",
    "\n",
    "all_state_7day_df = all_states[~all_states['Exposed_7day_avg'].isnull()]\n",
    "\n",
    "fig = px.line(\n",
    "    all_state_7day_df,\n",
    "    x='sim_date',\n",
    "    y=['Exposed_7day_avg','Infectious_7day_avg','Recovered_7day_avg'], # pass a list to plot all states],\n",
    "    title=\"Mpox outbreak in County\")\n",
    "fig.update_layout( # customize font and legend orientation & position\n",
    "    font_family=\"Epistemix Label\",\n",
    "    yaxis_title=\"New infections per day, 7 day average\",\n",
    "    xaxis_title=\"Date\",\n",
    "    legend_title=\"State\",\n",
    "    title_font_size=30\n",
    ")\n",
    "fig.show()"
   ]
  },
  {
   "cell_type": "code",
   "execution_count": null,
   "id": "287f978d-9a8b-48f4-8e55-050b49c00e18",
   "metadata": {
    "tags": []
   },
   "outputs": [],
   "source": [
    "mpox_job.delete(interactive=False)"
   ]
  }
 ],
 "metadata": {
  "kernelspec": {
   "display_name": "Python 3 (ipykernel)",
   "language": "python",
   "name": "python3"
  },
  "language_info": {
   "codemirror_mode": {
    "name": "ipython",
    "version": 3
   },
   "file_extension": ".py",
   "mimetype": "text/x-python",
   "name": "python",
   "nbconvert_exporter": "python",
   "pygments_lexer": "ipython3",
   "version": "3.10.10"
  }
 },
 "nbformat": 4,
 "nbformat_minor": 5
}
