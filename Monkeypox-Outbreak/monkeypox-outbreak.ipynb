{
 "cells": [
  {
   "cell_type": "code",
   "execution_count": null,
   "id": "da7268f8-9900-4eb6-ac04-4b2674ebf46d",
   "metadata": {
    "tags": []
   },
   "outputs": [],
   "source": [
    "from epx import FREDJob, FREDModelConfig, SynthPop\n",
    "\n",
    "from pathlib import Path\n",
    "import os\n",
    "\n",
    "import pandas as pd\n",
    "import plotly.express as px\n",
    "import plotly.io as pio\n",
    "import plotly.graph_objects as go\n",
    "import requests\n",
    "\n",
    "# Use the Epistemix default plotly template\n",
    "r = requests.get(\"https://gist.githubusercontent.com/daniel-epistemix/8009ad31ebfa96ac97b7be038c014c0d/raw/320c3b0ca3dfbf7946e49c97254fa65d4753aeac/epx_plotly_theme.json\")\n",
    "if r.status_code == 200:\n",
    "    pio.templates[\"epistemix\"] = go.layout.Template(r.json())\n",
    "    pio.templates.default = \"epistemix\"\n",
    "\n",
    "os.environ[\"FRED_PROJECT\"] = str(Path.cwd())\n",
    "path_to_fred_project = os.environ[\"FRED_PROJECT\"]"
   ]
  },
  {
   "cell_type": "code",
   "execution_count": null,
   "id": "d17b32d2-6a5d-4b2b-96e2-8e5cb8944eb9",
   "metadata": {
    "tags": []
   },
   "outputs": [],
   "source": [
    "mpox_config = FREDModelConfig(synth_pop=SynthPop(\"US_2010.v5\", [\"Dane_County_WI\"]),\n",
    "    start_date = \"2022-06-01\",\n",
    "    end_date = \"2024-06-01\")\n",
    "\n",
    "fred_ref_files = {\"data/bathhouse_transmission_MPOX_OUTBREAK.txt\":\"data/bathhouse_transmission_MPOX_OUTBREAK.txt\"}\n",
    "fred_include_files = [\n",
    "    \"model/main_monkeypox.fred\",\n",
    "    \"model/mpox.fred\",\n",
    "    \"model/msm.fred\",\n",
    "    \"model/bathhouse.fred\",\n",
    "    \"model/test_report.fred\"]\n",
    "\n",
    "\n",
    "mpox_job = FREDJob(\n",
    "    config=[mpox_config],\n",
    "    tags=[\"mpox_job\",\"epx-client-1.2.0\"],\n",
    "    fred_version=\"11.0.1\",\n",
    "    fred_files=fred_include_files,\n",
    "    ref_files=fred_ref_files\n",
    ")\n",
    "\n",
    "# Execute job\n",
    "mpox_job.execute(300)\n",
    "\n",
    "str(mpox_job.status)"
   ]
  },
  {
   "cell_type": "code",
   "execution_count": null,
   "id": "2618b69c-eaf2-43cf-afda-6150019a87d8",
   "metadata": {},
   "outputs": [],
   "source": [
    "mpox_job.results.state(condition=\"BATHHOUSE\", state=\"Visit\", count_type=\"new\")"
   ]
  },
  {
   "cell_type": "code",
   "execution_count": null,
   "id": "95dc32f0-c029-4ec9-b8d2-ac0d02f189cc",
   "metadata": {},
   "outputs": [],
   "source": [
    "susceptible = mpox_job.results.state(\n",
    "    condition=\"MPOX\",\n",
    "    state=\"Susceptible\",\n",
    "    count_type=\"new\"\n",
    ")\n",
    "\n",
    "exposed = mpox_job.results.state(\n",
    "    condition=\"MPOX\",\n",
    "    state=\"Exposed\",\n",
    "    count_type=\"new\"\n",
    ")\n",
    "\n",
    "infectious = mpox_job.results.state(\n",
    "    condition=\"MPOX\",\n",
    "    state=\"Infectious\",\n",
    "    count_type=\"new\"\n",
    ")\n",
    "\n",
    "\n",
    "recovered = mpox_job.results.state(\n",
    "    condition=\"MPOX\",\n",
    "    state=\"Recovered\",\n",
    "    count_type=\"new\"\n",
    ")"
   ]
  },
  {
   "cell_type": "code",
   "execution_count": null,
   "id": "b070ab29-6c66-4aee-9b3a-af18b7ac3aa1",
   "metadata": {},
   "outputs": [],
   "source": [
    "susceptible"
   ]
  },
  {
   "cell_type": "code",
   "execution_count": null,
   "id": "8d36da27-7c3e-4c3b-9f96-d434f8e5364f",
   "metadata": {},
   "outputs": [],
   "source": [
    "susceptible.to_csv(\"sus_counts.csv\")"
   ]
  },
  {
   "cell_type": "code",
   "execution_count": null,
   "id": "52f95882-364f-4023-8c65-16fafff7139a",
   "metadata": {},
   "outputs": [],
   "source": [
    "# rename the 'new' counts column to the name of the state\n",
    "susceptible.rename(columns={'new':'Susceptible'},inplace=True)\n",
    "exposed.rename(columns={'new':'Exposed'},inplace=True)\n",
    "infectious.rename(columns={'new':'Infectious'},inplace=True)\n",
    "recovered.rename(columns={'new':'Recovered'},inplace=True)\n",
    "\n",
    "# build up the merged dataframe with counts for all states\n",
    "all_states = pd.merge(susceptible,exposed)\n",
    "all_states = pd.merge(all_states,infectious)\n",
    "all_states = pd.merge(all_states,recovered)\n",
    "\n",
    "#retrieve the sim_date from the column and add to the all_states frame.\n",
    "all_states['sim_date']=mpox_job.results.dates().sim_date"
   ]
  },
  {
   "cell_type": "code",
   "execution_count": null,
   "id": "92f1120f-1255-4a06-b49d-41acdfb37b64",
   "metadata": {},
   "outputs": [],
   "source": [
    "all_states.to_csv(\"all_mpox_data_vals1.csv\")"
   ]
  },
  {
   "cell_type": "code",
   "execution_count": null,
   "id": "5567d89d-7d51-4fd7-9846-c43b2f44e6ad",
   "metadata": {},
   "outputs": [],
   "source": [
    "all_states['Exposed_7day_avg'] = all_states.Exposed.rolling(7).mean()\n",
    "all_states['Recovered_7day_avg'] = all_states.Recovered.rolling(7).mean()\n",
    "all_states['Infectious_7day_avg'] = all_states.Infectious.rolling(7).mean()\n",
    "\n",
    "all_state_7day_df = all_states[~all_states['Exposed_7day_avg'].isnull()]\n",
    "\n",
    "fig = px.line(\n",
    "    all_state_7day_df,\n",
    "    x='sim_date',\n",
    "    y=['Exposed_7day_avg','Infectious_7day_avg','Recovered_7day_avg'], # pass a list to plot all states],\n",
    "    title=\"Mpox outbreak in County\")\n",
    "fig.update_layout( # customize font and legend orientation & position\n",
    "    font_family=\"Epistemix Label\",\n",
    "    yaxis_title=\"New infections per day, 7 day average\",\n",
    "    xaxis_title=\"Date\",\n",
    "    legend_title=\"State\",\n",
    "    title_font_size=30\n",
    ")\n",
    "fig.show()"
   ]
  },
  {
   "cell_type": "code",
   "execution_count": null,
   "id": "287f978d-9a8b-48f4-8e55-050b49c00e18",
   "metadata": {
    "tags": []
   },
   "outputs": [],
   "source": [
    "mpox_job.delete(interactive=False)"
   ]
  }
 ],
 "metadata": {
  "kernelspec": {
   "display_name": "Python 3 (ipykernel)",
   "language": "python",
   "name": "python3"
  },
  "language_info": {
   "codemirror_mode": {
    "name": "ipython",
    "version": 3
   },
   "file_extension": ".py",
   "mimetype": "text/x-python",
   "name": "python",
   "nbconvert_exporter": "python",
   "pygments_lexer": "ipython3",
   "version": "3.10.10"
  }
 },
 "nbformat": 4,
 "nbformat_minor": 5
}
