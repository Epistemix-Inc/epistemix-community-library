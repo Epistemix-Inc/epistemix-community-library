{
 "cells": [
  {
   "cell_type": "markdown",
   "id": "aee40182-b486-4e3a-8e3c-857b1e8fb604",
   "metadata": {},
   "source": [
    "### To run this model yourself: go to Run -> Run All Cells in the top left menu bar."
   ]
  },
  {
   "cell_type": "code",
   "execution_count": null,
   "id": "25276c8a-fa83-4420-bfd1-82f3be7aea53",
   "metadata": {
    "tags": []
   },
   "outputs": [],
   "source": [
    "from epxexec.fred_job import fred_job\n",
    "\n",
    "import pandas as pd\n",
    "import numpy as np\n",
    "\n",
    "import networkx as nx\n",
    "\n",
    "import matplotlib as mpl\n",
    "import matplotlib.pyplot as plt\n",
    "\n",
    "import plotly.express as px\n",
    "import plotly.io as pio\n",
    "from epxexec.visual.utils import default_plotly_template\n",
    "pio.templates[\"epistemix\"] = default_plotly_template()\n",
    "pio.templates.default = \"epistemix\""
   ]
  },
  {
   "cell_type": "code",
   "execution_count": null,
   "id": "46d53478-b65d-4bd6-a049-8a1adf1abc3e",
   "metadata": {
    "tags": []
   },
   "outputs": [],
   "source": [
    "plt.style.use('seaborn-v0_8-darkgrid')\n",
    "\n",
    "mpl.rc('axes', grid=True, facecolor=\"#000533\", labelcolor=\"#F3F3F7\")\n",
    "mpl.rc('figure', facecolor=\"#000533\")\n",
    "mpl.rc('grid', color=\"#6C76A8\", linewidth=0.7)\n",
    "mpl.rc(\"text\", color=\"#F3F3F7\")\n",
    "mpl.rc(\"xtick\", color=\"#F3F3F7\")\n",
    "mpl.rc(\"ytick\", color=\"#F3F3F7\")"
   ]
  },
  {
   "cell_type": "markdown",
   "id": "25619163-afe2-4d69-99ec-8bcd61ccba7f",
   "metadata": {},
   "source": [
    "# Idea Evolution and Misinformation"
   ]
  },
  {
   "cell_type": "code",
   "execution_count": null,
   "id": "5dade965-6e5f-46f1-9a16-6feaecad6a8f",
   "metadata": {
    "tags": []
   },
   "outputs": [],
   "source": [
    "%%time\n",
    "job = fred_job(\"model/main.fred\")"
   ]
  },
  {
   "cell_type": "code",
   "execution_count": null,
   "id": "a73b3ea0-c248-46b6-97fa-ed45e8e81160",
   "metadata": {
    "tags": []
   },
   "outputs": [],
   "source": [
    "network = job.runs[1].get_csv_output(\"network_edges.csv\")\n",
    "idea = job.runs[1].get_csv_output('idea_evolution.csv')"
   ]
  },
  {
   "cell_type": "markdown",
   "id": "6a481b3b-a88e-4f87-91d1-cdbf1c15225e",
   "metadata": {},
   "source": [
    "## Agent Network\n",
    "\n",
    "First we'll take a look at a subset of the network generated based on the agent's daily interactions. In the visualization below, each white dot is an agent (network node), and the lines are connections between the agents (network edges). The color and thickness of the lines represents the strength of that connection (network weights). \n",
    "\n",
    "In this model, connection strength is randomly drawn from a range of values which varies based on where the connection is made (a higher value range for at-home connections, intermediate range for work or school, lower range for connections made through the community at large). "
   ]
  },
  {
   "cell_type": "code",
   "execution_count": null,
   "id": "a3fbf82e-2b3b-4fc1-a1b7-a93ff5908b76",
   "metadata": {
    "jupyter": {
     "source_hidden": true
    },
    "tags": []
   },
   "outputs": [],
   "source": [
    "plot_sample = network[network.X!=network.Y].iloc[:500]\n",
    "\n",
    "G = nx.Graph()\n",
    "\n",
    "fig1, ax1 = plt.subplots(figsize=(16, 16))\n",
    "for u,v,x in zip(plot_sample['X'], \n",
    "               plot_sample['Y'],plot_sample['weight']):\n",
    "    G.add_edge(u, v, weight=x)  \n",
    "    \n",
    "nx.draw_networkx(G, node_color=\"#E8ECFC\", node_size=80, \n",
    "               linewidths=2.5,\n",
    "               width=(plot_sample.weight+0.2)*8, \n",
    "                 edge_color=plt.cm.viridis(plot_sample.weight),\n",
    "               edgecolors=\"#000533\", with_labels=False, pos=nx.spring_layout(G))"
   ]
  },
  {
   "cell_type": "markdown",
   "id": "eb357222-8284-489c-a5ea-cfbe201054a0",
   "metadata": {},
   "source": [
    "## Idea Spread\n",
    "\n",
    "This model represents a single \"idea\" with a pair of (x,y) coordinates. A certain number of randomly selected agents (set by the `n_idea_seeds` variable; default=10) are originators of the idea, beginning with idea coordinates (0,0). They each seek out a friend (drawn from their network links) to share with. Each sharing of the idea slightly garbles the messages (adds noise drawn from `uniform(-0.1,0.1)` to each coordinate).\n",
    "\n",
    "In the visualization below, we can see just how much the \"idea\" values evolve with time. Each marker represents a set of values of the idea as heard by an agent, and the markers are color-coded by what simulation day they heard the idea on. ~250 days after the idea appeared, we have agents who report the idea values to be (-0.1, 0.6) and some who report (0.1, -1.9)."
   ]
  },
  {
   "cell_type": "code",
   "execution_count": null,
   "id": "0cf596ff-3d78-43d1-9b7d-9c4f32e27413",
   "metadata": {
    "jupyter": {
     "source_hidden": true
    },
    "tags": []
   },
   "outputs": [],
   "source": [
    "fig,ax = plt.subplots(figsize=(7,6))\n",
    "tmp_idea = idea[idea.my_origin!=0]\n",
    "for i in range(len(tmp_idea)):\n",
    "    node1 = tmp_idea.iloc[i]\n",
    "    node2 = idea[(idea.ID==node1.my_origin)].iloc[0]\n",
    "    ax.plot([node1.my_x, node2.my_x], [node1.my_y, node2.my_y], c=\"w\", zorder=0, lw=1)\n",
    "\n",
    "sc = ax.scatter(idea.my_x, idea.my_y, c=idea.simday, cmap=plt.cm.viridis)\n",
    "cb = plt.colorbar(sc, label=\"Simday\")"
   ]
  },
  {
   "cell_type": "markdown",
   "id": "d664cbfb-8394-4027-842a-4155eb24894d",
   "metadata": {},
   "source": [
    "The figure below highlights a single \"idea chain\" to show just how much a single game of telephone can distort the idea."
   ]
  },
  {
   "cell_type": "code",
   "execution_count": null,
   "id": "d5bbca78-e3fc-481a-b240-d5d4496db2e9",
   "metadata": {
    "jupyter": {
     "source_hidden": true
    },
    "tags": []
   },
   "outputs": [],
   "source": [
    "fig,ax = plt.subplots(figsize=(6,6))\n",
    "\n",
    "idea_line_x = []\n",
    "idea_line_y = [] \n",
    "for j in range(1,10):\n",
    "    start_id = idea.iloc[j].ID\n",
    "    for i in range(len(idea)):\n",
    "        if len(idea[idea.my_origin==start_id])==0:\n",
    "            break\n",
    "        node1 = idea[idea.ID==start_id].iloc[0]\n",
    "        node2 = idea[idea.my_origin==start_id].iloc[0]\n",
    "        ax.plot([node1.my_x, node2.my_x], \n",
    "                [node1.my_y, node2.my_y],\n",
    "                c=\"#8C96CA\", zorder=0, lw=0.7)\n",
    "\n",
    "        start_id = node2.ID\n",
    "        idea_line_x += [node2.my_x]\n",
    "        idea_line_y += [node2.my_y]\n",
    "\n",
    "ax.scatter(idea_line_x, idea_line_y, c=\"#8C96CA\", s=2, alpha=0.8)\n",
    "\n",
    "idea_line_x = []\n",
    "idea_line_y = [] \n",
    "idea_line_c = [] \n",
    "start_id = idea.iloc[0].ID\n",
    "for i in range(len(idea)):\n",
    "    if len(idea[idea.my_origin==start_id])==0:\n",
    "        break\n",
    "    node1 = idea[idea.ID==start_id].iloc[0]\n",
    "    node2 = idea[idea.my_origin==start_id].iloc[0]\n",
    "    ax.plot([node1.my_x, node2.my_x], \n",
    "            [node1.my_y, node2.my_y],\n",
    "            c=\"w\", zorder=1, lw=1.2)\n",
    "\n",
    "    start_id = node2.ID\n",
    "    idea_line_x += [node2.my_x]\n",
    "    idea_line_y += [node2.my_y]\n",
    "    idea_line_c += [node2.simday]\n",
    "    \n",
    "ax.scatter(idea_line_x, idea_line_y, c=idea_line_c, cmap=plt.cm.viridis,\n",
    "           edgecolor=\"w\", s=60, linewidth=1.2)"
   ]
  },
  {
   "cell_type": "markdown",
   "id": "564a65de-af1c-44af-b262-3dd24ccab7be",
   "metadata": {},
   "source": [
    "Finally, we can animate the idea's evolution, starting from the 10 seeds all at (0,0) and watch how the idea changes with each transfer."
   ]
  },
  {
   "cell_type": "code",
   "execution_count": null,
   "id": "05c3c21c-a0ce-4063-8666-7a8ac615a162",
   "metadata": {
    "jupyter": {
     "source_hidden": true
    },
    "tags": []
   },
   "outputs": [],
   "source": [
    "%%capture \n",
    "\n",
    "anim_tmp = idea[idea.simday==3].copy()\n",
    "anim_tmp = anim_tmp.assign(color = [\"Old\",\"New\",\"New\",\"New\",\"New\",\"New\",\"New\",\"New\",\"New\",\"New\"])\n",
    "\n",
    "\n",
    "for i in range(4,idea.simday.max()+1):\n",
    "    tmp1 = idea[idea.simday<i]\n",
    "    tmp1[\"simday\"] = i\n",
    "    tmp1 = tmp1.assign(color = \"Old\")\n",
    "    \n",
    "    tmp2 = idea[idea.simday==i]\n",
    "    tmp2 = tmp2.assign(color = \"New\")\n",
    "    \n",
    "    anim_tmp = pd.concat([anim_tmp, tmp1, tmp2])"
   ]
  },
  {
   "cell_type": "code",
   "execution_count": null,
   "id": "5b08d1f3-970d-44ab-9205-da275e3d985b",
   "metadata": {
    "jupyter": {
     "source_hidden": true
    },
    "tags": []
   },
   "outputs": [],
   "source": [
    "fig = px.scatter(anim_tmp, x=\"my_x\", y=\"my_y\", animation_frame=\"simday\", \n",
    "                 animation_group=\"ID\",color=\"color\",\n",
    "                 range_x=[-1.1,1.1], range_y=[-2.2, 1.6])\n",
    "\n",
    "\n",
    "fig.update_layout(height=600,)\n",
    "fig.update_yaxes(\n",
    "    scaleanchor=\"x\",\n",
    "    scaleratio=1,\n",
    "  )\n",
    "\n",
    "fig.layout.updatemenus[0].buttons[0].args[1][\"frame\"][\"duration\"] = 100\n",
    "fig.layout.updatemenus[0].buttons[0].args[1][\"transition\"][\"duration\"] = 0\n",
    "\n",
    "fig.update_layout(\n",
    "    font_family=\"Epistemix Label\",\n",
    "    title=\"The Evolution of an Idea\",\n",
    "    title_font_size=24,\n",
    ")\n",
    "\n",
    "fig.show()"
   ]
  },
  {
   "cell_type": "code",
   "execution_count": null,
   "id": "b60d0db5-5df1-4b03-866a-c4d9be24c0fe",
   "metadata": {},
   "outputs": [],
   "source": []
  }
 ],
 "metadata": {
  "kernelspec": {
   "display_name": "Python 3 (ipykernel)",
   "language": "python",
   "name": "python3"
  },
  "language_info": {
   "codemirror_mode": {
    "name": "ipython",
    "version": 3
   },
   "file_extension": ".py",
   "mimetype": "text/x-python",
   "name": "python",
   "nbconvert_exporter": "python",
   "pygments_lexer": "ipython3",
   "version": "3.10.9"
  }
 },
 "nbformat": 4,
 "nbformat_minor": 5
}
