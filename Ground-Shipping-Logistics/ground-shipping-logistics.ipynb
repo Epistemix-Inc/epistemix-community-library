{
 "cells": [
  {
   "cell_type": "code",
   "execution_count": 1,
   "id": "9cc91a4a-a767-43fa-95b7-74042b6c49a4",
   "metadata": {
    "tags": []
   },
   "outputs": [],
   "source": [
    "import epxexec # Epistemix package for running FRED simulations within Python\n",
    "import epxexec.epxresults as epxresults # Epistemix package for managing and accessing FRED simulation outputs\n",
    "from epxexec.fred_job import fred_job\n",
    "import pandas as pd\n",
    "\n",
    "import os\n",
    "from pathlib import Path\n",
    "os.environ[\"FRED_PROJECT\"] = str(Path.cwd())"
   ]
  },
  {
   "cell_type": "markdown",
   "id": "4bc72440-6d14-49bc-ac2b-378b84f93e5f",
   "metadata": {
    "tags": []
   },
   "source": [
    "# Ground logistics model\n",
    "\n",
    "This model represents a ground transportation network. Cities represent nodes in the network and roads are edges. A table of trucks agents is read in at the beginning of the simulation. There are no human agents in the model. \n",
    "\n",
    "## Model components\n",
    "\n",
    "- `city_locations.fred`: contains the GENERATE\\_LOCATIONS condition that creates a network of cities\n",
    "- `trucks.fred`: contains the GENERATE\\_TRUCKS condition that reads the trucks agent file and the MOVE\\_TRUCKS condition that picks next locations for trucks to travel to\n",
    "- `travel_disruption.fred`: contains the DISRUPTION condition that creates travel disruptions at certain nodes as defined by an end user"
   ]
  },
  {
   "cell_type": "code",
   "execution_count": 8,
   "id": "bc534698-3864-4846-8546-6df80b24a680",
   "metadata": {
    "tags": []
   },
   "outputs": [
    {
     "name": "stdout",
     "output_type": "stream",
     "text": [
      "\n",
      "fred_job: starting job  at Tue Oct 31 11:41:13 PM UTC 2023\n",
      "\n",
      "fred_compile -p /home/epx/epistemix-community-library/Ground-Shipping-Logistics/model/main.fred\n",
      "No errors found.\n",
      "No warnings.\n",
      "\n",
      "fred_job: running job 117 117 ...\n",
      "FRED starting at Tue Oct 31 11:41:14 PM UTC 2023\n",
      "\n",
      "FRED finished at Tue Oct 31 11:41:16 PM UTC 2023\n",
      "\n",
      "fred_job: finished job 117 117 at Tue Oct 31 11:41:19 PM UTC 2023\n",
      "\n",
      "\n"
     ]
    }
   ],
   "source": [
    "ground_logistics = fred_job(program=\"model/main.fred\")"
   ]
  },
  {
   "cell_type": "markdown",
   "id": "141937cf-4b0d-4c58-9ee4-068b11321d83",
   "metadata": {},
   "source": [
    "## Data outputs\n",
    "\n",
    "Let's take a look at the output `travel_info.csv`. The data summarizes the progress of each truck on the journey from its most recently visited city to its next destination by recording the remaining distance left to travel on each day of the simulation."
   ]
  },
  {
   "cell_type": "code",
   "execution_count": 10,
   "id": "57743ca6-e2b8-4988-903c-08ecb5aa49a3",
   "metadata": {
    "tags": []
   },
   "outputs": [
    {
     "data": {
      "text/html": [
       "<div>\n",
       "<style scoped>\n",
       "    .dataframe tbody tr th:only-of-type {\n",
       "        vertical-align: middle;\n",
       "    }\n",
       "\n",
       "    .dataframe tbody tr th {\n",
       "        vertical-align: top;\n",
       "    }\n",
       "\n",
       "    .dataframe thead th {\n",
       "        text-align: right;\n",
       "    }\n",
       "</style>\n",
       "<table border=\"1\" class=\"dataframe\">\n",
       "  <thead>\n",
       "    <tr style=\"text-align: right;\">\n",
       "      <th></th>\n",
       "      <th>ID</th>\n",
       "      <th>DAY</th>\n",
       "      <th>HOME_CITY</th>\n",
       "      <th>MOST_RECENT_CITY</th>\n",
       "      <th>NEXT_CITY</th>\n",
       "      <th>DISTANCE_REMAINING</th>\n",
       "    </tr>\n",
       "  </thead>\n",
       "  <tbody>\n",
       "    <tr>\n",
       "      <th>0</th>\n",
       "      <td>1000000000</td>\n",
       "      <td>20200102</td>\n",
       "      <td>900000001</td>\n",
       "      <td>900000001</td>\n",
       "      <td>900000010</td>\n",
       "      <td>2437</td>\n",
       "    </tr>\n",
       "    <tr>\n",
       "      <th>1</th>\n",
       "      <td>1000000001</td>\n",
       "      <td>20200102</td>\n",
       "      <td>900000001</td>\n",
       "      <td>900000001</td>\n",
       "      <td>900000009</td>\n",
       "      <td>1048</td>\n",
       "    </tr>\n",
       "    <tr>\n",
       "      <th>2</th>\n",
       "      <td>1000000002</td>\n",
       "      <td>20200102</td>\n",
       "      <td>900000001</td>\n",
       "      <td>900000001</td>\n",
       "      <td>900000005</td>\n",
       "      <td>1930</td>\n",
       "    </tr>\n",
       "    <tr>\n",
       "      <th>3</th>\n",
       "      <td>1000000003</td>\n",
       "      <td>20200102</td>\n",
       "      <td>900000001</td>\n",
       "      <td>900000001</td>\n",
       "      <td>900000008</td>\n",
       "      <td>2323</td>\n",
       "    </tr>\n",
       "    <tr>\n",
       "      <th>4</th>\n",
       "      <td>1000000004</td>\n",
       "      <td>20200102</td>\n",
       "      <td>900000001</td>\n",
       "      <td>900000001</td>\n",
       "      <td>900000010</td>\n",
       "      <td>2437</td>\n",
       "    </tr>\n",
       "    <tr>\n",
       "      <th>...</th>\n",
       "      <td>...</td>\n",
       "      <td>...</td>\n",
       "      <td>...</td>\n",
       "      <td>...</td>\n",
       "      <td>...</td>\n",
       "      <td>...</td>\n",
       "    </tr>\n",
       "    <tr>\n",
       "      <th>983</th>\n",
       "      <td>1000000035</td>\n",
       "      <td>20200201</td>\n",
       "      <td>900000008</td>\n",
       "      <td>900000003</td>\n",
       "      <td>900000008</td>\n",
       "      <td>0</td>\n",
       "    </tr>\n",
       "    <tr>\n",
       "      <th>984</th>\n",
       "      <td>1000000037</td>\n",
       "      <td>20200201</td>\n",
       "      <td>900000009</td>\n",
       "      <td>900000009</td>\n",
       "      <td>900000010</td>\n",
       "      <td>0</td>\n",
       "    </tr>\n",
       "    <tr>\n",
       "      <th>985</th>\n",
       "      <td>1000000041</td>\n",
       "      <td>20200201</td>\n",
       "      <td>900000009</td>\n",
       "      <td>900000002</td>\n",
       "      <td>900000001</td>\n",
       "      <td>2293</td>\n",
       "    </tr>\n",
       "    <tr>\n",
       "      <th>986</th>\n",
       "      <td>1000000042</td>\n",
       "      <td>20200201</td>\n",
       "      <td>900000009</td>\n",
       "      <td>900000004</td>\n",
       "      <td>900000001</td>\n",
       "      <td>0</td>\n",
       "    </tr>\n",
       "    <tr>\n",
       "      <th>987</th>\n",
       "      <td>1000000046</td>\n",
       "      <td>20200201</td>\n",
       "      <td>900000010</td>\n",
       "      <td>900000005</td>\n",
       "      <td>900000003</td>\n",
       "      <td>750</td>\n",
       "    </tr>\n",
       "  </tbody>\n",
       "</table>\n",
       "<p>988 rows × 6 columns</p>\n",
       "</div>"
      ],
      "text/plain": [
       "             ID       DAY  HOME_CITY  MOST_RECENT_CITY  NEXT_CITY  \\\n",
       "0    1000000000  20200102  900000001         900000001  900000010   \n",
       "1    1000000001  20200102  900000001         900000001  900000009   \n",
       "2    1000000002  20200102  900000001         900000001  900000005   \n",
       "3    1000000003  20200102  900000001         900000001  900000008   \n",
       "4    1000000004  20200102  900000001         900000001  900000010   \n",
       "..          ...       ...        ...               ...        ...   \n",
       "983  1000000035  20200201  900000008         900000003  900000008   \n",
       "984  1000000037  20200201  900000009         900000009  900000010   \n",
       "985  1000000041  20200201  900000009         900000002  900000001   \n",
       "986  1000000042  20200201  900000009         900000004  900000001   \n",
       "987  1000000046  20200201  900000010         900000005  900000003   \n",
       "\n",
       "     DISTANCE_REMAINING  \n",
       "0                  2437  \n",
       "1                  1048  \n",
       "2                  1930  \n",
       "3                  2323  \n",
       "4                  2437  \n",
       "..                  ...  \n",
       "983                   0  \n",
       "984                   0  \n",
       "985                2293  \n",
       "986                   0  \n",
       "987                 750  \n",
       "\n",
       "[988 rows x 6 columns]"
      ]
     },
     "execution_count": 10,
     "metadata": {},
     "output_type": "execute_result"
    }
   ],
   "source": [
    "travel_log_df = ground_logistics.runs[1].get_csv_output('travel_log.csv')\n",
    "travel_log_df"
   ]
  }
 ],
 "metadata": {
  "kernelspec": {
   "display_name": "Python 3 (ipykernel)",
   "language": "python",
   "name": "python3"
  },
  "language_info": {
   "codemirror_mode": {
    "name": "ipython",
    "version": 3
   },
   "file_extension": ".py",
   "mimetype": "text/x-python",
   "name": "python",
   "nbconvert_exporter": "python",
   "pygments_lexer": "ipython3",
   "version": "3.10.10"
  }
 },
 "nbformat": 4,
 "nbformat_minor": 5
}
