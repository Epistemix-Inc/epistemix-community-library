{
 "cells": [
  {
   "cell_type": "code",
   "execution_count": null,
   "id": "d44cac43-0a52-40aa-9600-234f1b635037",
   "metadata": {
    "tags": []
   },
   "outputs": [],
   "source": [
    "from epx import Job, ModelConfig, SynthPop\n",
    "\n",
    "import networkx as nx\n",
    "import time"
   ]
  },
  {
   "cell_type": "markdown",
   "id": "43a9eed6-f7cc-4c79-b9df-e1bcc6ae8c54",
   "metadata": {},
   "source": [
    "# Exploring a Transmission Network"
   ]
  },
  {
   "cell_type": "markdown",
   "id": "79f78cf3-d6bb-48d1-a4dd-7a0059a562a3",
   "metadata": {},
   "source": [
    "## Run a Simple Flu Transmission Model"
   ]
  },
  {
   "cell_type": "code",
   "execution_count": null,
   "id": "88df0a8e-c66f-4bb4-a6a8-58b0b591820c",
   "metadata": {
    "tags": []
   },
   "outputs": [],
   "source": [
    "simple_transmission_config = ModelConfig(\n",
    "        synth_pop=SynthPop(\"US_2010.v5\", [\"Lassen_County_CA\"]),\n",
    "        start_date=\"2022-01-01\",\n",
    "        end_date=\"2022-12-30\"\n",
    "    )\n",
    "\n",
    "job = Job(\n",
    "    program=\"model/simple_transmission.fred\",\n",
    "    config=[simple_transmission_config],\n",
    "    key=\"simple-transmission\",\n",
    "    fred_version=\"12.0.0\",\n",
    "    results_dir=\"/home/epx/cl-results\"\n",
    ")"
   ]
  },
  {
   "cell_type": "code",
   "execution_count": null,
   "id": "9f9bd031-2973-49cc-a766-8cfb07623496",
   "metadata": {
    "tags": []
   },
   "outputs": [],
   "source": [
    "job.execute()\n",
    "\n",
    "# the following loop idles while we wait for the simulation job to finish\n",
    "start = time.time()\n",
    "timeout   = 900 # timeout in seconds\n",
    "idle_time = 20   # time to wait (in seconds) before checking status again\n",
    "while str(job.status) != 'DONE':\n",
    "    if time.time() > start + timeout:\n",
    "        msg = f\"Job did not finish within {timeout / 60} minutes.\"\n",
    "        raise RuntimeError(msg)\n",
    "    if str(job.status) == 'ERROR':\n",
    "        break\n",
    "    time.sleep(idle_time)\n",
    "\n",
    "str(job.status)"
   ]
  },
  {
   "cell_type": "markdown",
   "id": "8a5c7a53-3618-462e-aef6-c4e6d938c30c",
   "metadata": {},
   "source": [
    "## Load the Transmission Data as a Networkx DiGraph"
   ]
  },
  {
   "cell_type": "code",
   "execution_count": null,
   "id": "0e442152-f860-4b6e-93af-0c7f2a4f5ada",
   "metadata": {
    "tags": []
   },
   "outputs": [],
   "source": [
    "transmissions = job.results.csv_output(\"exposures.csv\").iloc[10:]\n",
    "G = nx.from_pandas_edgelist(transmissions, \"source\", \"target\", create_using=nx.DiGraph())"
   ]
  },
  {
   "cell_type": "markdown",
   "id": "f705f1de-0021-4a79-a346-a4348c37556a",
   "metadata": {
    "tags": []
   },
   "source": [
    "## Explore the Network\n",
    "In the cells below, use the [NetworkX](https://networkx.org/documentation/stable/index.html) tools to explore the transmission network from the simulation. \n",
    "\n",
    "How does it compare to the explicit contact network(s) from other FluVacc model implementations?"
   ]
  },
  {
   "cell_type": "code",
   "execution_count": null,
   "id": "5f912a44-979c-47c1-aa19-550bd8bea05f",
   "metadata": {
    "tags": []
   },
   "outputs": [],
   "source": [
    "### TODO: Network analysis..."
   ]
  },
  {
   "cell_type": "markdown",
   "id": "e5ecb8ea-e4c9-4996-a84d-ce75abb844e8",
   "metadata": {},
   "source": [
    "# Deleting the Job"
   ]
  },
  {
   "cell_type": "code",
   "execution_count": null,
   "id": "3b688cc8-496f-4f11-8f8e-428c195ab9ff",
   "metadata": {
    "tags": []
   },
   "outputs": [],
   "source": [
    "job.delete(interactive=False)"
   ]
  }
 ],
 "metadata": {
  "kernelspec": {
   "display_name": "Python 3 (ipykernel)",
   "language": "python",
   "name": "python3"
  },
  "language_info": {
   "codemirror_mode": {
    "name": "ipython",
    "version": 3
   },
   "file_extension": ".py",
   "mimetype": "text/x-python",
   "name": "python",
   "nbconvert_exporter": "python",
   "pygments_lexer": "ipython3",
   "version": "3.10.10"
  }
 },
 "nbformat": 4,
 "nbformat_minor": 5
}
