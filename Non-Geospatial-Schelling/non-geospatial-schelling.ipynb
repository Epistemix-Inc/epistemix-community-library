{
 "cells": [
  {
   "cell_type": "code",
   "execution_count": 6,
   "id": "2e5d37e8-82d4-4a3b-8f88-5efc64d25666",
   "metadata": {
    "tags": []
   },
   "outputs": [
    {
     "name": "stdout",
     "output_type": "stream",
     "text": [
      "env: PLATFORM_API_URL=https://studio.dev.epistemix.cloud/v1\n"
     ]
    }
   ],
   "source": [
    "%env PLATFORM_API_URL=https://studio.dev.epistemix.cloud/v1"
   ]
  },
  {
   "cell_type": "markdown",
   "id": "dcc8e08b-cbc0-46e9-ac45-ee2061bbc84f",
   "metadata": {},
   "source": [
    "### To get started with this notebook: \n",
    "\n",
    "#### Select `Run All Cells` from the `Run` drop-down in the top left menu bar."
   ]
  },
  {
   "cell_type": "code",
   "execution_count": 3,
   "id": "4925fbab-fc09-404b-b0f5-ddbdbe90e9e6",
   "metadata": {
    "tags": []
   },
   "outputs": [],
   "source": [
    "from epx import Job, ModelConfig, SynthPop\n",
    "\n",
    "import animate as animate\n",
    "from IPython.display import HTML\n",
    "import networkx as nx\n",
    "from read_graph import get_fred_network\n",
    "from tempfile import NamedTemporaryFile, TemporaryDirectory\n",
    "import shutil\n",
    "import time\n",
    "from statistics import mean, StatisticsError"
   ]
  },
  {
   "cell_type": "markdown",
   "id": "1b0b04d6-b768-4050-8230-f35b744b7376",
   "metadata": {
    "tags": []
   },
   "source": [
    "# Classic Schelling Model on a Grid\n",
    "\n",
    "Thomas Schelling's classic agent-based model of residential segregation demonstrates that, under certain circumstances, individual preferences for having a relatively modest fraction of your neighbors share a common characteristic (in his model, race; in our implementation, red or blue color) are sufficient to generate communities that exhibit a surprising degree of segregation along the lines of that characterstic.\n",
    "\n",
    "One of those circumstances in that original model is that the agents live on a grid of households, where each household has 8 neighboring households, some fraction of which are unoccupied. Then, agents evaluate whether they are happy with their current household location by determining whether the fraction of their neighbors that share the same value for the key characteristic exceeds a given threshold. If an agent determines that they are unhappy with their current household location, then they will move to a random unoccupied house.\n",
    "\n",
    "However, we can think of a grid as being just one special case of a network topology and ask: How (if at all) do the dynamics of the Schelling model change if we change the network topology?\n",
    "\n",
    "This is more than just an academic question --- there are many spaces, e.g., online spaces, where agents might choose to seek out \"neighbors\" who are \"similar\" to them in some way, but where their choice of neighbors is less limited by the geography of the physical environment. And, in these settings, as in the (stylized) physical setting of the original models, the dynamics of Schelling-type models can tell us something about how communities might emerge in those environments. For example, if we consider the network as representing a conduit for information, in addition to representing a \"neighbor\" relationship, e.g., on a social media platform, then the tendency of agents to \"segregate\" (or not \"segregate\") in that environment may help uncover insights about phenomena like political polarization or extremification (think \"echo chambers\" or \"filter bubbles\").\n",
    "\n",
    "One advantage of the structured environment of the grid, however, is that it is easy to see whether segregation emerges in a given simulation. It is very visually apparent! To explore the dynamics of the Schelling model on more general networks, which in general do not have a convenient standard visual representation like a grid, we will need to use new tools. For each simulation:\n",
    "1. We compute the average fraction of red neighbors across all agents of each color. For blue agents, this is the fraction of their neighbors who are different from them. For red agents, it is the fraction of their neighbors who are similar to them.\n",
    "2. We create an animation of the network on each day of the simulation, where an agent's position in the horizontal direction indicates their fraction of red neighbors. Thus, blue (resp. red) agents will move to the left (right) as their fraction of similar neighbors increases. An agent's position in the vertical direction is arbitrary. (I recommend clicking through these animations frame-by-frame using the single-arrow-followed-by-vertical-bar buttons.)\n",
    "\n",
    "First, let's look at these outputs for the standard Schelling model on a grid:"
   ]
  },
  {
   "cell_type": "code",
   "execution_count": 7,
   "id": "f23a26a1-2ed3-4748-8587-d1a2e5cf4111",
   "metadata": {
    "tags": []
   },
   "outputs": [],
   "source": [
    "# Set up attributes and agents for grid-based Schelling\n",
    "num_blue = 90\n",
    "num_red = 90\n",
    "extra = 20\n",
    "\n",
    "attributes = {\n",
    "    str(1000000000 + offset): int(offset >= num_blue) for offset in range(num_blue+num_red)\n",
    "}\n",
    "\n",
    "lines = ['ID,my_color\\n'] + \\\n",
    "        [f'{agent_id},{color}\\n' for agent_id, color in attributes.items()] + \\\n",
    "        [f'{1000000000 + offset},{-1}\\n' for offset in range(num_red+num_blue,num_red+num_blue+extra)]\n",
    "\n",
    "with open('_agents.txt', 'w') as agents_file:\n",
    "    agents_file.writelines(lines)"
   ]
  },
  {
   "cell_type": "code",
   "execution_count": 8,
   "id": "fa07e4c8-4dc1-4f06-8fbe-fee5b4849be6",
   "metadata": {
    "tags": []
   },
   "outputs": [
    {
     "name": "stdout",
     "output_type": "stream",
     "text": [
      "NOT STARTED at 0.0010666847229003906\n",
      "NOT STARTED at 3.004657030105591\n",
      "NOT STARTED at 6.0082314014434814\n",
      "NOT STARTED at 9.010176658630371\n",
      "NOT STARTED at 12.01314640045166\n",
      "NOT STARTED at 15.016699314117432\n",
      "NOT STARTED at 18.020878076553345\n",
      "NOT STARTED at 21.022966623306274\n",
      "NOT STARTED at 24.025484085083008\n"
     ]
    },
    {
     "data": {
      "text/plain": [
       "'DONE'"
      ]
     },
     "execution_count": 8,
     "metadata": {},
     "output_type": "execute_result"
    }
   ],
   "source": [
    "# Define first FRED job\n",
    "    # Note that a location -- any location -- must be provided for this job to \n",
    "    # process.\n",
    "grid_schelling_config = ModelConfig(synth_pop=SynthPop(\"US_2010.v5\", ['Loving_County_TX']),\n",
    "    start_date = \"2023-01-01\",\n",
    "    end_date = \"2023-01-10\")\n",
    "\n",
    "results_dir = \"/home/epx/cl-results\"\n",
    "\n",
    "# Configure FRED job\n",
    "grid_schelling_job = Job(\n",
    "    \"model/schelling_grid.fred\",\n",
    "    config=[grid_schelling_config],\n",
    "    key=\"schelling_grid_job2\",\n",
    "    results_dir=results_dir,\n",
    "    size=\"hot\",\n",
    "    # Select FRED version compatible with selected model\n",
    "    fred_version=\"10.1.1\"\n",
    ")\n",
    "\n",
    "\n",
    "#Execute job\n",
    "grid_schelling_job.execute()\n",
    "\n",
    "# the following loop idles while we wait for the simulation job to finish\n",
    "start = time.time()\n",
    "timeout   = 3000 # timeout in seconds\n",
    "idle_time = 3   # time to wait (in seconds) before checking status again\n",
    "while str(grid_schelling_job.status) != 'DONE':\n",
    "    print(f\"{grid_schelling_job.status} at {time.time()-start}\")\n",
    "    if time.time() > start + timeout:\n",
    "        msg = f\"Job did not finish within {timeout / 60} minutes.\"\n",
    "        raise RuntimeError(msg)\n",
    "    time.sleep(idle_time)\n",
    "\n",
    "str(grid_schelling_job.status)\n"
   ]
  },
  {
   "cell_type": "code",
   "execution_count": 10,
   "id": "46325210-96d7-4538-b727-aa26e544beaa",
   "metadata": {
    "tags": []
   },
   "outputs": [
    {
     "name": "stdout",
     "output_type": "stream",
     "text": [
      "Help on JobResults in module epx.job.results object:\n",
      "\n",
      "class JobResults(builtins.object)\n",
      " |  JobResults(run_results_with_ids: Iterable[tuple[int, epx.run.results.RunResults]])\n",
      " |  \n",
      " |  Methods defined here:\n",
      " |  \n",
      " |  __init__(self, run_results_with_ids: Iterable[tuple[int, epx.run.results.RunResults]])\n",
      " |      Results for all runs in a job.\n",
      " |      \n",
      " |      Parameters\n",
      " |      ----------\n",
      " |      run_results_with_ids : Iterable[RunResultsWithId]\n",
      " |          Iterable of ``RunResults`` objects that have been associated with\n",
      " |          run ids. These ids are used to associate results with their\n",
      " |          originating runs.\n",
      " |      \n",
      " |      Notes\n",
      " |      -----\n",
      " |      Calling code is responsible for checking that all ``RunResults`` are\n",
      " |      available, and none are ``None``.\n",
      " |  \n",
      " |  csv_output(self, filename: str) -> pandas.core.frame.DataFrame\n",
      " |      Return data output by FRED's ``print_csv`` action.\n",
      " |      \n",
      " |      Parameters\n",
      " |      ----------\n",
      " |      filename : str\n",
      " |          Name of output file as specified in the calls to ``print_csv`` in\n",
      " |          the FRED model code.\n",
      " |      \n",
      " |      Returns\n",
      " |      -------\n",
      " |      pd.DataFrame\n",
      " |          DataFrame containing data written to ``filename``. Columns are\n",
      " |          ``run_id`` (identifying the specific run that the output\n",
      " |          corresponds to), plus all columns specified in the call to\n",
      " |          ``open_csv`` in the model code.\n",
      " |  \n",
      " |  dates(self) -> pandas.core.frame.DataFrame\n",
      " |      Return a mapping from simulation days to calendar dates.\n",
      " |      \n",
      " |      Returns\n",
      " |      -------\n",
      " |      pd.DataFrame\n",
      " |          DataFrame with columns:\n",
      " |              * ``run_id``\n",
      " |              * ``sim_day``\n",
      " |              * ``sim_date``\n",
      " |  \n",
      " |  epi_weeks(self) -> pandas.core.frame.DataFrame\n",
      " |      Return a mapping from simulation days to epidemiological weeks.\n",
      " |      \n",
      " |      An epidemiological week, commonly referred to as an epi week or a CDC\n",
      " |      week, is a standardized method of counting weeks to allow for the\n",
      " |      comparison of data year after year.\n",
      " |      \n",
      " |      By definition, the first epi week of the year ends on the first Saturday\n",
      " |      of January that falls at least four days into the month. Each epi week\n",
      " |      begins on a Sunday and ends on a Saturday.\n",
      " |      \n",
      " |      Returns\n",
      " |      -------\n",
      " |      pd.DataFrame\n",
      " |          DataFrame with columns:\n",
      " |              * ``run_id``\n",
      " |              * ``sim_day``\n",
      " |              * ``epi_week`` with string values in ``YYYY.MM`` format.\n",
      " |  \n",
      " |  file_output(self, filename: str) -> pandas.core.frame.DataFrame\n",
      " |      Return data output by FRED's ``print_file`` action.\n",
      " |      \n",
      " |      Parameters\n",
      " |      ----------\n",
      " |      filename : str\n",
      " |          Name of output file as specified in the calls to ``print_file`` in\n",
      " |          the FRED model code.\n",
      " |      \n",
      " |      Returns\n",
      " |      -------\n",
      " |      pd.DataFrame\n",
      " |          DataFrame with columns:\n",
      " |              * ``run_id``, identifying the specific run that the output\n",
      " |                corresponds to.\n",
      " |              * ``file_output``, a string for entry output by calls to\n",
      " |                ``print_file`` within the model code.\n",
      " |  \n",
      " |  list_table_var(self, varname: str, wide=False) -> pandas.core.frame.DataFrame\n",
      " |      Return a time series of the value of a shared list_table variable.\n",
      " |      \n",
      " |      Parameters\n",
      " |      ----------\n",
      " |      varname : str\n",
      " |          Name of the shared list_table variable.\n",
      " |      wide : bool, optional\n",
      " |          Return data in 'wide' format where a column is created for each\n",
      " |          list element. Defaults to ``False``.\n",
      " |      \n",
      " |      Returns\n",
      " |      -------\n",
      " |      pd.DataFrame\n",
      " |          DataFrame with columns:\n",
      " |              * ``run_id``\n",
      " |              * ``sim_day``\n",
      " |              * ``key``\n",
      " |              * ``list_index``\n",
      " |              * ``value``\n",
      " |          if ``wide=False``. Otherwise:\n",
      " |              * ``run_id``\n",
      " |              * ``sim_day``\n",
      " |              * ``key``\n",
      " |              * ``item_0``\n",
      " |              * ``item_1``\n",
      " |              * ...\n",
      " |  \n",
      " |  list_var(self, varname: str, wide=False) -> pandas.core.frame.DataFrame\n",
      " |      Return a time series of the value of a shared list variable.\n",
      " |      \n",
      " |      Parameters\n",
      " |      ----------\n",
      " |      varname : str\n",
      " |          Name of the shared list variable.\n",
      " |      wide : bool, optional\n",
      " |          Return data in 'wide' format where a column is created for each\n",
      " |          list element. Defaults to ``False``.\n",
      " |      \n",
      " |      Returns\n",
      " |      -------\n",
      " |      pd.DataFrame\n",
      " |          DataFrame with columns:\n",
      " |              * ``run_id``\n",
      " |              * ``sim_day``\n",
      " |              * ``list_index``\n",
      " |              * ``value``\n",
      " |          if ``wide=False``. Otherwise:\n",
      " |              * ``run_id``\n",
      " |              * ``sim_day``\n",
      " |              * ``item_0``\n",
      " |              * ``item_1``\n",
      " |              * ...\n",
      " |  \n",
      " |  numeric_var(self, varname: str) -> pandas.core.frame.DataFrame\n",
      " |      Return a time series of the value of a shared numeric variable.\n",
      " |      \n",
      " |      Parameters\n",
      " |      ----------\n",
      " |      varname : str\n",
      " |          Name of the shared numeric variable.\n",
      " |      \n",
      " |      Returns\n",
      " |      -------\n",
      " |      pd.DataFrame\n",
      " |          DataFrame with columns:\n",
      " |              * ``run_id``\n",
      " |              * ``sim_day``\n",
      " |              * ``value``\n",
      " |  \n",
      " |  pop_size(self) -> pandas.core.frame.DataFrame\n",
      " |      Return a time series of population size during the run.\n",
      " |      \n",
      " |      Returns\n",
      " |      -------\n",
      " |      pd.DataFrame\n",
      " |          DataFrame with columns:\n",
      " |              * ``run_id``\n",
      " |              * ``sim_day``\n",
      " |              * ``pop_size``.\n",
      " |  \n",
      " |  print_output(self) -> pandas.core.frame.DataFrame\n",
      " |      Return a series of messages output by FRED's ``print()`` action.\n",
      " |      \n",
      " |      Returns\n",
      " |      -------\n",
      " |      pd.DataFrame\n",
      " |          DataFrame with columns:\n",
      " |              * ``run_id``\n",
      " |              * ``print_output``\n",
      " |  \n",
      " |  state(self, condition: str, state: str, count_type: Literal['count', 'new', 'cumulative']) -> pandas.core.frame.DataFrame\n",
      " |      Return a time series of agent occupancy of a given FRED state.\n",
      " |      \n",
      " |      Parameters\n",
      " |      ----------\n",
      " |      condition : str\n",
      " |          Name of the FRED model condition containing the target state.\n",
      " |      state : str\n",
      " |          Name of the target state.\n",
      " |      count_type : CountType\n",
      " |          Type of count to report. Options are:\n",
      " |              * `count`, the number of agents occupying the state at the end\n",
      " |                of each simulated day.\n",
      " |              * `new`, the number of agents entering the state at any time\n",
      " |                during each simulated day.\n",
      " |              * `cumulative`, the cumulative number of times any agent has\n",
      " |                entered the state since the beginning of the simulation,\n",
      " |                reported at the end of each simulated day.\n",
      " |      \n",
      " |      Returns\n",
      " |      -------\n",
      " |      pd.DataFrame\n",
      " |          DataFrame with columns:\n",
      " |              * ``run_id``\n",
      " |              * ``sim_day``\n",
      " |              * The name of the requested count type, i.e. one of ``count``,\n",
      " |                ``new``, or ``cumulative``.\n",
      " |  \n",
      " |  table_var(self, varname: str) -> pandas.core.frame.DataFrame\n",
      " |      Return a time series of the value of a shared table variable.\n",
      " |      \n",
      " |      Parameters\n",
      " |      ----------\n",
      " |      varname : str\n",
      " |          Name of the shared table variable.\n",
      " |      \n",
      " |      Returns\n",
      " |      -------\n",
      " |      pd.DataFrame\n",
      " |              * ``run_id``\n",
      " |              * ``sim_day``\n",
      " |              * ``key``\n",
      " |              * ``value``\n",
      " |  \n",
      " |  ----------------------------------------------------------------------\n",
      " |  Data descriptors defined here:\n",
      " |  \n",
      " |  __dict__\n",
      " |      dictionary for instance variables (if defined)\n",
      " |  \n",
      " |  __weakref__\n",
      " |      list of weak references to the object (if defined)\n",
      "\n"
     ]
    }
   ],
   "source": [
    "help(grid_schelling_job.results)"
   ]
  },
  {
   "cell_type": "code",
   "execution_count": 11,
   "id": "f360dbd9-9698-4e12-adb8-daf97d298878",
   "metadata": {
    "tags": []
   },
   "outputs": [
    {
     "ename": "FileNotFoundError",
     "evalue": "File '/home/epx/cl-results/schelling_grid_job2/0/RUN54158/CSV/Friendship-0.vna' not found.",
     "output_type": "error",
     "traceback": [
      "\u001b[0;31m---------------------------------------------------------------------------\u001b[0m",
      "\u001b[0;31mFileNotFoundError\u001b[0m                         Traceback (most recent call last)",
      "Cell \u001b[0;32mIn[11], line 1\u001b[0m\n\u001b[0;32m----> 1\u001b[0m \u001b[43mgrid_schelling_job\u001b[49m\u001b[38;5;241;43m.\u001b[39;49m\u001b[43mresults\u001b[49m\u001b[38;5;241;43m.\u001b[39;49m\u001b[43mfile_output\u001b[49m\u001b[43m(\u001b[49m\u001b[38;5;124;43m'\u001b[39;49m\u001b[38;5;124;43mFriendship-0.vna\u001b[39;49m\u001b[38;5;124;43m'\u001b[39;49m\u001b[43m)\u001b[49m\n",
      "File \u001b[0;32m/opt/conda/lib/python3.10/site-packages/epx/job/results.py:207\u001b[0m, in \u001b[0;36mJobResults.file_output\u001b[0;34m(self, filename)\u001b[0m\n\u001b[1;32m    189\u001b[0m \u001b[38;5;28;01mdef\u001b[39;00m \u001b[38;5;21mfile_output\u001b[39m(\u001b[38;5;28mself\u001b[39m, filename: \u001b[38;5;28mstr\u001b[39m) \u001b[38;5;241m-\u001b[39m\u001b[38;5;241m>\u001b[39m pd\u001b[38;5;241m.\u001b[39mDataFrame:\n\u001b[1;32m    190\u001b[0m \u001b[38;5;250m    \u001b[39m\u001b[38;5;124;03m\"\"\"Return data output by FRED's ``print_file`` action.\u001b[39;00m\n\u001b[1;32m    191\u001b[0m \n\u001b[1;32m    192\u001b[0m \u001b[38;5;124;03m    Parameters\u001b[39;00m\n\u001b[0;32m   (...)\u001b[0m\n\u001b[1;32m    205\u001b[0m \u001b[38;5;124;03m              ``print_file`` within the model code.\u001b[39;00m\n\u001b[1;32m    206\u001b[0m \u001b[38;5;124;03m    \"\"\"\u001b[39;00m\n\u001b[0;32m--> 207\u001b[0m     \u001b[38;5;28;01mreturn\u001b[39;00m \u001b[38;5;28;43mself\u001b[39;49m\u001b[38;5;241;43m.\u001b[39;49m\u001b[43m_combine_results_across_runs\u001b[49m\u001b[43m(\u001b[49m\n\u001b[1;32m    208\u001b[0m \u001b[43m        \u001b[49m\u001b[43m(\u001b[49m\n\u001b[1;32m    209\u001b[0m \u001b[43m            \u001b[49m\u001b[43m(\u001b[49m\n\u001b[1;32m    210\u001b[0m \u001b[43m                \u001b[49m\u001b[43mrun_result_with_id\u001b[49m\u001b[43m[\u001b[49m\u001b[38;5;241;43m0\u001b[39;49m\u001b[43m]\u001b[49m\u001b[43m,\u001b[49m\n\u001b[1;32m    211\u001b[0m \u001b[43m                \u001b[49m\u001b[43mrun_result_with_id\u001b[49m\u001b[43m[\u001b[49m\u001b[38;5;241;43m1\u001b[39;49m\u001b[43m]\u001b[49m\u001b[38;5;241;43m.\u001b[39;49m\u001b[43mfile_output\u001b[49m\u001b[43m(\u001b[49m\u001b[43mfilename\u001b[49m\u001b[43m)\u001b[49m\u001b[38;5;241;43m.\u001b[39;49m\u001b[43mto_frame\u001b[49m\u001b[43m(\u001b[49m\u001b[43m)\u001b[49m\u001b[43m,\u001b[49m\n\u001b[1;32m    212\u001b[0m \u001b[43m            \u001b[49m\u001b[43m)\u001b[49m\n\u001b[1;32m    213\u001b[0m \u001b[43m            \u001b[49m\u001b[38;5;28;43;01mfor\u001b[39;49;00m\u001b[43m \u001b[49m\u001b[43mrun_result_with_id\u001b[49m\u001b[43m \u001b[49m\u001b[38;5;129;43;01min\u001b[39;49;00m\u001b[43m \u001b[49m\u001b[38;5;28;43mself\u001b[39;49m\u001b[38;5;241;43m.\u001b[39;49m\u001b[43m_run_results_with_ids\u001b[49m\n\u001b[1;32m    214\u001b[0m \u001b[43m        \u001b[49m\u001b[43m)\u001b[49m\n\u001b[1;32m    215\u001b[0m \u001b[43m    \u001b[49m\u001b[43m)\u001b[49m\n",
      "File \u001b[0;32m/opt/conda/lib/python3.10/site-packages/epx/job/results.py:353\u001b[0m, in \u001b[0;36mJobResults._combine_results_across_runs\u001b[0;34m(results_dfs_with_ids)\u001b[0m\n\u001b[1;32m    349\u001b[0m     cols\u001b[38;5;241m.\u001b[39minsert(\u001b[38;5;241m0\u001b[39m, \u001b[38;5;124m\"\u001b[39m\u001b[38;5;124mrun_id\u001b[39m\u001b[38;5;124m\"\u001b[39m)\n\u001b[1;32m    350\u001b[0m     \u001b[38;5;28;01mreturn\u001b[39;00m df\u001b[38;5;241m.\u001b[39massign(run_id\u001b[38;5;241m=\u001b[39mrun_id)\u001b[38;5;241m.\u001b[39mloc[:, cols]\n\u001b[1;32m    352\u001b[0m \u001b[38;5;28;01mreturn\u001b[39;00m pd\u001b[38;5;241m.\u001b[39mconcat(\n\u001b[0;32m--> 353\u001b[0m     [proc_result_df(run_id, df) \u001b[38;5;28;01mfor\u001b[39;00m run_id, df \u001b[38;5;129;01min\u001b[39;00m results_dfs_with_ids]\n\u001b[1;32m    354\u001b[0m )\u001b[38;5;241m.\u001b[39mreset_index(drop\u001b[38;5;241m=\u001b[39m\u001b[38;5;28;01mTrue\u001b[39;00m)\n",
      "File \u001b[0;32m/opt/conda/lib/python3.10/site-packages/epx/job/results.py:353\u001b[0m, in \u001b[0;36m<listcomp>\u001b[0;34m(.0)\u001b[0m\n\u001b[1;32m    349\u001b[0m     cols\u001b[38;5;241m.\u001b[39minsert(\u001b[38;5;241m0\u001b[39m, \u001b[38;5;124m\"\u001b[39m\u001b[38;5;124mrun_id\u001b[39m\u001b[38;5;124m\"\u001b[39m)\n\u001b[1;32m    350\u001b[0m     \u001b[38;5;28;01mreturn\u001b[39;00m df\u001b[38;5;241m.\u001b[39massign(run_id\u001b[38;5;241m=\u001b[39mrun_id)\u001b[38;5;241m.\u001b[39mloc[:, cols]\n\u001b[1;32m    352\u001b[0m \u001b[38;5;28;01mreturn\u001b[39;00m pd\u001b[38;5;241m.\u001b[39mconcat(\n\u001b[0;32m--> 353\u001b[0m     [proc_result_df(run_id, df) \u001b[38;5;28;01mfor\u001b[39;00m run_id, df \u001b[38;5;129;01min\u001b[39;00m results_dfs_with_ids]\n\u001b[1;32m    354\u001b[0m )\u001b[38;5;241m.\u001b[39mreset_index(drop\u001b[38;5;241m=\u001b[39m\u001b[38;5;28;01mTrue\u001b[39;00m)\n",
      "File \u001b[0;32m/opt/conda/lib/python3.10/site-packages/epx/job/results.py:211\u001b[0m, in \u001b[0;36m<genexpr>\u001b[0;34m(.0)\u001b[0m\n\u001b[1;32m    189\u001b[0m \u001b[38;5;28;01mdef\u001b[39;00m \u001b[38;5;21mfile_output\u001b[39m(\u001b[38;5;28mself\u001b[39m, filename: \u001b[38;5;28mstr\u001b[39m) \u001b[38;5;241m-\u001b[39m\u001b[38;5;241m>\u001b[39m pd\u001b[38;5;241m.\u001b[39mDataFrame:\n\u001b[1;32m    190\u001b[0m \u001b[38;5;250m    \u001b[39m\u001b[38;5;124;03m\"\"\"Return data output by FRED's ``print_file`` action.\u001b[39;00m\n\u001b[1;32m    191\u001b[0m \n\u001b[1;32m    192\u001b[0m \u001b[38;5;124;03m    Parameters\u001b[39;00m\n\u001b[0;32m   (...)\u001b[0m\n\u001b[1;32m    205\u001b[0m \u001b[38;5;124;03m              ``print_file`` within the model code.\u001b[39;00m\n\u001b[1;32m    206\u001b[0m \u001b[38;5;124;03m    \"\"\"\u001b[39;00m\n\u001b[1;32m    207\u001b[0m     \u001b[38;5;28;01mreturn\u001b[39;00m \u001b[38;5;28mself\u001b[39m\u001b[38;5;241m.\u001b[39m_combine_results_across_runs(\n\u001b[1;32m    208\u001b[0m         (\n\u001b[1;32m    209\u001b[0m             (\n\u001b[1;32m    210\u001b[0m                 run_result_with_id[\u001b[38;5;241m0\u001b[39m],\n\u001b[0;32m--> 211\u001b[0m                 \u001b[43mrun_result_with_id\u001b[49m\u001b[43m[\u001b[49m\u001b[38;5;241;43m1\u001b[39;49m\u001b[43m]\u001b[49m\u001b[38;5;241;43m.\u001b[39;49m\u001b[43mfile_output\u001b[49m\u001b[43m(\u001b[49m\u001b[43mfilename\u001b[49m\u001b[43m)\u001b[49m\u001b[38;5;241m.\u001b[39mto_frame(),\n\u001b[1;32m    212\u001b[0m             )\n\u001b[1;32m    213\u001b[0m             \u001b[38;5;28;01mfor\u001b[39;00m run_result_with_id \u001b[38;5;129;01min\u001b[39;00m \u001b[38;5;28mself\u001b[39m\u001b[38;5;241m.\u001b[39m_run_results_with_ids\n\u001b[1;32m    214\u001b[0m         )\n\u001b[1;32m    215\u001b[0m     )\n",
      "File \u001b[0;32m/opt/conda/lib/python3.10/site-packages/epx/run/results.py:161\u001b[0m, in \u001b[0;36mRunResults.file_output\u001b[0;34m(self, filename)\u001b[0m\n\u001b[1;32m    145\u001b[0m \u001b[38;5;28;01mdef\u001b[39;00m \u001b[38;5;21mfile_output\u001b[39m(\u001b[38;5;28mself\u001b[39m, filename: \u001b[38;5;28mstr\u001b[39m) \u001b[38;5;241m-\u001b[39m\u001b[38;5;241m>\u001b[39m pd\u001b[38;5;241m.\u001b[39mSeries:\n\u001b[1;32m    146\u001b[0m \u001b[38;5;250m    \u001b[39m\u001b[38;5;124;03m\"\"\"Return data output by FRED's `print_file` action.\u001b[39;00m\n\u001b[1;32m    147\u001b[0m \n\u001b[1;32m    148\u001b[0m \u001b[38;5;124;03m    Parameters\u001b[39;00m\n\u001b[0;32m   (...)\u001b[0m\n\u001b[1;32m    159\u001b[0m \u001b[38;5;124;03m        the model code.\u001b[39;00m\n\u001b[1;32m    160\u001b[0m \u001b[38;5;124;03m    \"\"\"\u001b[39;00m\n\u001b[0;32m--> 161\u001b[0m     \u001b[38;5;28;01mwith\u001b[39;00m \u001b[38;5;28mopen\u001b[39m(\u001b[38;5;28;43mself\u001b[39;49m\u001b[38;5;241;43m.\u001b[39;49m\u001b[43m_base_file_finder\u001b[49m\u001b[38;5;241;43m.\u001b[39;49m\u001b[43mtext_output\u001b[49m\u001b[43m(\u001b[49m\u001b[43mfilename\u001b[49m\u001b[43m)\u001b[49m, \u001b[38;5;124m\"\u001b[39m\u001b[38;5;124mr\u001b[39m\u001b[38;5;124m\"\u001b[39m) \u001b[38;5;28;01mas\u001b[39;00m f:\n\u001b[1;32m    162\u001b[0m         \u001b[38;5;28;01mreturn\u001b[39;00m pd\u001b[38;5;241m.\u001b[39mSeries([x\u001b[38;5;241m.\u001b[39mstrip() \u001b[38;5;28;01mfor\u001b[39;00m x \u001b[38;5;129;01min\u001b[39;00m f\u001b[38;5;241m.\u001b[39mreadlines()])\u001b[38;5;241m.\u001b[39mrename(\u001b[38;5;124m\"\u001b[39m\u001b[38;5;124mfile_output\u001b[39m\u001b[38;5;124m\"\u001b[39m)\n",
      "File \u001b[0;32m/opt/conda/lib/python3.10/site-packages/epx/run/fs.py:189\u001b[0m, in \u001b[0;36mFileFinderF10.text_output\u001b[0;34m(self, filename)\u001b[0m\n\u001b[1;32m    187\u001b[0m \u001b[38;5;28;01mdef\u001b[39;00m \u001b[38;5;21mtext_output\u001b[39m(\u001b[38;5;28mself\u001b[39m, filename: \u001b[38;5;28mstr\u001b[39m) \u001b[38;5;241m-\u001b[39m\u001b[38;5;241m>\u001b[39m Path:\n\u001b[1;32m    188\u001b[0m     p \u001b[38;5;241m=\u001b[39m \u001b[38;5;28mself\u001b[39m\u001b[38;5;241m.\u001b[39mrun_output_dir \u001b[38;5;241m/\u001b[39m \u001b[38;5;124mf\u001b[39m\u001b[38;5;124m\"\u001b[39m\u001b[38;5;124mCSV/\u001b[39m\u001b[38;5;132;01m{\u001b[39;00mfilename\u001b[38;5;132;01m}\u001b[39;00m\u001b[38;5;124m\"\u001b[39m\n\u001b[0;32m--> 189\u001b[0m     \u001b[38;5;28;43mself\u001b[39;49m\u001b[38;5;241;43m.\u001b[39;49m\u001b[43m_validate_file_exists\u001b[49m\u001b[43m(\u001b[49m\u001b[43mp\u001b[49m\u001b[43m)\u001b[49m\n\u001b[1;32m    190\u001b[0m     \u001b[38;5;28;01mreturn\u001b[39;00m p\n",
      "File \u001b[0;32m/opt/conda/lib/python3.10/site-packages/epx/run/fs.py:46\u001b[0m, in \u001b[0;36mFileFinder._validate_file_exists\u001b[0;34m(p)\u001b[0m\n\u001b[1;32m     43\u001b[0m \u001b[38;5;129m@staticmethod\u001b[39m\n\u001b[1;32m     44\u001b[0m \u001b[38;5;28;01mdef\u001b[39;00m \u001b[38;5;21m_validate_file_exists\u001b[39m(p: Path) \u001b[38;5;241m-\u001b[39m\u001b[38;5;241m>\u001b[39m \u001b[38;5;28;01mNone\u001b[39;00m:\n\u001b[1;32m     45\u001b[0m     \u001b[38;5;28;01mif\u001b[39;00m \u001b[38;5;129;01mnot\u001b[39;00m p\u001b[38;5;241m.\u001b[39mis_file():\n\u001b[0;32m---> 46\u001b[0m         \u001b[38;5;28;01mraise\u001b[39;00m \u001b[38;5;167;01mFileNotFoundError\u001b[39;00m(\u001b[38;5;124mf\u001b[39m\u001b[38;5;124m\"\u001b[39m\u001b[38;5;124mFile \u001b[39m\u001b[38;5;124m'\u001b[39m\u001b[38;5;132;01m{\u001b[39;00mp\u001b[38;5;132;01m}\u001b[39;00m\u001b[38;5;124m'\u001b[39m\u001b[38;5;124m not found.\u001b[39m\u001b[38;5;124m\"\u001b[39m)\n",
      "\u001b[0;31mFileNotFoundError\u001b[0m: File '/home/epx/cl-results/schelling_grid_job2/0/RUN54158/CSV/Friendship-0.vna' not found."
     ]
    }
   ],
   "source": [
    "grid_schelling_job.results.file_output('Friendship-0.vna')"
   ]
  },
  {
   "cell_type": "code",
   "execution_count": null,
   "id": "9825b2e1-1bc2-49e5-8c7f-5333411aaf4e",
   "metadata": {
    "tags": []
   },
   "outputs": [],
   "source": [
    "networks = []\n",
    "\n",
    "for day in range(1, 11):\n",
    "    friendship = run.get_network(\"Friendship\", is_directed=False, sim_day=day)\n",
    "    frac_red_dict = {}\n",
    "    for node in friendship.nodes:\n",
    "        my_color = attributes[node]\n",
    "        try:\n",
    "            similarity = mean([int(my_color == attributes[neighbor]) for neighbor in nx.neighbors(friendship, node)])\n",
    "        except StatisticsError:\n",
    "            similarity = 1\n",
    "        frac_red_dict[node] = my_color*similarity + (1 - my_color)*(1-similarity)\n",
    "    nx.set_node_attributes(friendship, attributes, name=\"my_color\")\n",
    "    nx.set_node_attributes(friendship, frac_red_dict, name=\"frac_red\")\n",
    "    networks.append(friendship)\n",
    "    \n",
    "friendship_final = networks[-1]\n",
    "blue = [frac for ID, frac in nx.get_node_attributes(friendship_final, 'frac_red').items() if (int(ID) % 1000000000) <  num_blue ]\n",
    "red = [frac for ID, frac in nx.get_node_attributes(friendship_final, 'frac_red').items() if (int(ID) % 1000000000) >= num_blue ]\n",
    "\n",
    "print(f'At the end of the simulation:')\n",
    "print(f'    Average frac_red for blue agents: {round(mean(blue), 3)};')\n",
    "print(f'    Average frac_red for red agents:  {round(mean(red),  3)}.')\n",
    "print()\n",
    "\n",
    "animation = animate.network_visualization(networks)\n",
    "HTML(animation.to_jshtml())"
   ]
  },
  {
   "cell_type": "markdown",
   "id": "42e04fe9-e6c5-47cb-95ea-ad6645cc6982",
   "metadata": {},
   "source": [
    "# Schelling Model on a Random Network\n",
    "\n",
    "Now, let's adapt the model to the abstract network space. First, we will replace the grid with a randomly generated network. To keep the comparison similar, we specify that each agent should still have 8 possible neighbors. However, unlike in a grid, those neighbor spots need not be connected to each other according to any pattern. \n",
    "\n",
    "Second, we can adapt agent behavior to the new setting. When an agent is unhappy --- i.e., when their fraction of similar neighbors is below their desired threshold --- agents in a more abstract space may be more free to change their situation than they would be in a physical environment. So, rather than have agents \"move\" to an entirely new location, we can instead let agents that are unhappy disconnect an edge to a neighbor who does not share their color and re-connect that edge to a random agent in the network who has at least one of their possible neighbor spots open.\n",
    "\n",
    "Let's take a look at our outputs under these new conditions:"
   ]
  },
  {
   "cell_type": "code",
   "execution_count": null,
   "id": "37642cbd-6cfd-4112-a7cc-631945bf55a4",
   "metadata": {
    "jupyter": {
     "source_hidden": true
    },
    "tags": []
   },
   "outputs": [],
   "source": [
    "num_blue = 90\n",
    "num_red = 90\n",
    "extra = 20\n",
    "\n",
    "attributes = {\n",
    "    str(1000000000 + offset): int(offset >= num_blue) for offset in range(num_blue+num_red)\n",
    "}\n",
    "\n",
    "lines = ['ID,my_color\\n'] + \\\n",
    "        [f'{agent_id},{color}\\n' for agent_id, color in attributes.items()] + \\\n",
    "        [f'{1000000000 + offset},{-1}\\n' for offset in range(num_red+num_blue,num_red+num_blue+extra)]\n",
    "\n",
    "with NamedTemporaryFile(\"w\") as temp:\n",
    "    \n",
    "    # Write the temporary file\n",
    "    temp.writelines(lines)\n",
    "    \n",
    "    temp.seek(0) # return to beginning of tempfile\n",
    "    \n",
    "    shutil.move(temp.name, '_agents.txt') # rename the temporary file to a name that FRED will recognize\n",
    "    \n",
    "    job = fred_job(\"model/schelling_random_network.fred\")\n",
    "    \n",
    "    shutil.move('_agents.txt', temp.name) # restore the name of the temporary file to close properly"
   ]
  },
  {
   "cell_type": "code",
   "execution_count": null,
   "id": "c6ce944c-503c-4cdf-8a22-7cd0efbe7367",
   "metadata": {
    "jupyter": {
     "source_hidden": true
    },
    "tags": []
   },
   "outputs": [],
   "source": [
    "run = job.runs[1]\n",
    "\n",
    "networks = []\n",
    "\n",
    "for day in range(1, 11):\n",
    "    friendship = run.get_network(\"Friendship\", is_directed=False, sim_day=day)\n",
    "    frac_red_dict = {}\n",
    "    for node in friendship.nodes:\n",
    "        my_color = attributes[node]\n",
    "        try:\n",
    "            similarity = mean([int(my_color == attributes[neighbor]) for neighbor in nx.neighbors(friendship, node)])\n",
    "        except StatisticsError:\n",
    "            similarity = 1\n",
    "        frac_red_dict[node] = my_color*similarity + (1 - my_color)*(1-similarity)\n",
    "    nx.set_node_attributes(friendship, attributes, name=\"my_color\")\n",
    "    nx.set_node_attributes(friendship, frac_red_dict, name=\"frac_red\")\n",
    "    networks.append(friendship)\n",
    "    \n",
    "friendship_final = networks[-1]\n",
    "blue = [frac for ID, frac in nx.get_node_attributes(friendship_final, 'frac_red').items() if (int(ID) % 1000000000) <  num_blue ]\n",
    "red = [frac for ID, frac in nx.get_node_attributes(friendship_final, 'frac_red').items() if (int(ID) % 1000000000) >= num_blue ]\n",
    "\n",
    "print(f'At the end of the simulation:')\n",
    "print(f'    Average frac_red for blue agents: {round(mean(blue), 3)};')\n",
    "print(f'    Average frac_red for red agents:  {round(mean(red),  3)}.')\n",
    "print()\n",
    "\n",
    "animation = animate.network_visualization(networks)\n",
    "HTML(animation.to_jshtml())"
   ]
  },
  {
   "cell_type": "markdown",
   "id": "cf182c1f-24cd-4956-ba57-b2bd14fbe956",
   "metadata": {
    "tags": []
   },
   "source": [
    "The \"segregation\" that we observe under these new conditions is noticeably less extreme than in the standard model on a grid! (For example, in the original model the average fraction of similar neighbors among all agents at the end of the simulation is more than 5/6, whereas in the new model, it is closer to 4/6).\n",
    "\n",
    "Why is this the case? That is a great question, and I don't completely know the answer! But, let's test a few hypotheses about features of the grid model that are missing from the random network model that we just formulated and see how they affect the outcomes.  "
   ]
  },
  {
   "cell_type": "markdown",
   "id": "1fcac165-24e8-4a02-b3b0-9be185fbca73",
   "metadata": {},
   "source": [
    "## Alternative 1: Rewire All Links if Unhappy\n",
    "\n",
    "One big change that we made, which we discussed above, is the decision to have agents re-connect their edges one at a time when they are unhappy. In the grid model, when an unhappy agent moves to an empty grid location, they (generally speaking) will completely change their set of neighbors all at once. So, for our first change to the random network model, we can have unhappy agents delete all their edges and randomly re-connect them:"
   ]
  },
  {
   "cell_type": "code",
   "execution_count": null,
   "id": "b619a48c-1180-450b-8613-5edec6bcf7c6",
   "metadata": {
    "jupyter": {
     "source_hidden": true
    },
    "tags": []
   },
   "outputs": [],
   "source": [
    "num_blue = 90\n",
    "num_red = 90\n",
    "extra = 20\n",
    "\n",
    "attributes = {\n",
    "    str(1000000000 + offset): int(offset >= num_blue) for offset in range(num_blue+num_red)\n",
    "}\n",
    "\n",
    "lines = ['ID,my_color\\n'] + \\\n",
    "        [f'{agent_id},{color}\\n' for agent_id, color in attributes.items()] + \\\n",
    "        [f'{1000000000 + offset},{-1}\\n' for offset in range(num_red+num_blue,num_red+num_blue+extra)]\n",
    "\n",
    "with NamedTemporaryFile(\"w\") as temp:\n",
    "    \n",
    "    # Write the temporary file\n",
    "    temp.writelines(lines)\n",
    "    \n",
    "    temp.seek(0) # return to beginning of tempfile\n",
    "    \n",
    "    shutil.move(temp.name, '_agents.txt') # rename the temporary file to a name that FRED will recognize\n",
    "    \n",
    "    job = fred_job(\"model/schelling_random_network_2.fred\")\n",
    "    \n",
    "    shutil.move('_agents.txt', temp.name) # restore the name of the temporary file to close properly"
   ]
  },
  {
   "cell_type": "code",
   "execution_count": null,
   "id": "d6ee802f-6762-4084-8ae4-2ba39eee4f79",
   "metadata": {
    "jupyter": {
     "source_hidden": true
    },
    "tags": []
   },
   "outputs": [],
   "source": [
    "run = job.runs[1]\n",
    "\n",
    "networks = []\n",
    "\n",
    "for day in range(1, 11):\n",
    "    friendship = run.get_network(\"Friendship\", is_directed=False, sim_day=day)\n",
    "    frac_red_dict = {}\n",
    "    for node in friendship.nodes:\n",
    "        my_color = attributes[node]\n",
    "        try:\n",
    "            similarity = mean([int(my_color == attributes[neighbor]) for neighbor in nx.neighbors(friendship, node)])\n",
    "        except StatisticsError:\n",
    "            similarity = 1\n",
    "        frac_red_dict[node] = my_color*similarity + (1 - my_color)*(1-similarity)\n",
    "    nx.set_node_attributes(friendship, attributes, name=\"my_color\")\n",
    "    nx.set_node_attributes(friendship, frac_red_dict, name=\"frac_red\")\n",
    "    networks.append(friendship)\n",
    "    \n",
    "friendship_final = networks[-1]\n",
    "blue = [frac for ID, frac in nx.get_node_attributes(friendship_final, 'frac_red').items() if (int(ID) % 1000000000) <  num_blue ]\n",
    "red = [frac for ID, frac in nx.get_node_attributes(friendship_final, 'frac_red').items() if (int(ID) % 1000000000) >= num_blue ]\n",
    "\n",
    "print(f'At the end of the simulation:')\n",
    "print(f'    Average frac_red for blue agents: {round(mean(blue), 3)};')\n",
    "print(f'    Average frac_red for red agents:  {round(mean(red),  3)}.')\n",
    "print()\n",
    "\n",
    "animation = animate.network_visualization(networks)\n",
    "HTML(animation.to_jshtml())"
   ]
  },
  {
   "cell_type": "markdown",
   "id": "7f907baa-0fda-415e-91d3-3e7fa8802d1c",
   "metadata": {},
   "source": [
    "This appears to have a noticeable effect, but still does not get us all the way to the extreme behavior we observe with the original model. Let's try another change."
   ]
  },
  {
   "cell_type": "markdown",
   "id": "a37c9fc8-94ed-411b-82de-d866cf2d7f2e",
   "metadata": {},
   "source": [
    "## Alternative 2: Rewire All Links within a Neighborhood\n",
    "\n",
    "Another key feature of the grid that we highlighted previously is the structure that it imposes on neighborhoods. That is, when an agent moves to a new household location in the grid, they necessarily share neighbors with their new neighbors (e.g., their new neighbor to the north is the western neighbor of their neighbor to the northwest). We can incorporate a similar notion in the random network by having unhappy agents preferentially attach to clusters of new neighbors when they re-connect their edges. \n",
    "\n",
    "To be precise, when an agent is unhappy in this model, they delete all of their edges, then find a new \"central\" agent with an open neighbor spot. Then, to re-connect the rest of their deleted edges, they first look to connect with neighbors of the \"central\" agent. If they cannot re-connect all of their edges with neighbors of the \"central\" agent, then they look among neighbors and neighbors' neighbors (the \"two-hop\" neighborhood) of the central agent, and so on. Once they find a radius *r* such that the *r*-hop neighborhood of the central agent contains enough agents with empty neighbor spots, the agent re-connects their edges to agents in that neighborhood. Those agents are selected with probability proportional to their number of hops from the \"central\" agent."
   ]
  },
  {
   "cell_type": "code",
   "execution_count": null,
   "id": "956cf518-3535-43a8-8d2e-840a9e9eecb7",
   "metadata": {
    "jupyter": {
     "source_hidden": true
    },
    "tags": []
   },
   "outputs": [],
   "source": [
    "num_blue = 90\n",
    "num_red = 90\n",
    "extra = 20\n",
    "\n",
    "attributes = {\n",
    "    str(1000000000 + offset): int(offset >= num_blue) for offset in range(num_blue+num_red)\n",
    "}\n",
    "\n",
    "lines = ['ID,my_color\\n'] + \\\n",
    "        [f'{agent_id},{color}\\n' for agent_id, color in attributes.items()] + \\\n",
    "        [f'{1000000000 + offset},{-1}\\n' for offset in range(num_red+num_blue,num_red+num_blue+extra)]\n",
    "\n",
    "with NamedTemporaryFile(\"w\") as temp:\n",
    "    \n",
    "    # Write the temporary file\n",
    "    temp.writelines(lines)\n",
    "    \n",
    "    temp.seek(0) # return to beginning of tempfile\n",
    "    \n",
    "    shutil.move(temp.name, '_agents.txt') # rename the temporary file to a name that FRED will recognize\n",
    "    \n",
    "    job = fred_job(\"model/schelling_random_network_3.fred\")\n",
    "    \n",
    "    shutil.move('_agents.txt', temp.name) # restore the name of the temporary file to close properly"
   ]
  },
  {
   "cell_type": "code",
   "execution_count": null,
   "id": "3033e833-fb3d-44e9-8c8b-df3e2b9bdd85",
   "metadata": {
    "jupyter": {
     "source_hidden": true
    },
    "tags": []
   },
   "outputs": [],
   "source": [
    "run = job.runs[1]\n",
    "\n",
    "networks = []\n",
    "\n",
    "for day in range(1, 11):\n",
    "    friendship = run.get_network(\"Friendship\", is_directed=False, sim_day=day)\n",
    "    frac_red_dict = {}\n",
    "    for node in friendship.nodes:\n",
    "        my_color = attributes[node]\n",
    "        try:\n",
    "            similarity = mean([int(my_color == attributes[neighbor]) for neighbor in nx.neighbors(friendship, node)])\n",
    "        except StatisticsError:\n",
    "            similarity = 1\n",
    "        frac_red_dict[node] = my_color*similarity + (1 - my_color)*(1-similarity)\n",
    "    nx.set_node_attributes(friendship, attributes, name=\"my_color\")\n",
    "    nx.set_node_attributes(friendship, frac_red_dict, name=\"frac_red\")\n",
    "    networks.append(friendship)\n",
    "    \n",
    "friendship_final = networks[-1]\n",
    "blue = [frac for ID, frac in nx.get_node_attributes(friendship_final, 'frac_red').items() if (int(ID) % 1000000000) <  num_blue ]\n",
    "red = [frac for ID, frac in nx.get_node_attributes(friendship_final, 'frac_red').items() if (int(ID) % 1000000000) >= num_blue ]\n",
    "\n",
    "print(f'At the end of the simulation:')\n",
    "print(f'    Average frac_red for blue agents: {round(mean(blue), 3)};')\n",
    "print(f'    Average frac_red for red agents:  {round(mean(red),  3)}.')\n",
    "print()\n",
    "\n",
    "animation = animate.network_visualization(networks)\n",
    "HTML(animation.to_jshtml())"
   ]
  },
  {
   "cell_type": "markdown",
   "id": "9e1d61aa-826e-481d-b9b9-7d2059f394b3",
   "metadata": {},
   "source": [
    "We can see that the effect of this change is small compared to the first change we made (small enough that the difference may just be due to random chance). So, we are still not able to completely explain which features of the grid network topology are so conducive to facilitating the segregation pattern. But maybe you have a new hypothesis that we haven't tested yet? If so, you can try it out on the Epistemix platform!"
   ]
  }
 ],
 "metadata": {
  "kernelspec": {
   "display_name": "Python 3 (ipykernel)",
   "language": "python",
   "name": "python3"
  },
  "language_info": {
   "codemirror_mode": {
    "name": "ipython",
    "version": 3
   },
   "file_extension": ".py",
   "mimetype": "text/x-python",
   "name": "python",
   "nbconvert_exporter": "python",
   "pygments_lexer": "ipython3",
   "version": "3.10.10"
  }
 },
 "nbformat": 4,
 "nbformat_minor": 5
}
