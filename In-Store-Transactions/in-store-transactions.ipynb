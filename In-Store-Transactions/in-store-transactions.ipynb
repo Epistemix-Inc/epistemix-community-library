{
 "cells": [
  {
   "cell_type": "code",
   "execution_count": null,
   "id": "a30fc913-7983-49a6-96e0-df2e7254a105",
   "metadata": {
    "tags": []
   },
   "outputs": [],
   "source": [
    "import epxexec # Epistemix package for running FRED simulations within Python\n",
    "from epxexec import epxresults # Epistemix package for managing and accessing FRED simulation outputs\n",
    "from epxexec.fred_job import fred_job\n",
    "import pandas as pd\n",
    "\n",
    "import plotly.express as px\n",
    "import plotly.io as pio\n",
    "from epxexec.visual.utils import default_plotly_template\n",
    "pio.templates[\"epistemix\"] = default_plotly_template()\n",
    "pio.templates.default = \"epistemix\""
   ]
  },
  {
   "cell_type": "markdown",
   "id": "eb6eefbe-f5db-4c26-a5d1-9ba3c80ca9ec",
   "metadata": {},
   "source": [
    "# Transaction Model\n",
    "\n",
    "This FRED model has all agents 18 and older go shopping. The number of stores,  items available, and item prices are specified in `data/item_inventory_TRANSACTIONS.csv`. The job will print out receipts as agents shop at their chosen stores."
   ]
  },
  {
   "cell_type": "code",
   "execution_count": null,
   "id": "fbe5f7f9-407d-421e-8e22-b228e3af9422",
   "metadata": {
    "scrolled": true,
    "tags": []
   },
   "outputs": [],
   "source": [
    "transaction_job = fred_job(program=\"model/transactions.fred\")"
   ]
  },
  {
   "cell_type": "markdown",
   "id": "894e0168-449c-43cf-aea7-c88f4372f6ea",
   "metadata": {},
   "source": [
    "## Data outputs\n",
    "\n",
    "First, let's look at the CSV file that we generated: "
   ]
  },
  {
   "cell_type": "code",
   "execution_count": null,
   "id": "631e8c3e-036a-4ea3-8679-4ef210065cd1",
   "metadata": {
    "tags": []
   },
   "outputs": [],
   "source": [
    "transactions_df = transaction_job.runs[1].get_csv_output('transactions.csv')\n",
    "transactions_df"
   ]
  },
  {
   "cell_type": "markdown",
   "id": "522d3c4b-b328-4f79-a35b-986bc05af406",
   "metadata": {},
   "source": [
    "Let's use it to count how many people of each demographic group shopped at each store:"
   ]
  },
  {
   "cell_type": "code",
   "execution_count": null,
   "id": "7fa17c98-c080-456a-a5a6-6ab920d9d809",
   "metadata": {
    "tags": []
   },
   "outputs": [],
   "source": [
    "transactions_df[['id','race','store']].groupby(['race','store']).count()"
   ]
  },
  {
   "cell_type": "markdown",
   "id": "37c488e0-ab7a-47b0-b9dc-fce56320af11",
   "metadata": {},
   "source": [
    "We can visualize how much was spent at each of the three stores:"
   ]
  },
  {
   "cell_type": "code",
   "execution_count": null,
   "id": "b7b16299-f0e9-4800-969d-6c530c2efbad",
   "metadata": {
    "tags": []
   },
   "outputs": [],
   "source": [
    "fig = px.histogram(\n",
    "    transactions_df,\n",
    "    x='store',\n",
    "    y='total_spent',\n",
    "    title=\"Total spent at each store\"\n",
    ")\n",
    "fig.update_layout(\n",
    "    yaxis_title=\"Total spent ($)\",\n",
    "    xaxis_title=\"Store number\",\n",
    "    bargap=0.1,\n",
    "    title_font_size=30\n",
    ")\n",
    "fig.show()"
   ]
  },
  {
   "cell_type": "markdown",
   "id": "1e697589-6504-4b8d-b980-07bf889c78f0",
   "metadata": {},
   "source": [
    "And we can look at the shopping habits of each age group:"
   ]
  },
  {
   "cell_type": "code",
   "execution_count": null,
   "id": "4ca9014b-202c-49c3-92b4-e807d074bff7",
   "metadata": {
    "tags": []
   },
   "outputs": [],
   "source": [
    "fig = px.histogram(\n",
    "    transactions_df,\n",
    "    x='age',\n",
    "    y='total_spent',\n",
    "    color = 'store',\n",
    "    title=\"Total spent by age group\"\n",
    ")\n",
    "fig.update_layout(\n",
    "    yaxis_title=\"Total spent ($)\",\n",
    "    xaxis_title=\"Age\",\n",
    "    legend_title = \"Store No.\",\n",
    "    bargap=0.1,\n",
    "    title_font_size=30\n",
    ")\n",
    "fig.show()"
   ]
  }
 ],
 "metadata": {
  "kernelspec": {
   "display_name": "Python 3 (ipykernel)",
   "language": "python",
   "name": "python3"
  },
  "language_info": {
   "codemirror_mode": {
    "name": "ipython",
    "version": 3
   },
   "file_extension": ".py",
   "mimetype": "text/x-python",
   "name": "python",
   "nbconvert_exporter": "python",
   "pygments_lexer": "ipython3",
   "version": "3.10.10"
  }
 },
 "nbformat": 4,
 "nbformat_minor": 5
}
