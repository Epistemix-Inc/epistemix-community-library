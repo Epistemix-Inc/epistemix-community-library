{
 "cells": [
  {
   "cell_type": "code",
   "execution_count": 1,
   "id": "165e2204-50ac-412b-89c4-c137bbe43826",
   "metadata": {
    "tags": []
   },
   "outputs": [
    {
     "name": "stdout",
     "output_type": "stream",
     "text": [
      "env: PLATFORM_API_URL=https://studio.dev.epistemix.cloud/v1\n"
     ]
    }
   ],
   "source": [
    "%env PLATFORM_API_URL=https://studio.dev.epistemix.cloud/v1"
   ]
  },
  {
   "cell_type": "code",
   "execution_count": 2,
   "id": "9832b25b-6a88-486a-8413-d8b280119a73",
   "metadata": {
    "tags": []
   },
   "outputs": [],
   "source": [
    "from epx import Job, ModelConfig, SynthPop\n",
    "\n",
    "# For visualization\n",
    "import plotly.express as px\n",
    "import plotly.io as pio\n",
    "\n",
    "##### NEED TO FIND A REPLACEMENT FOR THIS TEMPLATE CALL ######\n",
    "from epxexec.visual.utils import default_plotly_template\n",
    "pio.templates[\"epistemix\"] = default_plotly_template()\n",
    "pio.templates.default = \"epistemix\"\n"
   ]
  },
  {
   "cell_type": "markdown",
   "id": "eb6eefbe-f5db-4c26-a5d1-9ba3c80ca9ec",
   "metadata": {},
   "source": [
    "# Transaction Model\n",
    "\n",
    "This FRED model has all agents 18 and older go shopping. The number of stores,  items available, and item prices are specified in `data/item_inventory_TRANSACTIONS.csv`. The job will print out receipts as agents shop at their chosen stores."
   ]
  },
  {
   "cell_type": "code",
   "execution_count": null,
   "id": "fbe5f7f9-407d-421e-8e22-b228e3af9422",
   "metadata": {
    "scrolled": true,
    "tags": []
   },
   "outputs": [
    {
     "name": "stdout",
     "output_type": "stream",
     "text": [
      "NOT STARTED after 0.0019378662109375\n",
      "NOT STARTED after 3.0060946941375732\n",
      "NOT STARTED after 6.0095765590667725\n",
      "NOT STARTED after 9.013474225997925\n",
      "NOT STARTED after 12.016266345977783\n",
      "NOT STARTED after 15.019960165023804\n",
      "NOT STARTED after 18.020597219467163\n",
      "NOT STARTED after 21.02210569381714\n",
      "NOT STARTED after 24.03022074699402\n",
      "NOT STARTED after 27.034742832183838\n",
      "NOT STARTED after 30.038137197494507\n",
      "NOT STARTED after 33.04178714752197\n",
      "NOT STARTED after 36.0459349155426\n",
      "NOT STARTED after 39.04955434799194\n",
      "NOT STARTED after 42.053614377975464\n",
      "NOT STARTED after 45.057403326034546\n",
      "NOT STARTED after 48.060951232910156\n",
      "NOT STARTED after 51.062084436416626\n",
      "NOT STARTED after 54.06310987472534\n",
      "NOT STARTED after 57.06666946411133\n",
      "NOT STARTED after 60.07113838195801\n",
      "NOT STARTED after 63.07235527038574\n",
      "NOT STARTED after 66.07615399360657\n",
      "NOT STARTED after 69.07972645759583\n",
      "NOT STARTED after 72.08326578140259\n",
      "NOT STARTED after 75.08679604530334\n",
      "NOT STARTED after 78.0903570652008\n",
      "NOT STARTED after 81.09406542778015\n",
      "NOT STARTED after 84.09889483451843\n",
      "NOT STARTED after 87.10437440872192\n",
      "NOT STARTED after 90.1066062450409\n",
      "NOT STARTED after 93.11074686050415\n",
      "NOT STARTED after 96.1144540309906\n",
      "NOT STARTED after 99.1180489063263\n",
      "NOT STARTED after 102.12161993980408\n",
      "NOT STARTED after 105.12522268295288\n",
      "NOT STARTED after 108.12761068344116\n",
      "NOT STARTED after 111.13140320777893\n",
      "NOT STARTED after 114.13429427146912\n",
      "NOT STARTED after 117.13812303543091\n",
      "NOT STARTED after 120.13900065422058\n",
      "NOT STARTED after 123.14219975471497\n",
      "NOT STARTED after 126.14583492279053\n",
      "NOT STARTED after 129.14858055114746\n",
      "NOT STARTED after 132.15014839172363\n",
      "NOT STARTED after 135.15376806259155\n",
      "NOT STARTED after 138.1573030948639\n",
      "NOT STARTED after 141.16105842590332\n",
      "NOT STARTED after 144.16465497016907\n",
      "NOT STARTED after 147.16792178153992\n",
      "NOT STARTED after 150.1701521873474\n",
      "NOT STARTED after 153.17409563064575\n"
     ]
    }
   ],
   "source": [
    "import time\n",
    "# Define model configuration\n",
    "transaction_config = ModelConfig(synth_pop=SynthPop(\"US_2010.v5\", [\"Loving_County_TX\"]),\n",
    "    start_date = \"2022-05-10\",\n",
    "    end_date = \"2022-05-11\")\n",
    "\n",
    "# Configure FRED job\n",
    "transaction_job = Job(\n",
    "    \"transactions.fred\",\n",
    "    config=[transaction_config],\n",
    "    key=\"transaction_job\",\n",
    "    fred_version=\"11.0.1\",\n",
    "    results_dir=\"results\"\n",
    ")\n",
    "\n",
    "\n",
    "# Execute job\n",
    "transaction_job.execute()\n",
    "\n",
    "# the following loop idles while we wait for the simulation job to finish\n",
    "start = time.time()\n",
    "timeout   = 3000 # timeout in seconds\n",
    "idle_time = 3   # time to wait (in seconds) before checking status again\n",
    "while str(transaction_job.status) != 'DONE':\n",
    "    print(f\"{transaction_job.status} after {time.time() - start}\")\n",
    "    if time.time() > start + timeout:\n",
    "        msg = f\"Job did not finish within {timeout / 60} minutes.\"\n",
    "        raise RuntimeError(msg)\n",
    "    time.sleep(idle_time)\n",
    "\n",
    "str(transaction_job.status)"
   ]
  },
  {
   "cell_type": "code",
   "execution_count": null,
   "id": "bea89137-66b5-4bce-91e2-29a603a10291",
   "metadata": {},
   "outputs": [],
   "source": []
  },
  {
   "cell_type": "markdown",
   "id": "894e0168-449c-43cf-aea7-c88f4372f6ea",
   "metadata": {},
   "source": [
    "## Data outputs\n",
    "\n",
    "First, let's look at the CSV file that we generated: "
   ]
  },
  {
   "cell_type": "code",
   "execution_count": null,
   "id": "631e8c3e-036a-4ea3-8679-4ef210065cd1",
   "metadata": {
    "tags": []
   },
   "outputs": [],
   "source": [
    "transactions_df = transaction_job.runs[1].get_csv_output('transactions.csv')\n",
    "transactions_df"
   ]
  },
  {
   "cell_type": "markdown",
   "id": "522d3c4b-b328-4f79-a35b-986bc05af406",
   "metadata": {},
   "source": [
    "Let's use it to count how many people of each demographic group shopped at each store:"
   ]
  },
  {
   "cell_type": "code",
   "execution_count": null,
   "id": "7fa17c98-c080-456a-a5a6-6ab920d9d809",
   "metadata": {
    "tags": []
   },
   "outputs": [],
   "source": [
    "transactions_df[['id','race','store']].groupby(['race','store']).count()"
   ]
  },
  {
   "cell_type": "markdown",
   "id": "37c488e0-ab7a-47b0-b9dc-fce56320af11",
   "metadata": {},
   "source": [
    "We can visualize how much was spent at each of the three stores:"
   ]
  },
  {
   "cell_type": "code",
   "execution_count": null,
   "id": "b7b16299-f0e9-4800-969d-6c530c2efbad",
   "metadata": {
    "tags": []
   },
   "outputs": [],
   "source": [
    "fig = px.histogram(\n",
    "    transactions_df,\n",
    "    x='store',\n",
    "    y='total_spent',\n",
    "    title=\"Total spent at each store\"\n",
    ")\n",
    "fig.update_layout(\n",
    "    yaxis_title=\"Total spent ($)\",\n",
    "    xaxis_title=\"Store number\",\n",
    "    bargap=0.1,\n",
    "    title_font_size=30\n",
    ")\n",
    "fig.show()"
   ]
  },
  {
   "cell_type": "markdown",
   "id": "1e697589-6504-4b8d-b980-07bf889c78f0",
   "metadata": {},
   "source": [
    "And we can look at the shopping habits of each age group:"
   ]
  },
  {
   "cell_type": "code",
   "execution_count": null,
   "id": "4ca9014b-202c-49c3-92b4-e807d074bff7",
   "metadata": {
    "tags": []
   },
   "outputs": [],
   "source": [
    "fig = px.histogram(\n",
    "    transactions_df,\n",
    "    x='age',\n",
    "    y='total_spent',\n",
    "    color = 'store',\n",
    "    title=\"Total spent by age group\"\n",
    ")\n",
    "fig.update_layout(\n",
    "    yaxis_title=\"Total spent ($)\",\n",
    "    xaxis_title=\"Age\",\n",
    "    legend_title = \"Store No.\",\n",
    "    bargap=0.1,\n",
    "    title_font_size=30\n",
    ")\n",
    "fig.show()"
   ]
  }
 ],
 "metadata": {
  "kernelspec": {
   "display_name": "Python 3 (ipykernel)",
   "language": "python",
   "name": "python3"
  },
  "language_info": {
   "codemirror_mode": {
    "name": "ipython",
    "version": 3
   },
   "file_extension": ".py",
   "mimetype": "text/x-python",
   "name": "python",
   "nbconvert_exporter": "python",
   "pygments_lexer": "ipython3",
   "version": "3.10.10"
  }
 },
 "nbformat": 4,
 "nbformat_minor": 5
}
