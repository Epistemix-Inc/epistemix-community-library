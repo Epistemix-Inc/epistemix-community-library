{
 "cells": [
  {
   "cell_type": "code",
   "execution_count": null,
   "id": "89004c31-39e9-4c4f-b3c9-0b7779a526dd",
   "metadata": {
    "tags": []
   },
   "outputs": [],
   "source": [
    "from epx import Job, ModelConfig, SynthPop\n",
    "\n",
    "import plotly.express as px\n",
    "import plotly.graph_objects as go\n",
    "\n",
    "import os\n",
    "import sys\n",
    "sys.path.append(os.getcwd() + '/..')\n",
    "\n",
    "import plot_mitigations\n",
    "import time"
   ]
  },
  {
   "cell_type": "markdown",
   "id": "efba61a7-a920-4d4f-bb91-d6fd8bbbecad",
   "metadata": {},
   "source": [
    "# Extending the Simple Flu Model"
   ]
  },
  {
   "cell_type": "markdown",
   "id": "94320546-954a-4367-9686-36684708597e",
   "metadata": {
    "tags": []
   },
   "source": [
    "## Flu with Behavior\n",
    "\n",
    "Take a look in the **`stayhome.fred`** file to see how this extension:\n",
    "1. Adds action rules to states in the `RESP_DISEASE`condition from the *simpleflu* model.\n",
    "2. Defines a new condition that governs the behavior of agents infected with influenza who are experiencing symptoms."
   ]
  },
  {
   "cell_type": "code",
   "execution_count": null,
   "id": "72d4cd45-ed11-486e-b978-fbd851b0a65c",
   "metadata": {
    "tags": []
   },
   "outputs": [],
   "source": [
    "flu_config = ModelConfig(\n",
    "    synth_pop=SynthPop(\"US_2010.v5\", [\"Kewaunee_County_WI\"]),\n",
    "    start_date=\"2023-01-01\",\n",
    "    end_date=\"2023-07-01\",\n",
    ")\n",
    "\n",
    "flu_behavior_baseline = Job(\n",
    "    \"model/main_flu-behavior.fred\",\n",
    "    config=[flu_config],\n",
    "    key=\"cl_flu_baseline_behavior\",\n",
    "    fred_version=\"11.0.1\",\n",
    "    results_dir=\"/home/epx/cl-results\"\n",
    ")\n",
    "\n",
    "flu_behavior_baseline.execute()\n",
    "\n",
    "# the following loop idles while we wait for the simulation job to finish\n",
    "start = time.time()\n",
    "timeout   = 1000 # timeout in seconds\n",
    "idle_time = 20   # time to wait (in seconds) before checking status again\n",
    "while str(flu_behavior_baseline.status) != 'DONE':\n",
    "    if time.time() > start + timeout:\n",
    "        msg = f\"Job did not finish within {timeout / 60} minutes.\"\n",
    "        raise RuntimeError(msg)\n",
    "    if str(flu_behavior_baseline.status) == 'ERROR':\n",
    "        break\n",
    "    time.sleep(idle_time)\n",
    "\n",
    "str(flu_behavior_baseline.status)"
   ]
  },
  {
   "cell_type": "markdown",
   "id": "ebd9f106-21b3-4d61-9466-1bd2a40cf2ee",
   "metadata": {},
   "source": [
    "### Exercises"
   ]
  },
  {
   "cell_type": "markdown",
   "id": "7821e2c5-83ae-43cb-86c1-7f7d9595902e",
   "metadata": {},
   "source": [
    "1. Show the effects of setting the stay home when sick behavior to 10, 30, or 70 per cent."
   ]
  },
  {
   "cell_type": "code",
   "execution_count": null,
   "id": "12c53e72-9b5b-49bf-80b4-8ceab16148ac",
   "metadata": {
    "tags": []
   },
   "outputs": [],
   "source": [
    "### Change the probability of staying home when sick to 10% and then run this cell\n",
    "flu_behavior_10 = Job(\n",
    "    \"model/main_flu-behavior.fred\",\n",
    "    config=[flu_config],\n",
    "    key=\"cl_flu_job_behavior_10\",\n",
    "    fred_version=\"11.0.1\",\n",
    "    results_dir=\"/home/epx/cl-results\"\n",
    ")\n",
    "\n",
    "flu_behavior_10.execute()\n",
    "\n",
    "# the following loop idles while we wait for the simulation job to finish\n",
    "start = time.time()\n",
    "timeout   = 1000 # timeout in seconds\n",
    "idle_time = 20   # time to wait (in seconds) before checking status again\n",
    "while str(flu_behavior_10.status) != 'DONE':\n",
    "    if time.time() > start + timeout:\n",
    "        msg = f\"Job did not finish within {timeout / 60} minutes.\"\n",
    "        raise RuntimeError(msg)\n",
    "    if str(flu_behavior_10.status) == 'ERROR':\n",
    "        break\n",
    "    time.sleep(idle_time)\n",
    "\n",
    "str(flu_behavior_10.status)"
   ]
  },
  {
   "cell_type": "code",
   "execution_count": null,
   "id": "ca197966-8d11-450b-bb86-a513c7078948",
   "metadata": {},
   "outputs": [],
   "source": [
    "### Change the probability of staying home when sick to 30% and then run this cell\n",
    "flu_behavior_30 = Job(\n",
    "    \"model/main_flu-behavior.fred\",\n",
    "    config=[flu_config],\n",
    "    key=\"cl_flu_job_behavior_30\",\n",
    "    fred_version=\"11.0.1\",\n",
    "    results_dir=\"/home/epx/cl-results\"\n",
    ")\n",
    "\n",
    "flu_behavior_30.execute()\n",
    "\n",
    "# the following loop idles while we wait for the simulation job to finish\n",
    "start = time.time()\n",
    "timeout   = 1000 # timeout in seconds\n",
    "idle_time = 20   # time to wait (in seconds) before checking status again\n",
    "while str(flu_behavior_30.status) != 'DONE':\n",
    "    if time.time() > start + timeout:\n",
    "        msg = f\"Job did not finish within {timeout / 60} minutes.\"\n",
    "        raise RuntimeError(msg)\n",
    "    if str(flu_behavior_30.status) == 'ERROR':\n",
    "        break\n",
    "    time.sleep(idle_time)\n",
    "\n",
    "str(flu_behavior_30.status)"
   ]
  },
  {
   "cell_type": "code",
   "execution_count": null,
   "id": "cd1b8171-24d7-491a-8577-def9061bb9de",
   "metadata": {},
   "outputs": [],
   "source": [
    "### Change the probability of staying home when sick to 70% and then run this cell\n",
    "flu_behavior_70 = Job(\n",
    "    \"model/main_flu-behavior.fred\",\n",
    "    config=[flu_config],\n",
    "    key=\"cl_flu_job_behavior_70\",\n",
    "    fred_version=\"11.0.1\",\n",
    "    results_dir=\"/home/epx/cl-results\"\n",
    ")\n",
    "\n",
    "flu_behavior_70.execute()\n",
    "\n",
    "# the following loop idles while we wait for the simulation job to finish\n",
    "start = time.time()\n",
    "timeout   = 1000 # timeout in seconds\n",
    "idle_time = 20   # time to wait (in seconds) before checking status again\n",
    "while str(flu_behavior_70.status) != 'DONE':\n",
    "    if time.time() > start + timeout:\n",
    "        msg = f\"Job did not finish within {timeout / 60} minutes.\"\n",
    "        raise RuntimeError(msg)\n",
    "    if str(flu_behavior_70.status) == 'ERROR':\n",
    "        break\n",
    "    time.sleep(idle_time)\n",
    "\n",
    "str(flu_behavior_70.status)"
   ]
  },
  {
   "cell_type": "code",
   "execution_count": null,
   "id": "a23705e7-61e9-4668-9969-309bab28ccf6",
   "metadata": {},
   "outputs": [],
   "source": [
    "### Run this cell to create a plot that compares the different scenarios\n",
    "\n",
    "fig = plot_mitigations.plot_scenario_ecdf(\n",
    "                    jobs = [\n",
    "                        flu_behavior_10,\n",
    "                        flu_behavior_30,\n",
    "                        flu_behavior_baseline,\n",
    "                        flu_behavior_70\n",
    "                    ],\n",
    "                    scenarios = [\n",
    "                        \"p = 10%\",\n",
    "                        \"p = 30%\",\n",
    "                        \"p = 50%\",\n",
    "                        \"p = 70%\"\n",
    "                    ],\n",
    "                    scenario_name = \"Changing Stay Home Probability (p)\"\n",
    "                )\n",
    "\n",
    "fig.show()"
   ]
  },
  {
   "cell_type": "markdown",
   "id": "a2a44c9f-b5d2-4a8f-be92-bac166234bfb",
   "metadata": {},
   "source": [
    "After completing this exercise, don't forget to reset the probability of staying home when sick to the default value of 50 per cent."
   ]
  },
  {
   "cell_type": "markdown",
   "id": "e0598fc0-fae1-414b-8799-0aecb0211236",
   "metadata": {},
   "source": [
    "2. Show the effect of agents continuing to attend School when sick. Note that in FRED, interactions at school are represented using two distinct _mixing groups_ that agents can either attend or skip: **School** and **Grade**."
   ]
  },
  {
   "cell_type": "code",
   "execution_count": null,
   "id": "ab31181e-9b92-4fcb-9b45-f029ad94e3d2",
   "metadata": {},
   "outputs": [],
   "source": [
    "### Change the behavioral rules for agents who will stay at home, \n",
    "### so that they will still attend school when sick and then run this cell\n",
    "flu_behavior_school = Job(\n",
    "    \"model/main_flu-behavior.fred\",\n",
    "    config=[flu_config],\n",
    "    key=\"cl_flu_job_behavior_school\",\n",
    "    fred_version=\"11.0.1\",\n",
    "    results_dir=\"/home/epx/cl-results\"\n",
    ")\n",
    "\n",
    "flu_behavior_school.execute()\n",
    "\n",
    "# the following loop idles while we wait for the simulation job to finish\n",
    "start = time.time()\n",
    "timeout   = 1000 # timeout in seconds\n",
    "idle_time = 20   # time to wait (in seconds) before checking status again\n",
    "while str(flu_behavior_school.status) != 'DONE':\n",
    "    if time.time() > start + timeout:\n",
    "        msg = f\"Job did not finish within {timeout / 60} minutes.\"\n",
    "        raise RuntimeError(msg)\n",
    "    if str(flu_behavior_school.status) == 'ERROR':\n",
    "        break\n",
    "    time.sleep(idle_time)\n",
    "\n",
    "str(flu_behavior_school.status)\n",
    "\n",
    "### HINT ###\n",
    "### Look at how agents are instructed to still interact with the other members of their Household when staying home"
   ]
  },
  {
   "cell_type": "code",
   "execution_count": null,
   "id": "ee47f8e7-9b5f-44a4-b2b7-310620655513",
   "metadata": {},
   "outputs": [],
   "source": [
    "### Run this cell to create a plot that compares the different scenarios\n",
    "\n",
    "fig = plot_mitigations.plot_scenario_ecdf(\n",
    "                    jobs = [\n",
    "                        flu_behavior_baseline,\n",
    "                        flu_behavior_school,\n",
    "                    ],\n",
    "                    scenarios = [\n",
    "                        \"Stay at Home\",\n",
    "                        \"Go to School\"\n",
    "                    ],\n",
    "                    scenario_name = \"Changing Stay Home Behavior when Sick\"\n",
    "                )\n",
    "\n",
    "fig.show()"
   ]
  },
  {
   "cell_type": "markdown",
   "id": "28ff1db1-9b28-4cf6-8161-185001016aaf",
   "metadata": {},
   "source": [
    "After completing this exercise, don't forget to reset the behavioral rules for sick agents."
   ]
  },
  {
   "cell_type": "markdown",
   "id": "3ba302a1-ff8b-4c13-8c1d-1cfe0a88e5f9",
   "metadata": {},
   "source": [
    "3. Show the effect of agents continuing to attend their Workplace when sick."
   ]
  },
  {
   "cell_type": "code",
   "execution_count": null,
   "id": "e89dd0fc-1f36-4b6d-be2c-f45108f80f47",
   "metadata": {},
   "outputs": [],
   "source": [
    "### Change the behavioral rules for agents who will stay at home, \n",
    "### so that they will still attend work when sick and then run this cell\n",
    "flu_behavior_work = Job(\n",
    "    \"model/main_flu-behavior.fred\",\n",
    "    config=[flu_config],\n",
    "    key=\"cl_flu_job_behavior_work\",\n",
    "    fred_version=\"11.0.1\",\n",
    "    results_dir=\"/home/epx/cl-results\"\n",
    ")\n",
    "\n",
    "flu_behavior_work.execute()\n",
    "\n",
    "# the following loop idles while we wait for the simulation job to finish\n",
    "start = time.time()\n",
    "timeout   = 1000 # timeout in seconds\n",
    "idle_time = 20   # time to wait (in seconds) before checking status again\n",
    "while str(flu_behavior_work.status) != 'DONE':\n",
    "    if time.time() > start + timeout:\n",
    "        msg = f\"Job did not finish within {timeout / 60} minutes.\"\n",
    "        raise RuntimeError(msg)\n",
    "    if str(flu_behavior_work.status) == 'ERROR':\n",
    "        break\n",
    "    time.sleep(idle_time)\n",
    "\n",
    "str(flu_behavior_work.status)"
   ]
  },
  {
   "cell_type": "code",
   "execution_count": null,
   "id": "d19fae94-8e79-4936-9601-6b7992b0e12c",
   "metadata": {},
   "outputs": [],
   "source": [
    "### Run this cell to create a plot that compares the different scenarios\n",
    "\n",
    "fig = plot_mitigations.plot_scenario_ecdf(\n",
    "                    jobs = [\n",
    "                        flu_behavior_baseline,\n",
    "                        flu_behavior_work,\n",
    "                    ],\n",
    "                    scenarios = [\n",
    "                        \"Stay at Home\",\n",
    "                        \"Go to Work\"\n",
    "                    ],\n",
    "                    scenario_name = \"Changing Stay Home Behavior when Sick\"\n",
    "                )\n",
    "\n",
    "fig.show()"
   ]
  },
  {
   "cell_type": "markdown",
   "id": "45e21e57-4044-4f47-b29b-29ad5580a8d1",
   "metadata": {},
   "source": [
    "After completing this exercise, don't forget to reset the behavioral rules for sick agents."
   ]
  },
  {
   "cell_type": "markdown",
   "id": "3eeeeba4-6178-4da2-9b24-442280726971",
   "metadata": {
    "tags": []
   },
   "source": [
    "## Flu with Behavior and Vaccination\n",
    "\n",
    "Take a look in the **`vaccine.fred`** file to see how this extension:\n",
    "1. Models vaccine adoption using the same transmission dynamics that are used to model disease transmission.\n",
    "2. Includes an external file (**`vaccine_parameters.fred`**) where values for the key parameters in the new `RESP_DISEASE_VACCINE` can be specified."
   ]
  },
  {
   "cell_type": "code",
   "execution_count": null,
   "id": "a2fdad23-1566-4c19-a98d-60688fcf853c",
   "metadata": {},
   "outputs": [],
   "source": [
    "flu_vacc_baseline = Job(\n",
    "    \"model/main_flu-behavior-vaccine.fred\",\n",
    "    config=[flu_config],\n",
    "    key=\"cl_flu_job_vacc_baseline\",\n",
    "    fred_version=\"11.0.1\",\n",
    "    results_dir=\"/home/epx/cl-results\"\n",
    ")\n",
    "\n",
    "flu_vacc_baseline.execute()\n",
    "\n",
    "# the following loop idles while we wait for the simulation job to finish\n",
    "start = time.time()\n",
    "timeout   = 1000 # timeout in seconds\n",
    "idle_time = 20   # time to wait (in seconds) before checking status again\n",
    "while str(flu_vacc_baseline.status) != 'DONE':\n",
    "    if time.time() > start + timeout:\n",
    "        msg = f\"Job did not finish within {timeout / 60} minutes.\"\n",
    "        raise RuntimeError(msg)\n",
    "    if str(flu_vacc_baseline.status) == 'ERROR':\n",
    "        break\n",
    "    time.sleep(idle_time)\n",
    "\n",
    "str(flu_vacc_baseline.status)"
   ]
  },
  {
   "cell_type": "markdown",
   "id": "b118c44f-b4b6-4835-9eba-9348b1c5fed0",
   "metadata": {},
   "source": [
    "### Exercises"
   ]
  },
  {
   "cell_type": "markdown",
   "id": "488f6757-2372-45f5-9b42-d51f067cb83e",
   "metadata": {},
   "source": [
    "1. Show the effects of setting the initial vaccination rate to 10, 20, or 40 per cent."
   ]
  },
  {
   "cell_type": "code",
   "execution_count": null,
   "id": "f8085cc6-3ea2-414a-b708-d5ad694abdd3",
   "metadata": {},
   "outputs": [],
   "source": [
    "### Change the initial vaccination rate to 10% and then run this cell\n",
    "flu_vacc_10 = Job(\n",
    "    \"model/main_flu-behavior-vaccine.fred\",\n",
    "    config=[flu_config],\n",
    "    key=\"cl_flu_job_vacc_10\",\n",
    "    fred_version=\"11.0.1\",\n",
    "    results_dir=\"/home/epx/cl-results\"\n",
    ")\n",
    "\n",
    "flu_vacc_10.execute()\n",
    "\n",
    "# the following loop idles while we wait for the simulation job to finish\n",
    "start = time.time()\n",
    "timeout   = 1000 # timeout in seconds\n",
    "idle_time = 20   # time to wait (in seconds) before checking status again\n",
    "while str(flu_vacc_10.status) != 'DONE':\n",
    "    if time.time() > start + timeout:\n",
    "        msg = f\"Job did not finish within {timeout / 60} minutes.\"\n",
    "        raise RuntimeError(msg)\n",
    "    if str(flu_vacc_10.status) == 'ERROR':\n",
    "        break\n",
    "    time.sleep(idle_time)\n",
    "\n",
    "str(flu_vacc_10.status)"
   ]
  },
  {
   "cell_type": "code",
   "execution_count": null,
   "id": "dba99ec4-1484-4719-af5b-6b9f75f6d42a",
   "metadata": {},
   "outputs": [],
   "source": [
    "### Change the initial vaccination rate to 20% and then run this cell\n",
    "flu_vacc_20 = Job(\n",
    "    \"model/main_flu-behavior-vaccine.fred\",\n",
    "    config=[flu_config],\n",
    "    key=\"cl_flu_job_vacc_20\",\n",
    "    fred_version=\"11.0.1\",\n",
    "    results_dir=\"/home/epx/cl-results\"\n",
    ")\n",
    "\n",
    "flu_vacc_20.execute()\n",
    "\n",
    "# the following loop idles while we wait for the simulation job to finish\n",
    "start = time.time()\n",
    "timeout   = 1000 # timeout in seconds\n",
    "idle_time = 20   # time to wait (in seconds) before checking status again\n",
    "while str(flu_vacc_20.status) != 'DONE':\n",
    "    if time.time() > start + timeout:\n",
    "        msg = f\"Job did not finish within {timeout / 60} minutes.\"\n",
    "        raise RuntimeError(msg)\n",
    "    if str(flu_vacc_20.status) == 'ERROR':\n",
    "        break\n",
    "    time.sleep(idle_time)\n",
    "\n",
    "str(flu_vacc_20.status)"
   ]
  },
  {
   "cell_type": "code",
   "execution_count": null,
   "id": "b0546a93-6d51-4003-9dfc-70ce9724e1f9",
   "metadata": {},
   "outputs": [],
   "source": [
    "### Change the initial vaccination rate to 40% and then run this cell\n",
    "flu_vacc_40 = Job(\n",
    "    \"model/main_flu-behavior-vaccine.fred\",\n",
    "    config=[flu_config],\n",
    "    key=\"cl_flu_job_vacc_40\",\n",
    "    fred_version=\"11.0.1\",\n",
    "    results_dir=\"/home/epx/cl-results\"\n",
    ")\n",
    "\n",
    "flu_vacc_40.execute()\n",
    "\n",
    "# the following loop idles while we wait for the simulation job to finish\n",
    "start = time.time()\n",
    "timeout   = 1000 # timeout in seconds\n",
    "idle_time = 20   # time to wait (in seconds) before checking status again\n",
    "while str(flu_vacc_40.status) != 'DONE':\n",
    "    if time.time() > start + timeout:\n",
    "        msg = f\"Job did not finish within {timeout / 60} minutes.\"\n",
    "        raise RuntimeError(msg)\n",
    "    if str(flu_vacc_40.status) == 'ERROR':\n",
    "        break\n",
    "    time.sleep(idle_time)\n",
    "\n",
    "str(flu_vacc_40.status)"
   ]
  },
  {
   "cell_type": "code",
   "execution_count": null,
   "id": "e12a8fef-f8b7-481e-93b2-1b20d45f77b1",
   "metadata": {},
   "outputs": [],
   "source": [
    "### Run this cell to create a plot that compares the different scenarios\n",
    "\n",
    "fig = plot_mitigations.plot_scenario_ecdf(\n",
    "                    jobs = [\n",
    "                        flu_vacc_10,\n",
    "                        flu_vacc_20,\n",
    "                        flu_vacc_baseline,\n",
    "                        flu_vacc_40,\n",
    "                    ],\n",
    "                    scenarios = [\n",
    "                        \"r = 10%\",\n",
    "                        \"r = 20%\",\n",
    "                        \"r = 30%\",\n",
    "                        \"r = 40%\"\n",
    "                    ],\n",
    "                    scenario_name = \"Changing Initial Vaccination Rate (r)\"\n",
    "                )\n",
    "\n",
    "fig.show()"
   ]
  },
  {
   "cell_type": "markdown",
   "id": "4c5c1d88-422b-4719-ba02-68304e4e897a",
   "metadata": {},
   "source": [
    "After completing this exercise, don't forget to reset the initial vaccination rate back to the default of 30 per cent."
   ]
  },
  {
   "cell_type": "markdown",
   "id": "14d6a647-570d-4a62-8d14-467df1826abc",
   "metadata": {},
   "source": [
    "2. Show the effects of changing the vaccine_delay to 30, 60, or 90 days."
   ]
  },
  {
   "cell_type": "code",
   "execution_count": null,
   "id": "4aa882ad-0b20-4998-98a0-34e2c3a9ba28",
   "metadata": {},
   "outputs": [],
   "source": [
    "### Change the vaccine_delay to 30 days and then run this cell\n",
    "flu_vacc_delay_30 = Job(\n",
    "    \"model/main_flu-behavior-vaccine.fred\",\n",
    "    config=[flu_config],\n",
    "    key=\"cl_flu_job_vacc_delay_30\",\n",
    "    fred_version=\"11.0.1\",\n",
    "    results_dir=\"/home/epx/cl-results\"\n",
    ")\n",
    "\n",
    "flu_vacc_delay_30.execute()\n",
    "\n",
    "# the following loop idles while we wait for the simulation job to finish\n",
    "start = time.time()\n",
    "timeout   = 1000 # timeout in seconds\n",
    "idle_time = 20   # time to wait (in seconds) before checking status again\n",
    "while str(flu_vacc_delay_30.status) != 'DONE':\n",
    "    if time.time() > start + timeout:\n",
    "        msg = f\"Job did not finish within {timeout / 60} minutes.\"\n",
    "        raise RuntimeError(msg)\n",
    "    if str(flu_vacc_delay_30.status) == 'ERROR':\n",
    "        break\n",
    "    time.sleep(idle_time)\n",
    "\n",
    "str(flu_vacc_delay_30.status)"
   ]
  },
  {
   "cell_type": "code",
   "execution_count": null,
   "id": "f3890327-70c7-4146-83cd-7113c58dba11",
   "metadata": {},
   "outputs": [],
   "source": [
    "### Change the vaccine_delay to 60 days and then run this cell\n",
    "flu_vacc_delay_60 = Job(\n",
    "    \"model/main_flu-behavior-vaccine.fred\",\n",
    "    config=[flu_config],\n",
    "    key=\"cl_flu_job_vacc_delay_60\",\n",
    "    fred_version=\"11.0.1\",\n",
    "    results_dir=\"/home/epx/cl-results\"\n",
    ")\n",
    "\n",
    "flu_vacc_delay_60.execute()\n",
    "\n",
    "# the following loop idles while we wait for the simulation job to finish\n",
    "start = time.time()\n",
    "timeout   = 1000 # timeout in seconds\n",
    "idle_time = 20   # time to wait (in seconds) before checking status again\n",
    "while str(flu_vacc_delay_60.status) != 'DONE':\n",
    "    if time.time() > start + timeout:\n",
    "        msg = f\"Job did not finish within {timeout / 60} minutes.\"\n",
    "        raise RuntimeError(msg)\n",
    "    if str(flu_vacc_delay_60.status) == 'ERROR':\n",
    "        break\n",
    "    time.sleep(idle_time)\n",
    "\n",
    "str(flu_vacc_delay_60.status)"
   ]
  },
  {
   "cell_type": "code",
   "execution_count": null,
   "id": "67847393-4ca6-40e0-ac6d-03c4c6f600ec",
   "metadata": {},
   "outputs": [],
   "source": [
    "### Change the vaccine_delay to 90 days and then run this cell\n",
    "flu_vacc_delay_90 = Job(\n",
    "    \"model/main_flu-behavior-vaccine.fred\",\n",
    "    config=[flu_config],\n",
    "    key=\"cl_flu_job_vacc_delay_90\",\n",
    "    fred_version=\"11.0.1\",\n",
    "    results_dir=\"/home/epx/cl-results\"\n",
    ")\n",
    "\n",
    "flu_vacc_delay_90.execute()\n",
    "\n",
    "# the following loop idles while we wait for the simulation job to finish\n",
    "start = time.time()\n",
    "timeout   = 1000 # timeout in seconds\n",
    "idle_time = 20   # time to wait (in seconds) before checking status again\n",
    "while str(flu_vacc_delay_90.status) != 'DONE':\n",
    "    if time.time() > start + timeout:\n",
    "        msg = f\"Job did not finish within {timeout / 60} minutes.\"\n",
    "        raise RuntimeError(msg)\n",
    "    if str(flu_vacc_delay_90.status) == 'ERROR':\n",
    "        break\n",
    "    time.sleep(idle_time)\n",
    "\n",
    "str(flu_vacc_delay_90.status)"
   ]
  },
  {
   "cell_type": "code",
   "execution_count": null,
   "id": "dc3d43f1-5ba6-4231-8c43-9df7f4a3a30e",
   "metadata": {},
   "outputs": [],
   "source": [
    "### Run this cell to create a plot that compares the different scenarios\n",
    "\n",
    "fig = plot_mitigations.plot_scenario_ecdf(\n",
    "                    jobs = [\n",
    "                        flu_vacc_baseline,\n",
    "                        flu_vacc_delay_30,\n",
    "                        flu_vacc_delay_60,\n",
    "                        flu_vacc_delay_90\n",
    "                    ],\n",
    "                    scenarios = [\n",
    "                        \"d = 0\",\n",
    "                        \"d = 30\",\n",
    "                        \"d = 60\",\n",
    "                        \"d = 90\"\n",
    "                    ],\n",
    "                    scenario_name = \"Changing Vaccine Delay (d)\"\n",
    "                )\n",
    "\n",
    "fig.show()"
   ]
  },
  {
   "cell_type": "markdown",
   "id": "8527d153-78ed-4236-a897-59dbd7e0c361",
   "metadata": {},
   "source": [
    "After completing this exercise, don't forget to reset the vaccine_delay to the default value of 0 days."
   ]
  },
  {
   "cell_type": "markdown",
   "id": "439a3e06-8dd6-4394-88b5-ee8f5ca27098",
   "metadata": {},
   "source": [
    "3. Show the effects of changing the vaccine effectiveness to 50 or 90 per cent."
   ]
  },
  {
   "cell_type": "code",
   "execution_count": null,
   "id": "7d98469f-66b1-408f-adc9-9064fad9a2a2",
   "metadata": {},
   "outputs": [],
   "source": [
    "### Change the vaccine effectiveness to 50% and then run this cell\n",
    "flu_vacc_effectiveness_50 = Job(\n",
    "    \"model/main_flu-behavior-vaccine.fred\",\n",
    "    config=[flu_config],\n",
    "    key=\"cl_flu_job_vacc_effectiveness_50\",\n",
    "    fred_version=\"11.0.1\",\n",
    "    results_dir=\"/home/epx/cl-results\"\n",
    ")\n",
    "\n",
    "flu_vacc_effectiveness_50.execute()\n",
    "\n",
    "# the following loop idles while we wait for the simulation job to finish\n",
    "start = time.time()\n",
    "timeout   = 1000 # timeout in seconds\n",
    "idle_time = 20   # time to wait (in seconds) before checking status again\n",
    "while str(flu_vacc_effectiveness_50.status) != 'DONE':\n",
    "    if time.time() > start + timeout:\n",
    "        msg = f\"Job did not finish within {timeout / 60} minutes.\"\n",
    "        raise RuntimeError(msg)\n",
    "    if str(flu_vacc_effectiveness_50.status) == 'ERROR':\n",
    "        break\n",
    "    time.sleep(idle_time)\n",
    "\n",
    "str(flu_vacc_effectiveness_50.status)"
   ]
  },
  {
   "cell_type": "code",
   "execution_count": null,
   "id": "b8021b2c-83ad-455c-b307-c2a61a0df76d",
   "metadata": {},
   "outputs": [],
   "source": [
    "### Change the vaccine effectiveness to 90% and then run this cell\n",
    "flu_vacc_effectiveness_90 = Job(\n",
    "    \"model/main_flu-behavior-vaccine.fred\",\n",
    "    config=[flu_config],\n",
    "    key=\"cl_flu_job_vacc_effectiveness_50\",\n",
    "    fred_version=\"11.0.1\",\n",
    "    results_dir=\"/home/epx/cl-results\"\n",
    ")\n",
    "\n",
    "flu_vacc_effectiveness_50.execute()\n",
    "\n",
    "# the following loop idles while we wait for the simulation job to finish\n",
    "start = time.time()\n",
    "timeout   = 1000 # timeout in seconds\n",
    "idle_time = 20   # time to wait (in seconds) before checking status again\n",
    "while str(flu_vacc_effectiveness_50.status) != 'DONE':\n",
    "    if time.time() > start + timeout:\n",
    "        msg = f\"Job did not finish within {timeout / 60} minutes.\"\n",
    "        raise RuntimeError(msg)\n",
    "    if str(flu_vacc_effectiveness_50.status) == 'ERROR':\n",
    "        break\n",
    "    time.sleep(idle_time)\n",
    "\n",
    "str(flu_vacc_effectiveness_50.status)"
   ]
  },
  {
   "cell_type": "code",
   "execution_count": null,
   "id": "31e1285b-f2fc-4906-a6d0-316ea97c5983",
   "metadata": {},
   "outputs": [],
   "source": [
    "### Run this cell to create a plot that compares the different scenarios\n",
    "\n",
    "fig = plot_mitigations.plot_scenario_ecdf(\n",
    "                    jobs = [\n",
    "                        flu_vacc_effectiveness_50,\n",
    "                        flu_vacc_baseline,\n",
    "                        flu_vacc_effectiveness_90\n",
    "                    ],\n",
    "                    scenarios = [\n",
    "                        \"e = 50%\",\n",
    "                        \"e = 80%\",\n",
    "                        \"e = 90%\"\n",
    "                    ],\n",
    "                    scenario_name = \"Changing Vaccine Effectiveness (e)\"\n",
    "                )\n",
    "\n",
    "fig.show()"
   ]
  },
  {
   "cell_type": "markdown",
   "id": "bc7c088a-c28f-4c13-80ac-b1f4f996164a",
   "metadata": {
    "tags": []
   },
   "source": [
    "After completing this exercise, don't forget to reset the vaccine effectiveness to the default value of 80 per cent."
   ]
  },
  {
   "cell_type": "code",
   "execution_count": null,
   "id": "9e31b5ca-661b-4d3c-b799-3cd03ed375f8",
   "metadata": {},
   "outputs": [],
   "source": [
    "# deleting our jobs now that we are done with them\n",
    "flu_behavior_baseline.delete(interactive=False)\n",
    "flu_behavior_10.delete(interactive=False)\n",
    "flu_behavior_30.delete(interactive=False)\n",
    "flu_behavior_70.delete(interactive=False)\n",
    "flu_behavior_school.delete(interactive=False)\n",
    "flu_behavior_work.delete(interactive=False)\n",
    "flu_vacc_baseline.delete(interactive=False)\n",
    "flu_vacc_10.delete(interactive=False)\n",
    "flu_vacc_20.delete(interactive=False)\n",
    "flu_vacc_40.delete(interactive=False)\n",
    "flu_vacc_delay_30.delete(interactive=False)\n",
    "flu_vacc_delay_60.delete(interactive=False)\n",
    "flu_vacc_delay_90.delete(interactive=False)\n",
    "flu_vacc_effectiveness_50.delete(interactive=False)\n",
    "flu_vacc_effectiveness_90.delete(interactive=False)"
   ]
  }
 ],
 "metadata": {
  "kernelspec": {
   "display_name": "Python 3 (ipykernel)",
   "language": "python",
   "name": "python3"
  },
  "language_info": {
   "codemirror_mode": {
    "name": "ipython",
    "version": 3
   },
   "file_extension": ".py",
   "mimetype": "text/x-python",
   "name": "python",
   "nbconvert_exporter": "python",
   "pygments_lexer": "ipython3",
   "version": "3.10.10"
  }
 },
 "nbformat": 4,
 "nbformat_minor": 5
}
