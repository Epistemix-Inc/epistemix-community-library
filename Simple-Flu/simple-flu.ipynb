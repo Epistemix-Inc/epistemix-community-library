{
 "cells": [
  {
   "cell_type": "markdown",
   "id": "469a5022-54f0-442f-9a05-f00b182e0471",
   "metadata": {},
   "source": [
    "### To run this model yourself: go to Run -> Run All Cells in the top left menu bar."
   ]
  },
  {
   "cell_type": "code",
   "execution_count": null,
   "id": "7d7391ce-1d56-4458-9ddc-64cab22fa32b",
   "metadata": {
    "tags": []
   },
   "outputs": [],
   "source": [
    "import time\n",
    "\n",
    "from epx import Job, ModelConfig, SynthPop\n",
    "\n",
    "import data_tools as dt"
   ]
  },
  {
   "cell_type": "markdown",
   "id": "3519f164-94ab-473c-8505-0c0697056acc",
   "metadata": {},
   "source": [
    "# Simulating a Respiratory Disease Outbreak\n",
    "\n",
    "### In this notebook, we will model the spread of an influenza through Kewaunee County, WI.\n",
    "\n",
    "Our influenza model uses an SEIR structure. If you'd like to learn more about disease transmission in FRED, check out Lesson 7 in the Quickstart Guide.\n",
    "\n",
    "For now, here's a brief overview of the model:\n",
    "- We begin with 10 agents randomly exposed to the disease. \n",
    "- Exposed agents become Infectious after an average of two days, and they can either be Symptomatic (66%) or Asymptomatic (33%). \n",
    "- Agents remain infectious for an average of 5 days, during which they can transmit the disease to other susceptible agents that they come into contact with. \n",
    "After the infectious period, they recover and are no longer susceptible to reinfection."
   ]
  },
  {
   "cell_type": "code",
   "execution_count": null,
   "id": "f8268ff7-3c74-46d7-9af6-55141a95f16d",
   "metadata": {
    "tags": []
   },
   "outputs": [],
   "source": [
    "flu_config = ModelConfig(\n",
    "    synth_pop=SynthPop(\"US_2010.v5\", [\"Kewaunee_County_WI\"]),\n",
    "    start_date=\"2023-01-01\",\n",
    "    end_date=\"2023-07-01\",\n",
    ")\n",
    "\n",
    "flu_job = Job(\n",
    "    \"model/main.fred\",\n",
    "    config=[flu_config],\n",
    "    key=\"cl_flu_job\",\n",
    "    fred_version=\"11.0.1\",\n",
    "    results_dir=\"/home/epx/cl-results\"\n",
    ")\n",
    "\n",
    "flu_job.execute()\n",
    "\n",
    "# the following loop idles while we wait for the simulation job to finish and periodically prints an update\n",
    "update_count = 0\n",
    "update_interval = 3\n",
    "start_time = time.time()\n",
    "timeout   = 300 # timeout in seconds\n",
    "idle_time = 20   # time to wait (in seconds) before checking status again\n",
    "while str(flu_job.status) != 'DONE':\n",
    "    if str(flu_job.status) == 'ERROR':\n",
    "        logs = flu_job.status.logs\n",
    "        log_msg = \"; \".join(logs.loc[logs.level == \"ERROR\"].message.tolist())\n",
    "        print(f\"Job failed with the following error:\\n '{log_msg}'\")\n",
    "        break\n",
    "    if time.time() > start_time + timeout:\n",
    "        msg = f\"Job did not finish within {timeout / 60} minutes.\"\n",
    "        raise RuntimeError(msg)\n",
    "    \n",
    "    if update_count >= update_interval:\n",
    "        update_count = 0\n",
    "        print(f\"Job is still processing after {time.time() - start_time:.0f} seconds\")\n",
    "        \n",
    "    update_count += 1\n",
    "    \n",
    "    time.sleep(idle_time)\n",
    "\n",
    "print(f\"Job completed in {time.time() - start_time:.0f} seconds\")\n",
    "\n",
    "str(flu_job.status)"
   ]
  },
  {
   "cell_type": "markdown",
   "id": "4bd8fe74-db18-47d2-88ef-1a273976079d",
   "metadata": {
    "tags": []
   },
   "source": [
    "## Exploring the Model Output"
   ]
  },
  {
   "cell_type": "code",
   "execution_count": null,
   "id": "ca2d0eaf-8665-48e2-aa26-9d05ed88c4fc",
   "metadata": {
    "tags": []
   },
   "outputs": [],
   "source": [
    "baseline_states = dt.get_states(flu_job)\n",
    "baseline_exposures = dt.get_explocs(flu_job)\n",
    "baseline_locations = dt.get_expmap_data(flu_job)"
   ]
  },
  {
   "cell_type": "code",
   "execution_count": null,
   "id": "9b9366ac-c898-4c22-8d09-f845a7628068",
   "metadata": {
    "tags": []
   },
   "outputs": [],
   "source": [
    "dt.plot_epicurves(baseline_states)"
   ]
  },
  {
   "cell_type": "markdown",
   "id": "aa6c2283-625b-406b-a7ee-82d08554aeec",
   "metadata": {},
   "source": [
    "Our influenza model tracks how many agents are newly exposed, infectious, or recovered each day. In the figure above, we can see that it takes about two weeks from the initial seeding of exposures at the beginning of the simulation for community spread to increase substantially, and that the disease has run its course after about 10 weeks."
   ]
  },
  {
   "cell_type": "markdown",
   "id": "8865acbb-8fa2-4d85-ba7c-96ccb410bce4",
   "metadata": {},
   "source": [
    "Below we plot an animation of infections colored by the type of location at which the exposure occurred (Household, Workplace, etc)  for the duration of the simulation."
   ]
  },
  {
   "cell_type": "code",
   "execution_count": null,
   "id": "388e1a3d-45e8-404f-af1b-b23b980621a4",
   "metadata": {
    "tags": []
   },
   "outputs": [],
   "source": [
    "dt.plot_animation_by_exposure_location(baseline_exposures)"
   ]
  },
  {
   "cell_type": "markdown",
   "id": "cb55013d-cb2b-4e6e-98cd-fb56945fea13",
   "metadata": {},
   "source": [
    "Here we show the same data as in the above animation, but summarized into an interactive map with the size of the circles representing households, workplaces, and schools scaled proportionally to the number of agent-to-agent transmission events that took place in those locations throughout the simulation. This helps us visually locate places that experienced unusually high numbers of infections."
   ]
  },
  {
   "cell_type": "code",
   "execution_count": null,
   "id": "e2ac4c3e-05eb-483e-aace-9cbfe5f287ab",
   "metadata": {
    "tags": []
   },
   "outputs": [],
   "source": [
    "dt.plot_static_exposure_locations(baseline_locations)"
   ]
  },
  {
   "cell_type": "markdown",
   "id": "56c3f198-905b-43ac-aee9-1da737281508",
   "metadata": {},
   "source": [
    "Our influenza model also records the demographic characterstics of the agents that were exposed to influenza, so we can segment our exposure data according to those demographic characteristics."
   ]
  },
  {
   "cell_type": "code",
   "execution_count": null,
   "id": "6ba043ed-ddfb-4af1-a727-143d41337208",
   "metadata": {
    "tags": []
   },
   "outputs": [],
   "source": [
    "dt.get_exposure_table_by_demog_group(baseline_exposures)"
   ]
  },
  {
   "cell_type": "markdown",
   "id": "e17feec8-8ecb-4763-abb6-af6e457c3a49",
   "metadata": {},
   "source": [
    "Here we show another animated map of the same simulation data, this time color-coded by the demographic attributes of the agents that were exposed."
   ]
  },
  {
   "cell_type": "code",
   "execution_count": null,
   "id": "04e87571-c052-41b3-8659-5795233d40e9",
   "metadata": {
    "tags": []
   },
   "outputs": [],
   "source": [
    "dt.plot_animation_by_demog_group(baseline_exposures)"
   ]
  },
  {
   "cell_type": "markdown",
   "id": "72ab80de-4204-4d77-94a0-fb273945c6d1",
   "metadata": {},
   "source": [
    "The corresponding time series of infections for the above animation is shown below."
   ]
  },
  {
   "cell_type": "code",
   "execution_count": null,
   "id": "5d3414e4-c25a-480b-ba05-4f974941850f",
   "metadata": {
    "tags": []
   },
   "outputs": [],
   "source": [
    "dt.plot_time_series_by_demog_group(baseline_exposures)"
   ]
  },
  {
   "cell_type": "code",
   "execution_count": null,
   "id": "1e5a9996-e0d5-4da0-8bde-7a43e1467f61",
   "metadata": {
    "tags": []
   },
   "outputs": [],
   "source": [
    "# deleting our job now that we are done with it\n",
    "flu_job.delete(interactive=False)"
   ]
  },
  {
   "cell_type": "markdown",
   "id": "af3fc86e-e188-49be-8ebe-d3b740211b49",
   "metadata": {},
   "source": [
    "FRED is a poweful tool not just for understanding disease spread in the aggregate but also for exploring the individual behaviors that are contributing factors. As part of our baseline model, agents recorded where they were exposed to the respiratory disease."
   ]
  },
  {
   "cell_type": "markdown",
   "id": "38b34bc2-0fa1-4b2b-8fbd-395162a6c4c8",
   "metadata": {},
   "source": [
    "# Exploring Different Outbreak Scenarios"
   ]
  },
  {
   "cell_type": "code",
   "execution_count": null,
   "id": "144be2b6-eaa5-4c75-a259-ea89ad951809",
   "metadata": {
    "tags": []
   },
   "outputs": [],
   "source": [
    "from epx import ModelConfigSweep\n",
    "from itertools import product"
   ]
  },
  {
   "cell_type": "markdown",
   "id": "df19a67b-a616-4c0d-8f65-d474316a52b0",
   "metadata": {},
   "source": [
    "We can use our baseline flu model as a jumping off point to explore different outbreak scenarios. That is, we can make different assumptions about the state of the world, people's behavior, etc., and see the effects of those assumptions on our outcomes of interest.\n",
    "\n",
    "In this case, let's look at three key variables that we suspect will play an important role in determining the size of an outbreak:\n",
    "1. The transmissibility of the strain of influenza causing the outbreak.\n",
    "2. The tendency for sick people to isolate themselves (stay home from work or school) while experiencing symptoms.\n",
    "3. The population's overall sentiment towards getting vaccinated against influenza.\n",
    "\n",
    "Considering two possibilities for each variable, we have eight total scenarios in which our influenza outbreak might play out very differently:\n",
    "| Transmissibility | Isolation | Vaccine Sentiment |\n",
    "|------------------|-----------|-------------------|\n",
    "| Low              | None      | Negative          |\n",
    "| Low              | None      | Positive          |\n",
    "| Low              | Some      | Negative          |\n",
    "| Low              | Some      | Positive          |\n",
    "| High             | None      | Negative          |\n",
    "| High             | None      | Positive          |\n",
    "| High             | Some      | Negative          |\n",
    "| High             | Some      | Positive          |\n",
    "\n",
    "Let's simulate each of these scenarios and compare the results."
   ]
  },
  {
   "cell_type": "code",
   "execution_count": null,
   "id": "6e4a538a-9613-4e62-bb62-689814b72085",
   "metadata": {},
   "outputs": [],
   "source": [
    "# varying key parameters to explore different scenarios\n",
    "sweep_params = {\n",
    "    \"transmissiblity_reduction\": [0.0, 0.80],\n",
    "    \"stay_home_prob\": [0.0, 0.50],\n",
    "    \"willing_to_consider_vaccine\": [0.25, 0.75]\n",
    "}\n",
    "\n",
    "flu_config_sweep = ModelConfigSweep(\n",
    "    synth_pop=[SynthPop(\"US_2010.v5\", [\"Kewaunee_County_WI\"])],\n",
    "    start_date=[\"2023-01-01\"],\n",
    "    end_date=[\"2023-07-01\"],\n",
    "    model_params=[dict(zip(sweep_params, values)) for values in product(*sweep_params.values())]\n",
    ")\n",
    "\n",
    "flu_sweep = Job(\n",
    "    \"model/main.fred\",\n",
    "    config=flu_config_sweep,\n",
    "    key=\"cl_flu_sweep\",\n",
    "    fred_version=\"11.0.1\",\n",
    "    results_dir=\"/home/epx/cl-results\"\n",
    ")\n",
    "\n",
    "flu_sweep.execute()\n",
    "\n",
    "# the following loop idles while we wait for the simulation job to finish and periodically prints an update\n",
    "update_count = 0\n",
    "update_interval = 3\n",
    "start_time = time.time()\n",
    "timeout   = 300 # timeout in seconds\n",
    "idle_time = 20   # time to wait (in seconds) before checking status again\n",
    "while str(flu_sweep.status) != 'DONE':\n",
    "    if str(flu_sweep.status) == 'ERROR':\n",
    "        logs = flu_sweep.status.logs\n",
    "        log_msg = \"; \".join(logs.loc[logs.level == \"ERROR\"].message.tolist())\n",
    "        print(f\"Job failed with the following error:\\n '{log_msg}'\")\n",
    "        break\n",
    "    if time.time() > start_time + timeout:\n",
    "        msg = f\"Job did not finish within {timeout / 60} minutes.\"\n",
    "        raise RuntimeError(msg)\n",
    "    \n",
    "    if update_count >= update_interval:\n",
    "        update_count = 0\n",
    "        print(f\"Job is still processing after {time.time() - start_time:.0f} seconds\")\n",
    "        \n",
    "    update_count += 1\n",
    "    \n",
    "    time.sleep(idle_time)\n",
    "\n",
    "print(f\"Job completed in {time.time() - start_time:.0f} seconds\")\n",
    "\n",
    "str(flu_sweep.status)"
   ]
  },
  {
   "cell_type": "code",
   "execution_count": null,
   "id": "954cd642-07e1-4d08-b439-6e06fd98cdb0",
   "metadata": {
    "tags": []
   },
   "outputs": [],
   "source": [
    "high_trans_runs = {\n",
    "    0: \"No Isolation,<br>Negative Vaccine Sentiment\",\n",
    "    1: \"No Isolation,<br>Positive Vaccine Sentiment\",\n",
    "    2: \"Some Isolation,<br>Negative Vaccine Sentiment\",\n",
    "    3: \"Some Isolation,<br>Positive Vaccine Sentiment\"\n",
    "}\n",
    "low_trans_runs = {\n",
    "    4: \"No Isolation,<br>Negative Vaccine Sentiment\",\n",
    "    5: \"No Isolation,<br>Positive Vaccine Sentiment\",\n",
    "    6: \"Some Isolation,<br>Negative Vaccine Sentiment\",\n",
    "    7: \"Some Isolation,<br>Positive Vaccine Sentiment\"\n",
    "}\n",
    "\n",
    "low_trans_scenarios, high_trans_scenarios = dt.get_scenario_explocs(flu_sweep, low_trans_runs, high_trans_runs)"
   ]
  },
  {
   "cell_type": "markdown",
   "id": "8beb75cf-7125-4df3-94d8-5c7f29994835",
   "metadata": {},
   "source": [
    "The following plot compares the size of the outbreak in the four scenarios where the influenza strain has low transmissibility. "
   ]
  },
  {
   "cell_type": "code",
   "execution_count": null,
   "id": "9935dc8b-2568-4266-9267-0a2184d3f6d3",
   "metadata": {
    "tags": []
   },
   "outputs": [],
   "source": [
    "dt.plot_epicurve_scenarios(low_trans_scenarios, trans=\"low\")"
   ]
  },
  {
   "cell_type": "markdown",
   "id": "54a02809-fc4c-4406-a9f4-a8dd45cd8130",
   "metadata": {},
   "source": [
    "Although there is random variation between each simulation job, the general tendency is that both isolation and positive vaccine sentiment tend to reduce (and delay) the peak of infections. The effect of having some isolation behavior in the population also tends to be more impactful than the effect of having positive vaccine sentiment, but no isolation behavior. Having both leads to the smallest outbreak among the scenarios.\n",
    "\n",
    "We can also make a similar plot for the scenarios where the influenza strain has high transmissibility. In those scenarios, the peak of infections tends to be slightly higher than in the analogous scenarios with a low-transmissibility strain, but this effect tends to be less pronounced than the variation in the size of that result from isolation behavior or positive vaccine sentiment being present in the population."
   ]
  },
  {
   "cell_type": "code",
   "execution_count": null,
   "id": "7e3bd2e1-96b4-4ae8-84f0-05b82c75c05d",
   "metadata": {
    "tags": []
   },
   "outputs": [],
   "source": [
    "dt.plot_epicurve_scenarios(high_trans_scenarios, trans=\"high\")"
   ]
  },
  {
   "cell_type": "code",
   "execution_count": null,
   "id": "95acced1-f880-4369-a563-e17e13c78d1f",
   "metadata": {
    "tags": []
   },
   "outputs": [],
   "source": [
    "# deleting our sweep now that we are done with it\n",
    "flu_sweep.delete(interactive=False)"
   ]
  },
  {
   "cell_type": "code",
   "execution_count": null,
   "id": "5fd6619a-5077-4eee-8175-da667dd9b722",
   "metadata": {},
   "outputs": [],
   "source": []
  }
 ],
 "metadata": {
  "kernelspec": {
   "display_name": "Python 3 (ipykernel)",
   "language": "python",
   "name": "python3"
  },
  "language_info": {
   "codemirror_mode": {
    "name": "ipython",
    "version": 3
   },
   "file_extension": ".py",
   "mimetype": "text/x-python",
   "name": "python",
   "nbconvert_exporter": "python",
   "pygments_lexer": "ipython3",
   "version": "3.10.10"
  }
 },
 "nbformat": 4,
 "nbformat_minor": 5
}
