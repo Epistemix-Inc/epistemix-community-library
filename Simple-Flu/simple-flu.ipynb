{
 "cells": [
  {
   "cell_type": "markdown",
   "id": "469a5022-54f0-442f-9a05-f00b182e0471",
   "metadata": {},
   "source": [
    "### To run this model yourself: go to Run -> Run All Cells in the top left menu bar."
   ]
  },
  {
   "cell_type": "code",
   "execution_count": null,
   "id": "9be23621-b4a2-4f3b-aa58-89aed43d8a18",
   "metadata": {},
   "outputs": [],
   "source": [
    "from epxexec.fred_job import fred_job\n",
    "\n",
    "import pandas as pd\n",
    "import numpy as np\n",
    "\n",
    "import plotly.express as px\n",
    "import plotly.graph_objects as go\n",
    "import plotly.io as pio\n",
    "from plotly.subplots import make_subplots\n",
    "\n",
    "from epxexec.visual.utils import default_plotly_template\n",
    "pio.templates[\"epistemix\"] = default_plotly_template()\n",
    "pio.templates.default = \"epistemix\"\n",
    "\n",
    "import plot_mitigations"
   ]
  },
  {
   "cell_type": "markdown",
   "id": "3519f164-94ab-473c-8505-0c0697056acc",
   "metadata": {},
   "source": [
    "# Exploring the Utility of Mitigation Strategies for Respiratory Disease\n",
    "\n",
    "### In this notebook, we will model the spread of an influenza through Kewaunee County, WI.\n",
    "\n",
    "Our influenza model uses an SEIR structure. If you'd like to learn more about disease transmission in FRED, check out Lesson 7 in the Quickstart Guide.\n",
    "\n",
    "For now, here's a brief overview of the model:\n",
    "- We begin with 10 agents randomly exposed to the disease. \n",
    "- Exposed agents become Infectious after an average of two days, and they can either be Symptomatic (66%) or Asymptomatic (33%). \n",
    "- Agents remain infectious for an average of 5 days, during which they can transmit the disease to other susceptible agents that they come into contact with. \n",
    "After the infectious period, they recover and are no longer susceptible to reinfection."
   ]
  },
  {
   "cell_type": "code",
   "execution_count": null,
   "id": "f8268ff7-3c74-46d7-9af6-55141a95f16d",
   "metadata": {
    "tags": []
   },
   "outputs": [],
   "source": [
    "%%time\n",
    "job = fred_job(\"model/main.fred\")"
   ]
  },
  {
   "cell_type": "markdown",
   "id": "4bd8fe74-db18-47d2-88ef-1a273976079d",
   "metadata": {},
   "source": [
    "## Exploring the Model Output"
   ]
  },
  {
   "cell_type": "code",
   "execution_count": null,
   "id": "43c50c0b-3163-4b4d-b27b-825dcba1e52d",
   "metadata": {
    "tags": []
   },
   "outputs": [],
   "source": [
    "baseline_states = plot_mitigations.get_states(job)\n",
    "baseline_exposures = plot_mitigations.get_explocs(job)\n",
    "baseline_locations = plot_mitigations.get_expmap_data(job)"
   ]
  },
  {
   "cell_type": "code",
   "execution_count": null,
   "id": "9b9366ac-c898-4c22-8d09-f845a7628068",
   "metadata": {
    "tags": []
   },
   "outputs": [],
   "source": [
    "fig = go.Figure()\n",
    "\n",
    "for x in [\"Exposed\", \"InfectiousA\", \"InfectiousS\", \"Recovered\"]:\n",
    "    fig.add_trace(\n",
    "        go.Scatter(\n",
    "            x=baseline_states[\"sim_date\"],\n",
    "            y=baseline_states[x],\n",
    "            mode=\"lines\",\n",
    "            line=go.scatter.Line(width=3),\n",
    "            showlegend=True,\n",
    "            name=x)\n",
    "    )\n",
    "\n",
    "fig.update_layout(\n",
    "    font_family=\"Epistemix Label\",\n",
    "    yaxis_title=\"New infections per day\",\n",
    "    xaxis_title=\"Date\",\n",
    "    legend_title=\"State\",\n",
    "    title=\"The Spread of Influenza in Kewaunee County, WI\",\n",
    "    title_font_size=24,\n",
    "    xaxis_range=[\"2022-01-01\",\"2022-04-01\"],\n",
    "    hovermode=\"x\",height=450,\n",
    ")\n",
    "\n",
    "fig.show()"
   ]
  },
  {
   "cell_type": "markdown",
   "id": "aa6c2283-625b-406b-a7ee-82d08554aeec",
   "metadata": {},
   "source": [
    "Our influenza model tracks how many agents are newly exposed, infectious, or recovered each day. In the figure above, we can see that it takes about two weeks from the initial seeding of exposures at the beginning of the simulation for community spread to increase substantially, and that the disease has run its course after about 10 weeks."
   ]
  },
  {
   "cell_type": "code",
   "execution_count": null,
   "id": "e2ac4c3e-05eb-483e-aace-9cbfe5f287ab",
   "metadata": {
    "tags": []
   },
   "outputs": [],
   "source": [
    "fig = px.scatter_mapbox(baseline_locations, \n",
    "                        lat=\"my_exp_lat\", \n",
    "                        lon=\"my_exp_lon\",     \n",
    "                        color=\"ExposureLocation\",\n",
    "                        color_discrete_sequence=[\"#F0438D\", \"#2BD6AF\", \"#A76FF4\"],\n",
    "                        opacity=0.8,size=\"exp_scale\",size_max=12,\n",
    "                        zoom=9.25,height=600,hover_data={'exp_scale':False,\n",
    "                                                         'NumberExposed':True})\n",
    "\n",
    "\n",
    "# fig.update_layout(\n",
    "#     mapbox={'layers': [{\n",
    "#         'source': blocks_json,\n",
    "#         'type': \"line\", 'below': \"traces\", 'color': \"#252E59\",\n",
    "#         'opacity': 1.0\n",
    "#     }]}\n",
    "# )\n",
    "\n",
    "mapstyle=\"mapbox://styles/pnowell/cl4n9fic8001i15mnfmozrt8j\"\n",
    "token=\"pk.eyJ1IjoicG5vd2VsbCIsImEiOiJja201bHptMXkwZnQyMnZxcnFveTVhM2tyIn0.Pyarp9gHCON4reKvM2fZZg\"\n",
    "\n",
    "fig.update_layout(mapbox_style=mapstyle, mapbox_accesstoken=token)\n",
    "fig.update_layout(margin={\"r\":0,\"t\":60,\"l\":0,\"b\":0})\n",
    "fig.update_layout(title=\"Sites of Influenza Exposure\",title_font_size=24,)\n",
    "fig.show()"
   ]
  },
  {
   "cell_type": "markdown",
   "id": "741100d6-734c-4b59-ad89-e2367caa8667",
   "metadata": {},
   "source": [
    "FRED is a poweful tool not just for understanding disease spread in the aggregate but also for exploring the individual behaviors that are contributing factors. As part of our baseline model, agents recorded where they were exposed to the respiratory disease.\n",
    "\n",
    "In the map above, we show all the households, workplaces, and schools where agent to agent transmission occurred, with each marker scaled by how many exposures occurred at each location."
   ]
  },
  {
   "cell_type": "code",
   "execution_count": null,
   "id": "7d53d600-dbc5-423e-9f2f-92066beb77aa",
   "metadata": {},
   "outputs": [],
   "source": []
  }
 ],
 "metadata": {
  "kernelspec": {
   "display_name": "Python 3 (ipykernel)",
   "language": "python",
   "name": "python3"
  },
  "language_info": {
   "codemirror_mode": {
    "name": "ipython",
    "version": 3
   },
   "file_extension": ".py",
   "mimetype": "text/x-python",
   "name": "python",
   "nbconvert_exporter": "python",
   "pygments_lexer": "ipython3",
   "version": "3.10.9"
  }
 },
 "nbformat": 4,
 "nbformat_minor": 5
}
