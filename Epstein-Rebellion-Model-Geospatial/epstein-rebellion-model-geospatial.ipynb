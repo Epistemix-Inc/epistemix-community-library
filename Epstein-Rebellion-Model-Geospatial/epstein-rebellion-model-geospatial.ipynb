{
 "cells": [
  {
   "cell_type": "markdown",
   "id": "fc108b0f-2033-4c79-934e-97743d3870ba",
   "metadata": {
    "tags": []
   },
   "source": [
    "### To run this model yourself: go to Run -> Run All Cells in the top left menu bar."
   ]
  },
  {
   "cell_type": "code",
   "execution_count": 1,
   "id": "b85747d8-6200-4f2a-8fb7-810742fc574a",
   "metadata": {
    "tags": []
   },
   "outputs": [],
   "source": [
    "from epx import Job, ModelConfig, SynthPop\n",
    "\n",
    "import pandas as pd\n",
    "import numpy as np\n",
    "import json\n",
    "import time\n",
    "\n",
    "import matplotlib.pyplot as plt\n",
    "\n",
    "import plotly.express as px\n",
    "import plotly.graph_objects as go\n",
    "\n",
    "import plotly.io as pio\n",
    "from plotly.subplots import make_subplots\n",
    "\n",
    "from epxexec.visual.utils import default_plotly_template\n",
    "pio.templates[\"epistemix\"] = default_plotly_template()\n",
    "pio.templates.default = \"epistemix\"\n",
    "\n",
    "mapstyle=\"mapbox://styles/pnowell/cl4n9fic8001i15mnfmozrt8j\"\n",
    "token=\"pk.eyJ1IjoicG5vd2VsbCIsImEiOiJja201bHptMXkwZnQyMnZxcnFveTVhM2tyIn0.Pyarp9gHCON4reKvM2fZZg\""
   ]
  },
  {
   "cell_type": "markdown",
   "id": "dd213e44-b0fd-49d4-b26a-082dda964789",
   "metadata": {},
   "source": [
    "# Epstein Rebellion model applied to Grand Isle County, VT\n",
    "\n",
    "This model captures the evolution of civil violence in a population split into regular agents, who are disaffected and willing to rebel if the conditions are right, and cop agents, who try to quell rebellion by jailing those agents.\n",
    "\n",
    "In this implementation, the households of Grand Isle County serve as the locations between which agents move, but the agent behaviors are otherwise unchanged from the grid implementation.\n",
    "\n",
    "### Key simulation variables\n",
    "\n",
    "- number of locations: 2939\n",
    "- agent density: 0.7\n",
    "- cop density: 0.05\n",
    "- government legitimacy: 0.5\n",
    "- max jail sentence: 20 days\n",
    "- agent vision: 150 closest agents\n",
    "- rebellion threshold: 0.1"
   ]
  },
  {
   "cell_type": "markdown",
   "id": "314a5ab6-4835-46cf-ab7c-51f65dbcff29",
   "metadata": {},
   "source": [
    "## Place and agent generation"
   ]
  },
  {
   "cell_type": "code",
   "execution_count": 2,
   "id": "926f108e-a6a8-4f39-9010-d250c131ac0a",
   "metadata": {},
   "outputs": [],
   "source": [
    "### FIPS code for county of choice: Grand Isle VT\n",
    "### change this to generate agent files for a different location\n",
    "\n",
    "fips = \"50013\""
   ]
  },
  {
   "cell_type": "code",
   "execution_count": 3,
   "id": "f2cf2df7-a339-4b02-be93-2eee096c1445",
   "metadata": {
    "tags": []
   },
   "outputs": [],
   "source": [
    "import os\n",
    "path_to_pop = os.getenv('FRED_DATA') + '/country/usa/US_2010.v5/'+fips+\"/\"\n",
    "\n",
    "households = pd.read_csv(path_to_pop+\"household.txt\")\n",
    "workplaces = pd.read_csv(path_to_pop+\"workplace.txt\")\n",
    "schools = pd.read_csv(path_to_pop+\"school.txt\")"
   ]
  },
  {
   "cell_type": "code",
   "execution_count": 4,
   "id": "23609348-e8ba-4fbe-83e7-125852c0b03b",
   "metadata": {
    "tags": []
   },
   "outputs": [],
   "source": [
    "import math\n",
    "\n",
    "\n",
    "def haversine_delta_long(center, long):\n",
    "    lon1, lat1 = center\n",
    "    lon2 = long\n",
    "    lat2 = lat1\n",
    "    R = 6371000  # radius of Earth in meters\n",
    "    phi_1 = math.radians(lat1)\n",
    "    phi_2 = math.radians(lat2)\n",
    "\n",
    "    delta_phi = math.radians(lat2 - lat1)\n",
    "    delta_lambda = math.radians(lon2 - lon1)\n",
    "\n",
    "    a = math.sin(delta_phi / 2.0) ** 2 + math.cos(phi_1) * math.cos(phi_2) * math.sin(delta_lambda / 2.0) ** 2\n",
    "\n",
    "    c = 2 * math.atan2(math.sqrt(a), math.sqrt(1 - a))\n",
    "\n",
    "    meters = R * c  # output distance in meters\n",
    "    km = meters / 1000.0  # output distance in kilometers\n",
    "    \n",
    "    if lon2 < lon1:\n",
    "        return -km\n",
    "    else:\n",
    "        return km\n",
    "\n",
    "def haversine_delta_lat(center, lat):\n",
    "    lon1, lat1 = center\n",
    "    lon2 = lon1\n",
    "    lat2 = lat\n",
    "    \n",
    "    R = 6371000  # radius of Earth in meters\n",
    "    phi_1 = math.radians(lat1)\n",
    "    phi_2 = math.radians(lat2)\n",
    "\n",
    "    delta_phi = math.radians(lat2 - lat1)\n",
    "    delta_lambda = math.radians(lon2 - lon1)\n",
    "\n",
    "    a = math.sin(delta_phi / 2.0) ** 2 + math.cos(phi_1) * math.cos(phi_2) * math.sin(delta_lambda / 2.0) ** 2\n",
    "\n",
    "    c = 2 * math.atan2(math.sqrt(a), math.sqrt(1 - a))\n",
    "\n",
    "    meters = R * c  # output distance in meters\n",
    "    km = meters / 1000.0  # output distance in kilometers\n",
    "    \n",
    "    if lat2 < lat1:\n",
    "        return -km\n",
    "    else:\n",
    "        return km"
   ]
  },
  {
   "cell_type": "code",
   "execution_count": 5,
   "id": "5468640c-a987-4268-a267-2549100600f0",
   "metadata": {
    "tags": []
   },
   "outputs": [],
   "source": [
    "center = (households.LON.median(), households.LAT.median())\n",
    "\n",
    "households = households.assign(xloc=[haversine_delta_long(center, x) for x in households.LON])\n",
    "households = households.assign(yloc=[haversine_delta_lat(center, x) for x in households.LAT])"
   ]
  },
  {
   "cell_type": "code",
   "execution_count": 6,
   "id": "2dd81de4-39a5-4d2b-b2c9-1c73ec46deb5",
   "metadata": {
    "tags": []
   },
   "outputs": [],
   "source": [
    "tot_places = len(households)\n",
    "\n",
    "place_agents = pd.DataFrame()\n",
    "place_agents[\"ID\"] = np.arange(1,tot_places+1)\n",
    "place_agents[\"x_pos\"] = households.xloc\n",
    "place_agents[\"y_pos\"] = households.yloc\n",
    "place_agents[\"agent_type\"] = 1\n",
    "\n",
    "agent_density = 0.7\n",
    "cop_density = 0.05\n",
    "\n",
    "n_regular_agents = int(agent_density*tot_places)\n",
    "n_cop_agents = int(cop_density*tot_places)\n",
    "\n",
    "regular_id_int = 100000\n",
    "regular_agents = pd.DataFrame()\n",
    "regular_agents[\"ID\"] = np.arange(regular_id_int+1,regular_id_int+n_regular_agents+1)\n",
    "regular_agents[\"agent_type\"] = 2\n",
    "\n",
    "cop_id_int = 200000\n",
    "cop_agents = pd.DataFrame()\n",
    "cop_agents[\"ID\"] = np.arange(cop_id_int+1,cop_id_int+n_cop_agents+1)\n",
    "cop_agents[\"agent_type\"] = 3\n",
    "\n",
    "place_agents.to_csv(\"county_places.csv\", index=False)\n",
    "regular_agents.to_csv(\"county_agents.csv\", index=False)\n",
    "cop_agents.to_csv(\"county_cops.csv\", index=False)\n",
    "\n",
    "place_agents[\"lat\"] = households[\"LAT\"]\n",
    "place_agents[\"lon\"] = households[\"LON\"]"
   ]
  },
  {
   "cell_type": "markdown",
   "id": "8ae6d69f-6c0c-45cb-92a5-fe8567513b3b",
   "metadata": {},
   "source": [
    "## Running the Model"
   ]
  },
  {
   "cell_type": "code",
   "execution_count": 17,
   "id": "f34152fd-d6be-4cf1-901a-3fd541131a7a",
   "metadata": {
    "tags": []
   },
   "outputs": [
    {
     "data": {
      "text/html": [
       "<div>\n",
       "<style scoped>\n",
       "    .dataframe tbody tr th:only-of-type {\n",
       "        vertical-align: middle;\n",
       "    }\n",
       "\n",
       "    .dataframe tbody tr th {\n",
       "        vertical-align: top;\n",
       "    }\n",
       "\n",
       "    .dataframe thead th {\n",
       "        text-align: right;\n",
       "    }\n",
       "</style>\n",
       "<table border=\"1\" class=\"dataframe\">\n",
       "  <thead>\n",
       "    <tr style=\"text-align: right;\">\n",
       "      <th></th>\n",
       "      <th>run_id</th>\n",
       "      <th>level</th>\n",
       "      <th>time</th>\n",
       "      <th>message</th>\n",
       "    </tr>\n",
       "  </thead>\n",
       "  <tbody>\n",
       "    <tr>\n",
       "      <th>0</th>\n",
       "      <td>0</td>\n",
       "      <td>INFO</td>\n",
       "      <td>2024-05-21 13:44:32.241</td>\n",
       "      <td>Environment variable FRED_DATA=/data/data</td>\n",
       "    </tr>\n",
       "    <tr>\n",
       "      <th>1</th>\n",
       "      <td>0</td>\n",
       "      <td>INFO</td>\n",
       "      <td>2024-05-21 13:44:32.256</td>\n",
       "      <td>Environment variable FRED_LIBRARY=/</td>\n",
       "    </tr>\n",
       "    <tr>\n",
       "      <th>2</th>\n",
       "      <td>0</td>\n",
       "      <td>INFO</td>\n",
       "      <td>2024-05-21 13:44:32.256</td>\n",
       "      <td>FRED simulation seed: 13649620900944172275</td>\n",
       "    </tr>\n",
       "    <tr>\n",
       "      <th>3</th>\n",
       "      <td>0</td>\n",
       "      <td>INFO</td>\n",
       "      <td>2024-05-21 13:44:32.370</td>\n",
       "      <td>Estimated total agents = 6965</td>\n",
       "    </tr>\n",
       "    <tr>\n",
       "      <th>4</th>\n",
       "      <td>0</td>\n",
       "      <td>INFO</td>\n",
       "      <td>2024-05-21 13:44:33.065</td>\n",
       "      <td>About to simulate 91 days.</td>\n",
       "    </tr>\n",
       "    <tr>\n",
       "      <th>5</th>\n",
       "      <td>0</td>\n",
       "      <td>INFO</td>\n",
       "      <td>2024-05-21 13:44:33.065</td>\n",
       "      <td>Beginning to simulate day 0, which is Sun 2023...</td>\n",
       "    </tr>\n",
       "    <tr>\n",
       "      <th>6</th>\n",
       "      <td>0</td>\n",
       "      <td>ERROR</td>\n",
       "      <td>2024-05-21 13:44:33.308</td>\n",
       "      <td>Error read_agent_file(county_places.csv): agen...</td>\n",
       "    </tr>\n",
       "    <tr>\n",
       "      <th>7</th>\n",
       "      <td>0</td>\n",
       "      <td>ERROR</td>\n",
       "      <td>2024-05-21 13:44:33.308</td>\n",
       "      <td>FRED exiting with code 2</td>\n",
       "    </tr>\n",
       "  </tbody>\n",
       "</table>\n",
       "</div>"
      ],
      "text/plain": [
       "   run_id  level                    time  \\\n",
       "0       0   INFO 2024-05-21 13:44:32.241   \n",
       "1       0   INFO 2024-05-21 13:44:32.256   \n",
       "2       0   INFO 2024-05-21 13:44:32.256   \n",
       "3       0   INFO 2024-05-21 13:44:32.370   \n",
       "4       0   INFO 2024-05-21 13:44:33.065   \n",
       "5       0   INFO 2024-05-21 13:44:33.065   \n",
       "6       0  ERROR 2024-05-21 13:44:33.308   \n",
       "7       0  ERROR 2024-05-21 13:44:33.308   \n",
       "\n",
       "                                             message  \n",
       "0          Environment variable FRED_DATA=/data/data  \n",
       "1                Environment variable FRED_LIBRARY=/  \n",
       "2         FRED simulation seed: 13649620900944172275  \n",
       "3                     Estimated total agents = 6965   \n",
       "4                         About to simulate 91 days.  \n",
       "5  Beginning to simulate day 0, which is Sun 2023...  \n",
       "6  Error read_agent_file(county_places.csv): agen...  \n",
       "7                           FRED exiting with code 2  "
      ]
     },
     "execution_count": 17,
     "metadata": {},
     "output_type": "execute_result"
    }
   ],
   "source": [
    "epstein_rebellion_geo_job.status.logs"
   ]
  },
  {
   "cell_type": "code",
   "execution_count": 18,
   "id": "255124f0-fa55-4e67-81e1-93db594f361d",
   "metadata": {
    "tags": []
   },
   "outputs": [],
   "source": [
    "epstein_rebellion_geo_job.delete(interactive=False)"
   ]
  },
  {
   "cell_type": "code",
   "execution_count": 19,
   "id": "45cee480-9a3a-4351-a7b9-458c9367b775",
   "metadata": {
    "tags": []
   },
   "outputs": [
    {
     "name": "stderr",
     "output_type": "stream",
     "text": [
      "WARNING:root:PLATFORM_API_URL environment variable not set.\n"
     ]
    },
    {
     "data": {
      "text/plain": [
       "'DONE'"
      ]
     },
     "execution_count": 19,
     "metadata": {},
     "output_type": "execute_result"
    }
   ],
   "source": [
    "epstein_rebellion_geo_config = ModelConfig(\n",
    "             synth_pop=SynthPop(\"US_2010.v5\", [\"Grand_Isle_County_VT\"]),\n",
    "             start_date=\"2023-01-01\",\n",
    "             end_date=\"2023-04-01\",\n",
    "         )\n",
    "\n",
    "epstein_rebellion_geo_job = Job(\n",
    "    \"model/rebellion.fred\",\n",
    "    config=[epstein_rebellion_geo_config],\n",
    "    key=\"cl_epstein_rebellion_geo_job1\",\n",
    "    fred_version=\"10.1.1\",\n",
    "    results_dir=\"/home/epx/cl-results\"\n",
    ")\n",
    "\n",
    "\n",
    "epstein_rebellion_geo_job.execute()\n",
    "\n",
    "# the following loop idles while we wait for the simulation job to finish\n",
    "start = time.time()\n",
    "timeout   = 300 # timeout in seconds\n",
    "idle_time = 20   # time to wait (in seconds) before checking status again\n",
    "while str(epstein_rebellion_geo_job.status) != 'DONE':\n",
    "    if time.time() > start + timeout:\n",
    "        msg = f\"Job did not finish within {timeout / 60} minutes.\"\n",
    "        raise RuntimeError(msg)\n",
    "    if str(epstein_rebellion_geo_job.status) == 'ERROR':\n",
    "        break\n",
    "    time.sleep(idle_time)\n",
    "\n",
    "str(epstein_rebellion_geo_job.status)"
   ]
  },
  {
   "cell_type": "markdown",
   "id": "79a55480-fdc8-4954-909d-089b317e105a",
   "metadata": {},
   "source": [
    "## Visualizing the Results"
   ]
  },
  {
   "cell_type": "code",
   "execution_count": 8,
   "id": "6aca88ba-478b-47a0-9d55-21d2cc81da6d",
   "metadata": {
    "tags": []
   },
   "outputs": [
    {
     "ename": "ValueError",
     "evalue": "No objects to concatenate",
     "output_type": "error",
     "traceback": [
      "\u001b[0;31m---------------------------------------------------------------------------\u001b[0m",
      "\u001b[0;31mValueError\u001b[0m                                Traceback (most recent call last)",
      "Cell \u001b[0;32mIn[8], line 1\u001b[0m\n\u001b[0;32m----> 1\u001b[0m agent_data \u001b[38;5;241m=\u001b[39m \u001b[43mepstein_rebellion_geo_job\u001b[49m\u001b[38;5;241;43m.\u001b[39;49m\u001b[43mresults\u001b[49m\u001b[38;5;241;43m.\u001b[39;49m\u001b[43mcsv_output\u001b[49m\u001b[43m(\u001b[49m\u001b[38;5;124;43m\"\u001b[39;49m\u001b[38;5;124;43mregular_agent_info.csv\u001b[39;49m\u001b[38;5;124;43m\"\u001b[39;49m\u001b[43m)\u001b[49m\n\u001b[1;32m      2\u001b[0m movement \u001b[38;5;241m=\u001b[39m epstein_rebellion_geo_job\u001b[38;5;241m.\u001b[39mresults\u001b[38;5;241m.\u001b[39mcsv_output(\u001b[38;5;124m\"\u001b[39m\u001b[38;5;124mmovement.csv\u001b[39m\u001b[38;5;124m\"\u001b[39m)\n\u001b[1;32m      4\u001b[0m sim_data \u001b[38;5;241m=\u001b[39m pd\u001b[38;5;241m.\u001b[39mmerge(left\u001b[38;5;241m=\u001b[39mmovement, \n\u001b[1;32m      5\u001b[0m          right\u001b[38;5;241m=\u001b[39magent_data, on\u001b[38;5;241m=\u001b[39m[\u001b[38;5;124m\"\u001b[39m\u001b[38;5;124mid\u001b[39m\u001b[38;5;124m\"\u001b[39m,\u001b[38;5;124m\"\u001b[39m\u001b[38;5;124msimday\u001b[39m\u001b[38;5;124m\"\u001b[39m], how\u001b[38;5;241m=\u001b[39m\u001b[38;5;124m\"\u001b[39m\u001b[38;5;124mleft\u001b[39m\u001b[38;5;124m\"\u001b[39m)\u001b[38;5;241m.\u001b[39mfillna(\u001b[38;5;241m0\u001b[39m)\n",
      "File \u001b[0;32m/opt/conda/lib/python3.10/site-packages/epx/job/results.py:179\u001b[0m, in \u001b[0;36mJobResults.csv_output\u001b[0;34m(self, filename)\u001b[0m\n\u001b[1;32m    162\u001b[0m \u001b[38;5;28;01mdef\u001b[39;00m \u001b[38;5;21mcsv_output\u001b[39m(\u001b[38;5;28mself\u001b[39m, filename: \u001b[38;5;28mstr\u001b[39m) \u001b[38;5;241m-\u001b[39m\u001b[38;5;241m>\u001b[39m pd\u001b[38;5;241m.\u001b[39mDataFrame:\n\u001b[1;32m    163\u001b[0m \u001b[38;5;250m    \u001b[39m\u001b[38;5;124;03m\"\"\"Return data output by FRED's ``print_csv`` action.\u001b[39;00m\n\u001b[1;32m    164\u001b[0m \n\u001b[1;32m    165\u001b[0m \u001b[38;5;124;03m    Parameters\u001b[39;00m\n\u001b[0;32m   (...)\u001b[0m\n\u001b[1;32m    177\u001b[0m \u001b[38;5;124;03m        ``open_csv`` in the model code.\u001b[39;00m\n\u001b[1;32m    178\u001b[0m \u001b[38;5;124;03m    \"\"\"\u001b[39;00m\n\u001b[0;32m--> 179\u001b[0m     \u001b[38;5;28;01mreturn\u001b[39;00m \u001b[38;5;28;43mself\u001b[39;49m\u001b[38;5;241;43m.\u001b[39;49m\u001b[43m_combine_results_across_runs\u001b[49m\u001b[43m(\u001b[49m\n\u001b[1;32m    180\u001b[0m \u001b[43m        \u001b[49m\u001b[43m(\u001b[49m\n\u001b[1;32m    181\u001b[0m \u001b[43m            \u001b[49m\u001b[43m(\u001b[49m\n\u001b[1;32m    182\u001b[0m \u001b[43m                \u001b[49m\u001b[43mrun_result_with_id\u001b[49m\u001b[43m[\u001b[49m\u001b[38;5;241;43m0\u001b[39;49m\u001b[43m]\u001b[49m\u001b[43m,\u001b[49m\n\u001b[1;32m    183\u001b[0m \u001b[43m                \u001b[49m\u001b[43mrun_result_with_id\u001b[49m\u001b[43m[\u001b[49m\u001b[38;5;241;43m1\u001b[39;49m\u001b[43m]\u001b[49m\u001b[38;5;241;43m.\u001b[39;49m\u001b[43mcsv_output\u001b[49m\u001b[43m(\u001b[49m\u001b[43mfilename\u001b[49m\u001b[43m)\u001b[49m\u001b[43m,\u001b[49m\n\u001b[1;32m    184\u001b[0m \u001b[43m            \u001b[49m\u001b[43m)\u001b[49m\n\u001b[1;32m    185\u001b[0m \u001b[43m            \u001b[49m\u001b[38;5;28;43;01mfor\u001b[39;49;00m\u001b[43m \u001b[49m\u001b[43mrun_result_with_id\u001b[49m\u001b[43m \u001b[49m\u001b[38;5;129;43;01min\u001b[39;49;00m\u001b[43m \u001b[49m\u001b[38;5;28;43mself\u001b[39;49m\u001b[38;5;241;43m.\u001b[39;49m\u001b[43m_run_results_with_ids\u001b[49m\n\u001b[1;32m    186\u001b[0m \u001b[43m        \u001b[49m\u001b[43m)\u001b[49m\n\u001b[1;32m    187\u001b[0m \u001b[43m    \u001b[49m\u001b[43m)\u001b[49m\n",
      "File \u001b[0;32m/opt/conda/lib/python3.10/site-packages/epx/job/results.py:352\u001b[0m, in \u001b[0;36mJobResults._combine_results_across_runs\u001b[0;34m(results_dfs_with_ids)\u001b[0m\n\u001b[1;32m    349\u001b[0m     cols\u001b[38;5;241m.\u001b[39minsert(\u001b[38;5;241m0\u001b[39m, \u001b[38;5;124m\"\u001b[39m\u001b[38;5;124mrun_id\u001b[39m\u001b[38;5;124m\"\u001b[39m)\n\u001b[1;32m    350\u001b[0m     \u001b[38;5;28;01mreturn\u001b[39;00m df\u001b[38;5;241m.\u001b[39massign(run_id\u001b[38;5;241m=\u001b[39mrun_id)\u001b[38;5;241m.\u001b[39mloc[:, cols]\n\u001b[0;32m--> 352\u001b[0m \u001b[38;5;28;01mreturn\u001b[39;00m \u001b[43mpd\u001b[49m\u001b[38;5;241;43m.\u001b[39;49m\u001b[43mconcat\u001b[49m\u001b[43m(\u001b[49m\n\u001b[1;32m    353\u001b[0m \u001b[43m    \u001b[49m\u001b[43m[\u001b[49m\u001b[43mproc_result_df\u001b[49m\u001b[43m(\u001b[49m\u001b[43mrun_id\u001b[49m\u001b[43m,\u001b[49m\u001b[43m \u001b[49m\u001b[43mdf\u001b[49m\u001b[43m)\u001b[49m\u001b[43m \u001b[49m\u001b[38;5;28;43;01mfor\u001b[39;49;00m\u001b[43m \u001b[49m\u001b[43mrun_id\u001b[49m\u001b[43m,\u001b[49m\u001b[43m \u001b[49m\u001b[43mdf\u001b[49m\u001b[43m \u001b[49m\u001b[38;5;129;43;01min\u001b[39;49;00m\u001b[43m \u001b[49m\u001b[43mresults_dfs_with_ids\u001b[49m\u001b[43m]\u001b[49m\n\u001b[1;32m    354\u001b[0m \u001b[43m\u001b[49m\u001b[43m)\u001b[49m\u001b[38;5;241m.\u001b[39mreset_index(drop\u001b[38;5;241m=\u001b[39m\u001b[38;5;28;01mTrue\u001b[39;00m)\n",
      "File \u001b[0;32m/opt/conda/lib/python3.10/site-packages/pandas/core/reshape/concat.py:382\u001b[0m, in \u001b[0;36mconcat\u001b[0;34m(objs, axis, join, ignore_index, keys, levels, names, verify_integrity, sort, copy)\u001b[0m\n\u001b[1;32m    379\u001b[0m \u001b[38;5;28;01melif\u001b[39;00m copy \u001b[38;5;129;01mand\u001b[39;00m using_copy_on_write():\n\u001b[1;32m    380\u001b[0m     copy \u001b[38;5;241m=\u001b[39m \u001b[38;5;28;01mFalse\u001b[39;00m\n\u001b[0;32m--> 382\u001b[0m op \u001b[38;5;241m=\u001b[39m \u001b[43m_Concatenator\u001b[49m\u001b[43m(\u001b[49m\n\u001b[1;32m    383\u001b[0m \u001b[43m    \u001b[49m\u001b[43mobjs\u001b[49m\u001b[43m,\u001b[49m\n\u001b[1;32m    384\u001b[0m \u001b[43m    \u001b[49m\u001b[43maxis\u001b[49m\u001b[38;5;241;43m=\u001b[39;49m\u001b[43maxis\u001b[49m\u001b[43m,\u001b[49m\n\u001b[1;32m    385\u001b[0m \u001b[43m    \u001b[49m\u001b[43mignore_index\u001b[49m\u001b[38;5;241;43m=\u001b[39;49m\u001b[43mignore_index\u001b[49m\u001b[43m,\u001b[49m\n\u001b[1;32m    386\u001b[0m \u001b[43m    \u001b[49m\u001b[43mjoin\u001b[49m\u001b[38;5;241;43m=\u001b[39;49m\u001b[43mjoin\u001b[49m\u001b[43m,\u001b[49m\n\u001b[1;32m    387\u001b[0m \u001b[43m    \u001b[49m\u001b[43mkeys\u001b[49m\u001b[38;5;241;43m=\u001b[39;49m\u001b[43mkeys\u001b[49m\u001b[43m,\u001b[49m\n\u001b[1;32m    388\u001b[0m \u001b[43m    \u001b[49m\u001b[43mlevels\u001b[49m\u001b[38;5;241;43m=\u001b[39;49m\u001b[43mlevels\u001b[49m\u001b[43m,\u001b[49m\n\u001b[1;32m    389\u001b[0m \u001b[43m    \u001b[49m\u001b[43mnames\u001b[49m\u001b[38;5;241;43m=\u001b[39;49m\u001b[43mnames\u001b[49m\u001b[43m,\u001b[49m\n\u001b[1;32m    390\u001b[0m \u001b[43m    \u001b[49m\u001b[43mverify_integrity\u001b[49m\u001b[38;5;241;43m=\u001b[39;49m\u001b[43mverify_integrity\u001b[49m\u001b[43m,\u001b[49m\n\u001b[1;32m    391\u001b[0m \u001b[43m    \u001b[49m\u001b[43mcopy\u001b[49m\u001b[38;5;241;43m=\u001b[39;49m\u001b[43mcopy\u001b[49m\u001b[43m,\u001b[49m\n\u001b[1;32m    392\u001b[0m \u001b[43m    \u001b[49m\u001b[43msort\u001b[49m\u001b[38;5;241;43m=\u001b[39;49m\u001b[43msort\u001b[49m\u001b[43m,\u001b[49m\n\u001b[1;32m    393\u001b[0m \u001b[43m\u001b[49m\u001b[43m)\u001b[49m\n\u001b[1;32m    395\u001b[0m \u001b[38;5;28;01mreturn\u001b[39;00m op\u001b[38;5;241m.\u001b[39mget_result()\n",
      "File \u001b[0;32m/opt/conda/lib/python3.10/site-packages/pandas/core/reshape/concat.py:445\u001b[0m, in \u001b[0;36m_Concatenator.__init__\u001b[0;34m(self, objs, axis, join, keys, levels, names, ignore_index, verify_integrity, copy, sort)\u001b[0m\n\u001b[1;32m    442\u001b[0m \u001b[38;5;28mself\u001b[39m\u001b[38;5;241m.\u001b[39mverify_integrity \u001b[38;5;241m=\u001b[39m verify_integrity\n\u001b[1;32m    443\u001b[0m \u001b[38;5;28mself\u001b[39m\u001b[38;5;241m.\u001b[39mcopy \u001b[38;5;241m=\u001b[39m copy\n\u001b[0;32m--> 445\u001b[0m objs, keys \u001b[38;5;241m=\u001b[39m \u001b[38;5;28;43mself\u001b[39;49m\u001b[38;5;241;43m.\u001b[39;49m\u001b[43m_clean_keys_and_objs\u001b[49m\u001b[43m(\u001b[49m\u001b[43mobjs\u001b[49m\u001b[43m,\u001b[49m\u001b[43m \u001b[49m\u001b[43mkeys\u001b[49m\u001b[43m)\u001b[49m\n\u001b[1;32m    447\u001b[0m \u001b[38;5;66;03m# figure out what our result ndim is going to be\u001b[39;00m\n\u001b[1;32m    448\u001b[0m ndims \u001b[38;5;241m=\u001b[39m \u001b[38;5;28mself\u001b[39m\u001b[38;5;241m.\u001b[39m_get_ndims(objs)\n",
      "File \u001b[0;32m/opt/conda/lib/python3.10/site-packages/pandas/core/reshape/concat.py:507\u001b[0m, in \u001b[0;36m_Concatenator._clean_keys_and_objs\u001b[0;34m(self, objs, keys)\u001b[0m\n\u001b[1;32m    504\u001b[0m     objs_list \u001b[38;5;241m=\u001b[39m \u001b[38;5;28mlist\u001b[39m(objs)\n\u001b[1;32m    506\u001b[0m \u001b[38;5;28;01mif\u001b[39;00m \u001b[38;5;28mlen\u001b[39m(objs_list) \u001b[38;5;241m==\u001b[39m \u001b[38;5;241m0\u001b[39m:\n\u001b[0;32m--> 507\u001b[0m     \u001b[38;5;28;01mraise\u001b[39;00m \u001b[38;5;167;01mValueError\u001b[39;00m(\u001b[38;5;124m\"\u001b[39m\u001b[38;5;124mNo objects to concatenate\u001b[39m\u001b[38;5;124m\"\u001b[39m)\n\u001b[1;32m    509\u001b[0m \u001b[38;5;28;01mif\u001b[39;00m keys \u001b[38;5;129;01mis\u001b[39;00m \u001b[38;5;28;01mNone\u001b[39;00m:\n\u001b[1;32m    510\u001b[0m     objs_list \u001b[38;5;241m=\u001b[39m \u001b[38;5;28mlist\u001b[39m(com\u001b[38;5;241m.\u001b[39mnot_none(\u001b[38;5;241m*\u001b[39mobjs_list))\n",
      "\u001b[0;31mValueError\u001b[0m: No objects to concatenate"
     ]
    }
   ],
   "source": [
    "agent_data = epstein_rebellion_geo_job.results.csv_output(\"regular_agent_info.csv\")\n",
    "movement = epstein_rebellion_geo_job.results.csv_output(\"movement.csv\")\n",
    "\n",
    "sim_data = pd.merge(left=movement, \n",
    "         right=agent_data, on=[\"id\",\"simday\"], how=\"left\").fillna(0)\n",
    "\n",
    "sim_data.agent_status = sim_data.agent_status.map({0:\"Passive\", 1:\"Rebel\", 2:\"Cop\", -1:\"Jailed\"})\n",
    "\n",
    "sim_data[\"will_to_rebel\"] = sim_data.grievance - sim_data.risk * sim_data.est_arrest_prob\n",
    "\n",
    "dates = epstein_rebellion_geo_job.results.dates()\n",
    "dates = dates.rename(columns={\"sim_day\":\"simday\"}).drop(columns=[\"run_id\"])\n",
    "\n",
    "sim_data = sim_data.merge(dates, on=\"simday\", how=\"left\")\n",
    "\n",
    "tmp = sim_data[(sim_data.simday==0)&(sim_data.agent_status==\"Passive\")].copy()\n",
    "tmp.simday = 1\n",
    "sim_data = pd.concat([sim_data, tmp])\n",
    "\n",
    "tmp = sim_data[(sim_data.simday==0)&(sim_data.agent_status==\"Cop\")].copy()\n",
    "tmp.simday = 1\n",
    "sim_data = pd.concat([sim_data, tmp])\n",
    "\n",
    "\n",
    "dict = {\"agent_status\":[\"Cop\", \"Passive\", \"Rebel\", \"Jailed\"], \n",
    "        \"simday\":[0]*4, \"id\":[0]*4, \"xloc\":[-100]*4, \"yloc\":[-1]*4, \"agent_type\":[2]*4}\n",
    "sim_data = pd.concat([pd.DataFrame(dict), sim_data])\n",
    "\n",
    "sim_data = sim_data.assign(size_val=2)"
   ]
  },
  {
   "cell_type": "code",
   "execution_count": null,
   "id": "15ab6d9a-0808-4b4c-a413-75256dd84ef1",
   "metadata": {
    "tags": []
   },
   "outputs": [],
   "source": [
    "agent_states = (sim_data[(sim_data.agent_status!=\"Cop\")]\n",
    " .groupby([\"simday\", \"agent_status\"]).size().to_frame().reset_index()\n",
    " .rename(columns={0:\"Count\"})\n",
    ")\n",
    "\n",
    "fig = go.Figure()\n",
    "\n",
    "for x in [\"Passive\", \"Rebel\", \"Jailed\"]:\n",
    "    fig.add_trace(\n",
    "        go.Scatter(\n",
    "            x=agent_states[agent_states.agent_status==x].simday,\n",
    "            y=agent_states[agent_states.agent_status==x].Count,\n",
    "            mode=\"lines\",\n",
    "            line=go.scatter.Line(width=3),\n",
    "            showlegend=True,\n",
    "            name=x)\n",
    "    )\n",
    "\n",
    "\n",
    "fig.update_layout(\n",
    "    font_family=\"Epistemix Label\",\n",
    "    yaxis_title=\"Count\",\n",
    "    xaxis_title=\"Sim day\",\n",
    "    legend_title=\"Agent status\",\n",
    "    title=\"Rebellion model, geospatial implementation\",\n",
    "    title_font_size=24,\n",
    "    hovermode=\"x unified\",height=400,\n",
    ")\n",
    "\n",
    "fig.show()"
   ]
  },
  {
   "cell_type": "code",
   "execution_count": null,
   "id": "a7e619c7-c47e-4cc1-8fd3-b9a517267d63",
   "metadata": {
    "tags": []
   },
   "outputs": [],
   "source": [
    "sim_data = sim_data.merge(place_agents.rename(columns={\"ID\":'place_id'}).drop(columns=[\"agent_type\",\"x_pos\",\"y_pos\"]), \n",
    "               on=\"place_id\", \n",
    "               how=\"left\")\n",
    "\n",
    "anim_places = pd.DataFrame()\n",
    "for i in range(sim_data.simday.max()+1):\n",
    "    tmp = pd.DataFrame()\n",
    "    tmp[\"place_id\"] = place_agents[\"ID\"]\n",
    "    tmp[\"simday\"] = i\n",
    "    tmp[\"lat\"] = place_agents[\"lat\"]\n",
    "    tmp[\"lon\"] = place_agents[\"lon\"]\n",
    "    \n",
    "    dict = {\"place_id\":[-5,-4,-3,-2,-1], \"simday\":[i]*5, \n",
    "            \"lat\":[center[1]]*5, \"lon\":[center[0]]*5,}\n",
    "    \n",
    "    anim_places = pd.concat([anim_places, pd.DataFrame(dict), tmp], ignore_index=True)\n",
    "\n",
    "anim_places = anim_places.merge(sim_data[[\"id\",\"simday\", \"agent_type\", \"agent_status\", \"place_id\"]], \n",
    "                                on=[\"place_id\", \"simday\"], how=\"left\")\n",
    "\n",
    "anim_places = anim_places.assign(size_val=3.0)\n",
    "\n",
    "anim_places.loc[anim_places.place_id==-5, \"agent_status\"] = \"Empty\"\n",
    "anim_places.loc[anim_places.place_id==-4, \"agent_status\"] = \"Jailed\"\n",
    "anim_places.loc[anim_places.place_id==-3, \"agent_status\"] = \"Passive\"\n",
    "anim_places.loc[anim_places.place_id==-2, \"agent_status\"] = \"Rebel\"\n",
    "anim_places.loc[anim_places.place_id==-1, \"agent_status\"] = \"Cop\"\n",
    "\n",
    "anim_places.id = anim_places.id.fillna(0)\n",
    "anim_places.agent_status = anim_places.agent_status.fillna(\"Empty\")\n",
    "anim_places.agent_type = anim_places.agent_type.fillna(1)\n",
    "\n",
    "anim_places.loc[anim_places.agent_status==\"Empty\", \"size_val\"] = 0.8"
   ]
  },
  {
   "cell_type": "code",
   "execution_count": null,
   "id": "eb1b13f4-8207-4c3a-9505-da4b10d4facb",
   "metadata": {
    "tags": []
   },
   "outputs": [],
   "source": [
    "fig = px.scatter_mapbox(anim_places, \n",
    "                        lon=\"lon\", lat=\"lat\", \n",
    "                        color=\"agent_status\",\n",
    "                        color_discrete_sequence=[\n",
    "                            \"white\", # empty\n",
    "                            \"gray\", # jailed\n",
    "                            px.colors.qualitative.Plotly[2], # passive\n",
    "                            px.colors.qualitative.Plotly[1], # rebel\n",
    "                            px.colors.qualitative.Plotly[0]], # cop\n",
    "                        opacity=0.95,\n",
    "                        zoom=9.6,\n",
    "                        size=\"size_val\", size_max=5,\n",
    "                        animation_frame=\"simday\",\n",
    "                        animation_group=\"place_id\"\n",
    "                )\n",
    "\n",
    "\n",
    "fig.update_layout(mapbox_style=mapstyle, mapbox_accesstoken=token)\n",
    "\n",
    "fig.update_layout(height=800,)\n",
    "fig.update_yaxes(\n",
    "    scaleanchor=\"x\",\n",
    "    scaleratio=1,\n",
    "  )\n",
    "\n",
    "fig.layout.updatemenus[0].buttons[0].args[1][\"frame\"][\"duration\"] = 200\n",
    "fig.layout.updatemenus[0].buttons[0].args[1][\"transition\"][\"duration\"] = 0\n",
    "\n",
    "fig.update_layout(\n",
    "    font_family=\"Epistemix Label\",\n",
    "    title=\"Rebellion model; Grand Isle County, VT\",\n",
    "    title_font_size=24,\n",
    ")\n",
    "\n",
    "fig.show()"
   ]
  },
  {
   "cell_type": "code",
   "execution_count": null,
   "id": "56245a6c-d3d5-4db6-9117-11dbcb210199",
   "metadata": {
    "tags": []
   },
   "outputs": [],
   "source": [
    "epstein_rebellion_geo_job.delete(interactive=False)"
   ]
  }
 ],
 "metadata": {
  "kernelspec": {
   "display_name": "Python 3 (ipykernel)",
   "language": "python",
   "name": "python3"
  },
  "language_info": {
   "codemirror_mode": {
    "name": "ipython",
    "version": 3
   },
   "file_extension": ".py",
   "mimetype": "text/x-python",
   "name": "python",
   "nbconvert_exporter": "python",
   "pygments_lexer": "ipython3",
   "version": "3.10.10"
  }
 },
 "nbformat": 4,
 "nbformat_minor": 5
}
