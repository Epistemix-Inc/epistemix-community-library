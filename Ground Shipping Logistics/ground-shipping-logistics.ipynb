{
 "cells": [
  {
   "cell_type": "code",
   "execution_count": null,
   "id": "f07aa2b6-145f-401a-8233-12baf69d7c0b",
   "metadata": {},
   "outputs": [],
   "source": [
    "import epxexec # Epistemix package for running FRED simulations within Python\n",
    "import epxexec.epxresults as epxresults # Epistemix package for managing and accessing FRED simulation outputs\n",
    "from epxexec.fred_job import fred_job\n",
    "import pandas as pd"
   ]
  },
  {
   "cell_type": "code",
   "execution_count": null,
   "id": "bfe23c7d-3665-449a-a021-bfd78c320dd1",
   "metadata": {},
   "outputs": [],
   "source": [
    "import os\n",
    "from pathlib import Path\n",
    "os.environ[\"FRED_PROJECT\"] = str(Path.cwd().parent.parent)"
   ]
  },
  {
   "cell_type": "markdown",
   "id": "4bc72440-6d14-49bc-ac2b-378b84f93e5f",
   "metadata": {
    "tags": []
   },
   "source": [
    "# Ground logistics model\n",
    "\n",
    "This model represents a ground transportation network. Cities represent nodes in the network and roads are edges. A table of trucks agents is read in at the beginning of the simulation. There are no human agents in the model. \n",
    "\n",
    "## Model components\n",
    "\n",
    "- `city_locations.fred`: contains the GENERATE\\_LOCATIONS condition that creates a network of cities\n",
    "- `trucks.fred`: contains the GENERATE\\_TRUCKS condition that reads the trucks agent file and the MOVE\\_TRUCKS condition that picks next locations for trucks to travel to\n",
    "- `travel_disruption.fred`: contains the DISRUPTION condition that creates travel disruptions at certain nodes as defined by an end user"
   ]
  },
  {
   "cell_type": "code",
   "execution_count": null,
   "id": "bc534698-3864-4846-8546-6df80b24a680",
   "metadata": {},
   "outputs": [],
   "source": [
    "ground_logistics = fred_job(program=\"main_GROUND_LOGISTICS.fred\")"
   ]
  },
  {
   "cell_type": "markdown",
   "id": "141937cf-4b0d-4c58-9ee4-068b11321d83",
   "metadata": {},
   "source": [
    "## Data outputs\n",
    "\n",
    "Let's take a look at the output `travel_info.csv`. The data include the distance in miles and time in days traveled by each truck each between destinations. "
   ]
  },
  {
   "cell_type": "code",
   "execution_count": null,
   "id": "57743ca6-e2b8-4988-903c-08ecb5aa49a3",
   "metadata": {},
   "outputs": [],
   "source": [
    "travel_log_df = ground_logistics.runs[1].get_csv_output('travel_log.csv')\n",
    "travel_log_df"
   ]
  }
 ],
 "metadata": {
  "kernelspec": {
   "display_name": "Python 3 (ipykernel)",
   "language": "python",
   "name": "python3"
  },
  "language_info": {
   "codemirror_mode": {
    "name": "ipython",
    "version": 3
   },
   "file_extension": ".py",
   "mimetype": "text/x-python",
   "name": "python",
   "nbconvert_exporter": "python",
   "pygments_lexer": "ipython3",
   "version": "3.10.6"
  }
 },
 "nbformat": 4,
 "nbformat_minor": 5
}
