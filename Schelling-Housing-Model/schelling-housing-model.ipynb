{
 "cells": [
  {
   "cell_type": "markdown",
   "id": "0487028c-c512-435c-ab0a-55432e7c2da8",
   "metadata": {},
   "source": [
    "### To run this model yourself: go to Run -> Run All Cells in the top left menu bar."
   ]
  },
  {
   "cell_type": "code",
   "execution_count": 1,
   "id": "1b86a019-6b85-422e-b798-c688c391167d",
   "metadata": {
    "tags": []
   },
   "outputs": [
    {
     "name": "stdout",
     "output_type": "stream",
     "text": [
      "env: PLATFORM_API_URL=https://studio.dev.epistemix.cloud/v1\n"
     ]
    }
   ],
   "source": [
    "%env PLATFORM_API_URL=https://studio.dev.epistemix.cloud/v1"
   ]
  },
  {
   "cell_type": "code",
   "execution_count": null,
   "id": "d29583f9-b5ca-4242-8c56-c932d29f84ef",
   "metadata": {
    "tags": []
   },
   "outputs": [],
   "source": [
    "import epxexec\n",
    "import epxexec.epxresults\n",
    "from epxexec.fred_job import fred_job\n",
    "from epxexec.visual.utils import default_plotly_template\n",
    "\n",
    "import pandas as pd\n",
    "import json\n",
    "import plotly.express as px\n",
    "import plotly.io as pio\n",
    "\n",
    "pio.templates[\"epistemix\"] = default_plotly_template()\n",
    "pio.templates.default = \"epistemix\""
   ]
  },
  {
   "cell_type": "markdown",
   "id": "4e120840-a5a3-4bdb-9a3e-fd452fe7ef62",
   "metadata": {},
   "source": [
    "# Schelling Model\n",
    "\n",
    "An implementation of the Schelling model of racial segregation in housing, using the household locations (N~8000) of Kewaunee County, Wisconsin. If you'd like to learn more about how this model works in detail, check out Lesson 8 in the Quickstart Guide.\n",
    "\n",
    "In brief, agents are assigned one of two colors, in this case blue and red. At each timestep in the simulation, agents assess the color distribution of the residents in their block group and determine if enough agents are of a similar color to themselves.\n",
    "\n",
    "If the agent is happy with the number of similar agents, they remain in their current household. If they are unhappy, the seek a new location to live from a shared list of available, empty houses.  This cycle repeats everyday.\n",
    "\n",
    "## Key simulation variables\n",
    "\n",
    "- number of households: 7,393\n",
    "- fraction of household that are empty: 0.1\n",
    "- desired neighborhood similarity fraction: 0.5"
   ]
  },
  {
   "cell_type": "code",
   "execution_count": null,
   "id": "42aaae2a-af74-4848-899e-7ffc20b7bb7e",
   "metadata": {
    "tags": []
   },
   "outputs": [],
   "source": [
    "%%time\n",
    "schelling_job = fred_job(\"model/schelling_block.fred\")"
   ]
  },
  {
   "cell_type": "code",
   "execution_count": null,
   "id": "c9c93963-06dd-42df-ae4b-3a5ac24ecc4f",
   "metadata": {
    "tags": []
   },
   "outputs": [],
   "source": [
    "# prep the data for visualization\n",
    "\n",
    "block_history = schelling_job.runs[1].get_csv_output(\"block_color_history.csv\")\n",
    "house_info = schelling_job.runs[1].get_csv_output(\"household_info.csv\")\n",
    "agent_info = schelling_job.runs[1].get_csv_output(\"agent_info.csv\")\n",
    "agent_house_history = schelling_job.runs[1].get_csv_output(\"agent_house_history.csv\")\n",
    "agent_house_history = pd.merge(\n",
    "    agent_house_history,\n",
    "    house_info[[\"household_id\",\"house_lat\",\"house_long\"]],\n",
    "    how=\"left\",on=\"household_id\"\n",
    ")"
   ]
  },
  {
   "cell_type": "markdown",
   "id": "3df53f14-150d-4296-9413-0250462fe501",
   "metadata": {
    "tags": []
   },
   "source": [
    "In the map below, each colored dot represents a householder agent who is either blue or red. Over time, the dots move around as agents who are unhappy seek out a new home in a block group that meets the similarity value defined the variable `desired_similarity`. The blue lines on the map show the boundaries of the block groups that are included in this simulation (these boundaries were downloaded from the [U.S. census website](https://www.census.gov/geographies/mapping-files/time-series/geo/carto-boundary-file.2010.html#list-tab-OZSS213R7R9GVKFO5Y).)\n",
    "\n",
    "This animated map shows that by about 14 days into the simulation, the population has reached a stable equilibrium situation characterized by completely homogenous block groups - all despite the fact that the population started with a roughly 50:50 spatial distribution of color and that people are happy living with up to 50% different colored agents."
   ]
  },
  {
   "cell_type": "code",
   "execution_count": null,
   "id": "2f667d1b-1b51-4b79-8459-16a72467961b",
   "metadata": {
    "tags": []
   },
   "outputs": [],
   "source": [
    "# calculate lat, long to pass to mapbox for map center\n",
    "lat_cen = house_info['house_lat'].median()\n",
    "long_cen = house_info['house_long'].median()\n",
    "\n",
    "# set up Epistemix house map tiles\n",
    "mapstyle=\"mapbox://styles/pnowell/cl4n9fic8001i15mnfmozrt8j\"\n",
    "token=\"pk.eyJ1IjoicG5vd2VsbCIsImEiOiJja201bHptMXkwZnQyMnZxcnFveTVhM2tyIn0.Pyarp9gHCON4reKvM2fZZg\"\n",
    "\n",
    "# load the block group boundary file\n",
    "f = open(\"Kewaunee_County_WI_blockgroups.geojson\")\n",
    "blocks_json = json.load(f)\n",
    "\n",
    "# create the figure\n",
    "fig1 = px.scatter_mapbox(\n",
    "    agent_house_history, lat=\"house_lat\", lon=\"house_long\",\n",
    "    color=\"agent_color\",\n",
    "    color_continuous_scale=[\n",
    "                (0,\"rgba(235,90,54,1)\"), # red\n",
    "                (1,\"rgba(40, 95, 223, 1)\") # blue\n",
    "    ],\n",
    "    animation_frame='date', height=700, zoom=9.25,\n",
    "    labels={'agent_color':'Agent color'}\n",
    ")\n",
    "\n",
    "fig1.update_layout(\n",
    "    mapbox={'layers': [{\n",
    "        'source': blocks_json,\n",
    "        'type': \"line\", 'below': \"traces\", 'color': \"#6383F3\",\n",
    "        'opacity': 1.0\n",
    "    }]}\n",
    ")\n",
    "\n",
    "fig1.update_layout(mapbox_style=mapstyle, mapbox_accesstoken=token)\n",
    "fig1.update(layout_coloraxis_showscale=False)\n",
    "fig1.update_layout(margin={\"r\":20,\"t\":10,\"l\":10,\"b\":3})\n",
    "fig1.show()"
   ]
  },
  {
   "cell_type": "markdown",
   "id": "0498a1a6-edab-4dbe-96aa-c26435f3e1bd",
   "metadata": {},
   "source": [
    "We can also examine the aggregate characteristics of the county's block groups. The map below shows each block group of Kewaunee County, with the color representing the fraction of households that are blue."
   ]
  },
  {
   "cell_type": "code",
   "execution_count": null,
   "id": "7c7110cb-e34c-4eec-9fe3-11471eb13a1b",
   "metadata": {
    "tags": []
   },
   "outputs": [],
   "source": [
    "# calculate lat, long to pass to mapbox for map center\n",
    "lat_cen = house_info['house_lat'].median()\n",
    "long_cen = house_info['house_long'].median()\n",
    "\n",
    "# set up Epistemix house map tiles\n",
    "mapstyle=\"mapbox://styles/pnowell/cl4n9fic8001i15mnfmozrt8j\"\n",
    "token=\"pk.eyJ1IjoicG5vd2VsbCIsImEiOiJja201bHptMXkwZnQyMnZxcnFveTVhM2tyIn0.Pyarp9gHCON4reKvM2fZZg\"\n",
    "\n",
    "# load the block group boundary file\n",
    "f = open(\"Kewaunee_County_WI_blockgroups.geojson\")\n",
    "blocks_json = json.load(f)\n",
    "\n",
    "# create the figure\n",
    "fig2 = px.choropleth_mapbox(\n",
    "    block_history, geojson=blocks_json,\n",
    "    locations='blockgroup_id', color='frac_blue',\n",
    "    color_continuous_scale=[\n",
    "        (0,\"rgba(235,90,54,1)\"), # blue\n",
    "        (1,\"rgba(40, 95, 223, 1)\") # red\n",
    "        #(0,\"rgba(249, 183, 45,1)\"),\n",
    "        #(1,\"rgba(196, 200, 204,1)\"),\n",
    "        #(1,\"rgba(104, 148, 255,1)\")\n",
    "    ],\n",
    "    range_color=(0, 1),featureidkey=\"properties.GEOID10\",\n",
    "    hover_data=block_history.columns,\n",
    "    animation_frame='date',\n",
    "    zoom=9.25, height=700,\n",
    "    center = {\"lat\": lat_cen,\"lon\": long_cen},\n",
    "    labels={'frac_blue':'Blue fraction'}\n",
    ")\n",
    "\n",
    "fig2.update_layout(mapbox_style=mapstyle, mapbox_accesstoken=token)\n",
    "fig2.layout.updatemenus[0].buttons[0].args[1]['frame']['duration'] = 300\n",
    "fig2.update_layout(coloraxis_colorbar_orientation='h')\n",
    "fig2.update_layout(coloraxis_colorbar_y=-0.1)\n",
    "fig2.update_layout(margin={\"r\":0,\"t\":0,\"l\":0,\"b\":0.3})\n",
    "fig2.show()"
   ]
  },
  {
   "cell_type": "code",
   "execution_count": null,
   "id": "01277f27-8ff4-4ff2-a461-6b7adfeb2836",
   "metadata": {},
   "outputs": [],
   "source": []
  }
 ],
 "metadata": {
  "kernelspec": {
   "display_name": "Python 3 (ipykernel)",
   "language": "python",
   "name": "python3"
  },
  "language_info": {
   "codemirror_mode": {
    "name": "ipython",
    "version": 3
   },
   "file_extension": ".py",
   "mimetype": "text/x-python",
   "name": "python",
   "nbconvert_exporter": "python",
   "pygments_lexer": "ipython3",
   "version": "3.10.10"
  }
 },
 "nbformat": 4,
 "nbformat_minor": 5
}
