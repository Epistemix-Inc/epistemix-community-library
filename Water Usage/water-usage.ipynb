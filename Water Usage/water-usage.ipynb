{
 "cells": [
  {
   "cell_type": "markdown",
   "id": "6293e1da-1b45-48b3-95e8-6cd43e7dc7b5",
   "metadata": {},
   "source": [
    "# Water Usage Model"
   ]
  },
  {
   "cell_type": "code",
   "execution_count": null,
   "id": "942b120e-9733-48be-8d97-63bf664111e5",
   "metadata": {
    "tags": []
   },
   "outputs": [],
   "source": [
    "import epxexec # Epistemix package for running FRED simulations within Python\n",
    "from epxexec import epxresults # Expistemix package for managing and accessing FRED simulation outputs\n",
    "from epxexec.fred_job import fred_job\n",
    "import pandas as pd\n",
    "import matplotlib.pyplot as plt\n",
    "import os\n",
    "from pathlib import Path\n",
    "\n",
    "os.environ[\"FRED_PROJECT\"] = str(Path.cwd().parent.parent)"
   ]
  },
  {
   "cell_type": "markdown",
   "id": "8137b4dd-ee9e-4593-a631-19475f90b047",
   "metadata": {},
   "source": [
    "## Household Water Usage Depends on Demographics\n",
    "\n",
    "The basic water usage model calculates daily household water use. First, the number of individuals (adults at least 16 years old and juveniles younger than 16) in each household is extracted. Then, the household size is used to determine the number of times each household does each activity (except for lawn watering which is done an average of once/week regardless of household size). The following activities are assumed to add to water usage: \n",
    "\n",
    "| Activity      | Water used (L) | Frequency |\n",
    "| ----------- | ----------- |-----------|\n",
    "| Lawn      | 3000       |  1/week |\n",
    "| Laundry   | 70        |   1/day |\n",
    "| Toilet    | 9 | 8/day |\n",
    "| Shower    | 50 | 1/day |\n",
    "| Eat/Drink | 8  | 5/day |\n",
    "| Clean     | 3  | 1/day |\n",
    "\n",
    "\n",
    "The table above shows the average amount of water used for each activity for a single individual. The total amount of water used each day is drawn from a poisson distribution with the averages shown in the table above and multiplied by household size. "
   ]
  },
  {
   "cell_type": "code",
   "execution_count": null,
   "id": "e9fe5b07-b91b-4e6e-9ff7-1e26747816bc",
   "metadata": {},
   "outputs": [],
   "source": [
    "water_job = fred_job(\"main_WATER.fred\")\n",
    "path_to_job=water_job.path_to_job"
   ]
  },
  {
   "cell_type": "code",
   "execution_count": null,
   "id": "a4a69c9d-94a4-4a7f-b673-96e3b453135a",
   "metadata": {},
   "outputs": [],
   "source": [
    "path_to_job"
   ]
  },
  {
   "cell_type": "code",
   "execution_count": null,
   "id": "8851ae12-50ce-412c-8a32-dc2850db91e9",
   "metadata": {
    "tags": []
   },
   "outputs": [],
   "source": [
    "water_dat = pd.read_csv(path_to_job+\"/OUT/RUN1/CSV/monthly_household_data.csv\")\n",
    "water_dat['Date'] = pd.to_datetime(water_dat['Date'], format=\"%Y%m%d\")\n",
    "water_dat"
   ]
  },
  {
   "cell_type": "code",
   "execution_count": null,
   "id": "bb612182-81a2-4d20-8136-c209a70d2a71",
   "metadata": {
    "tags": []
   },
   "outputs": [],
   "source": [
    "# single adults\n",
    "single_adult = water_dat.loc[(water_dat['Num_Adults']==1) & (water_dat['Num_Kids']==0)]\n",
    "single_adult = single_adult.pivot(index='Date', columns='HH_ID', values='Household_Usage')\n",
    "mu1 = single_adult.median(axis=1)\n",
    "lower1 = single_adult.quantile(axis=1, q=.25)\n",
    "higher1 = single_adult.quantile(axis=1, q=.75)\n",
    "\n",
    "# multi adult households\n",
    "multi_adult = water_dat.loc[(water_dat['Num_Adults']>1) & (water_dat['Num_Kids']==0)]\n",
    "multi_adult = multi_adult.pivot(index='Date', columns='HH_ID', values='Household_Usage')\n",
    "mu2 = multi_adult.median(axis=1)\n",
    "lower2 = multi_adult.quantile(axis=1, q=.25)\n",
    "higher2 = multi_adult.quantile(axis=1, q=.75)\n",
    "\n",
    "# households with children\n",
    "with_kids = water_dat.loc[(water_dat['Num_Adults']>0) & (water_dat['Num_Kids']>0)]\n",
    "with_kids = with_kids.pivot(index='Date', columns='HH_ID', values='Household_Usage')\n",
    "mu3 = with_kids.median(axis=1)\n",
    "lower3 = with_kids.quantile(axis=1, q=.25)\n",
    "higher3 = with_kids.quantile(axis=1, q=.75)"
   ]
  },
  {
   "cell_type": "code",
   "execution_count": null,
   "id": "8559f3c2-e222-4a77-a2a6-3a8fe50b634d",
   "metadata": {
    "tags": []
   },
   "outputs": [],
   "source": [
    "fig, ax = plt.subplots(1)\n",
    "ax.plot(mu1, lw=2, label='Single Adult', color='blue')\n",
    "ax.plot(mu2, lw=2, label='Multi Adult', color='purple')\n",
    "ax.plot(mu3, lw=2, label='Adults with Kids', color='green')\n",
    "ax.legend(loc='best')\n",
    "fig.autofmt_xdate()\n",
    "ax.set_xlabel('Date')\n",
    "ax.set_ylabel('Monthly Water Usage')\n",
    "ax.set_ylim(10000, 40000)\n",
    "ax.grid()"
   ]
  }
 ],
 "metadata": {
  "kernelspec": {
   "display_name": "Python 3 (ipykernel)",
   "language": "python",
   "name": "python3"
  },
  "language_info": {
   "codemirror_mode": {
    "name": "ipython",
    "version": 3
   },
   "file_extension": ".py",
   "mimetype": "text/x-python",
   "name": "python",
   "nbconvert_exporter": "python",
   "pygments_lexer": "ipython3",
   "version": "3.10.6"
  }
 },
 "nbformat": 4,
 "nbformat_minor": 5
}
